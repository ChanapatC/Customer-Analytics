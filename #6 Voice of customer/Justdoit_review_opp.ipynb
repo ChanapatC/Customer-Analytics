{
  "nbformat": 4,
  "nbformat_minor": 0,
  "metadata": {
    "colab": {
      "provenance": [],
      "include_colab_link": true
    },
    "kernelspec": {
      "name": "python3",
      "display_name": "Python 3"
    },
    "language_info": {
      "name": "python"
    }
  },
  "cells": [
    {
      "cell_type": "markdown",
      "metadata": {
        "id": "view-in-github",
        "colab_type": "text"
      },
      "source": [
        "<a href=\"https://colab.research.google.com/github/ChanapatC/Customer-Analytics/blob/main/Justdoit_review_opp.ipynb\" target=\"_parent\"><img src=\"https://colab.research.google.com/assets/colab-badge.svg\" alt=\"Open In Colab\"/></a>"
      ]
    },
    {
      "cell_type": "code",
      "execution_count": null,
      "metadata": {
        "id": "NNuLmf7gvzsK"
      },
      "outputs": [],
      "source": [
        "import numpy as np\n",
        "import pandas as pd\n"
      ]
    },
    {
      "cell_type": "code",
      "source": [
        "!pip install pyLDAvis"
      ],
      "metadata": {
        "id": "Wda5FwMAkfLx",
        "colab": {
          "base_uri": "https://localhost:8080/"
        },
        "outputId": "022c1c40-de1a-4834-c5dc-e3d27e029285"
      },
      "execution_count": null,
      "outputs": [
        {
          "output_type": "stream",
          "name": "stdout",
          "text": [
            "Requirement already satisfied: pyLDAvis in /usr/local/lib/python3.10/dist-packages (3.4.1)\n",
            "Requirement already satisfied: numpy>=1.24.2 in /usr/local/lib/python3.10/dist-packages (from pyLDAvis) (1.25.1)\n",
            "Requirement already satisfied: scipy in /usr/local/lib/python3.10/dist-packages (from pyLDAvis) (1.10.1)\n",
            "Requirement already satisfied: pandas>=2.0.0 in /usr/local/lib/python3.10/dist-packages (from pyLDAvis) (2.0.3)\n",
            "Requirement already satisfied: joblib>=1.2.0 in /usr/local/lib/python3.10/dist-packages (from pyLDAvis) (1.3.1)\n",
            "Requirement already satisfied: jinja2 in /usr/local/lib/python3.10/dist-packages (from pyLDAvis) (3.1.2)\n",
            "Requirement already satisfied: numexpr in /usr/local/lib/python3.10/dist-packages (from pyLDAvis) (2.8.4)\n",
            "Requirement already satisfied: funcy in /usr/local/lib/python3.10/dist-packages (from pyLDAvis) (2.0)\n",
            "Requirement already satisfied: scikit-learn>=1.0.0 in /usr/local/lib/python3.10/dist-packages (from pyLDAvis) (1.2.2)\n",
            "Requirement already satisfied: gensim in /usr/local/lib/python3.10/dist-packages (from pyLDAvis) (4.3.1)\n",
            "Requirement already satisfied: setuptools in /usr/local/lib/python3.10/dist-packages (from pyLDAvis) (67.7.2)\n",
            "Requirement already satisfied: python-dateutil>=2.8.2 in /usr/local/lib/python3.10/dist-packages (from pandas>=2.0.0->pyLDAvis) (2.8.2)\n",
            "Requirement already satisfied: pytz>=2020.1 in /usr/local/lib/python3.10/dist-packages (from pandas>=2.0.0->pyLDAvis) (2022.7.1)\n",
            "Requirement already satisfied: tzdata>=2022.1 in /usr/local/lib/python3.10/dist-packages (from pandas>=2.0.0->pyLDAvis) (2023.3)\n",
            "Requirement already satisfied: threadpoolctl>=2.0.0 in /usr/local/lib/python3.10/dist-packages (from scikit-learn>=1.0.0->pyLDAvis) (3.2.0)\n",
            "Requirement already satisfied: smart-open>=1.8.1 in /usr/local/lib/python3.10/dist-packages (from gensim->pyLDAvis) (6.3.0)\n",
            "Requirement already satisfied: MarkupSafe>=2.0 in /usr/local/lib/python3.10/dist-packages (from jinja2->pyLDAvis) (2.1.3)\n",
            "Requirement already satisfied: six>=1.5 in /usr/local/lib/python3.10/dist-packages (from python-dateutil>=2.8.2->pandas>=2.0.0->pyLDAvis) (1.16.0)\n"
          ]
        }
      ]
    },
    {
      "cell_type": "code",
      "source": [
        "import gensim\n",
        "import pyLDAvis.gensim\n",
        "pyLDAvis.enable_notebook()\n",
        "import warnings\n",
        "warnings.filterwarnings(\"ignore\", category=DeprecationWarning)"
      ],
      "metadata": {
        "id": "jFMvh8GHv51p"
      },
      "execution_count": null,
      "outputs": []
    },
    {
      "cell_type": "code",
      "source": [
        "!pip install --upgrade pythainlp\n"
      ],
      "metadata": {
        "id": "xB6eM8v8wCof",
        "colab": {
          "base_uri": "https://localhost:8080/"
        },
        "outputId": "573e7a41-17c8-491a-9017-fe7c6d292c86"
      },
      "execution_count": null,
      "outputs": [
        {
          "output_type": "stream",
          "name": "stdout",
          "text": [
            "Collecting pythainlp\n",
            "  Downloading pythainlp-4.0.2-py3-none-any.whl (13.4 MB)\n",
            "\u001b[2K     \u001b[90m━━━━━━━━━━━━━━━━━━━━━━━━━━━━━━━━━━━━━━━━\u001b[0m \u001b[32m13.4/13.4 MB\u001b[0m \u001b[31m17.6 MB/s\u001b[0m eta \u001b[36m0:00:00\u001b[0m\n",
            "\u001b[?25hRequirement already satisfied: requests>=2.22.0 in /usr/local/lib/python3.10/dist-packages (from pythainlp) (2.27.1)\n",
            "Requirement already satisfied: urllib3<1.27,>=1.21.1 in /usr/local/lib/python3.10/dist-packages (from requests>=2.22.0->pythainlp) (1.26.16)\n",
            "Requirement already satisfied: certifi>=2017.4.17 in /usr/local/lib/python3.10/dist-packages (from requests>=2.22.0->pythainlp) (2023.7.22)\n",
            "Requirement already satisfied: charset-normalizer~=2.0.0 in /usr/local/lib/python3.10/dist-packages (from requests>=2.22.0->pythainlp) (2.0.12)\n",
            "Requirement already satisfied: idna<4,>=2.5 in /usr/local/lib/python3.10/dist-packages (from requests>=2.22.0->pythainlp) (3.4)\n",
            "Installing collected packages: pythainlp\n",
            "Successfully installed pythainlp-4.0.2\n"
          ]
        }
      ]
    },
    {
      "cell_type": "code",
      "source": [
        "import pythainlp"
      ],
      "metadata": {
        "id": "C9qcC4iGw9nf"
      },
      "execution_count": null,
      "outputs": []
    },
    {
      "cell_type": "code",
      "source": [
        "df = pd.read_csv('JDI_review_oppenheimer_movie.csv')"
      ],
      "metadata": {
        "id": "-fuhSAzZwPpp"
      },
      "execution_count": null,
      "outputs": []
    },
    {
      "cell_type": "code",
      "source": [
        "df.tail()"
      ],
      "metadata": {
        "id": "5fNO_1RYwpYf",
        "colab": {
          "base_uri": "https://localhost:8080/",
          "height": 206
        },
        "outputId": "bf1f270b-47fa-477a-9fb0-89c6172bda52"
      },
      "execution_count": null,
      "outputs": [
        {
          "output_type": "execute_result",
          "data": {
            "text/plain": [
              "    review_id                                            comment\n",
              "7         349     โนแลน คือคนที่ทำให้เชื่อทุกครั้ง ในสิ่งที่เล่า\n",
              "8         907  ชอบเพราะแค่ดู เราก็แทบจะสัมผัสได้ทั้ง รูป รส ก...\n",
              "9         899  นำเสรอได้น่าดูมากเลยคะ ดารานำรุ้ว่าเล่นดีตีบทแ...\n",
              "10        474  Nolan หนังคุณภาพ ที่คนชอบดูหนังไม่ควรพลาด อีกเ...\n",
              "11        616  คำพูดที่ว่าโลกยังไม่พร้อม ก็คงแบบเดียวกับ ai ล..."
            ],
            "text/html": [
              "\n",
              "\n",
              "  <div id=\"df-7bb48051-148e-4f89-8f88-0fcd6e241988\">\n",
              "    <div class=\"colab-df-container\">\n",
              "      <div>\n",
              "<style scoped>\n",
              "    .dataframe tbody tr th:only-of-type {\n",
              "        vertical-align: middle;\n",
              "    }\n",
              "\n",
              "    .dataframe tbody tr th {\n",
              "        vertical-align: top;\n",
              "    }\n",
              "\n",
              "    .dataframe thead th {\n",
              "        text-align: right;\n",
              "    }\n",
              "</style>\n",
              "<table border=\"1\" class=\"dataframe\">\n",
              "  <thead>\n",
              "    <tr style=\"text-align: right;\">\n",
              "      <th></th>\n",
              "      <th>review_id</th>\n",
              "      <th>comment</th>\n",
              "    </tr>\n",
              "  </thead>\n",
              "  <tbody>\n",
              "    <tr>\n",
              "      <th>7</th>\n",
              "      <td>349</td>\n",
              "      <td>โนแลน คือคนที่ทำให้เชื่อทุกครั้ง ในสิ่งที่เล่า</td>\n",
              "    </tr>\n",
              "    <tr>\n",
              "      <th>8</th>\n",
              "      <td>907</td>\n",
              "      <td>ชอบเพราะแค่ดู เราก็แทบจะสัมผัสได้ทั้ง รูป รส ก...</td>\n",
              "    </tr>\n",
              "    <tr>\n",
              "      <th>9</th>\n",
              "      <td>899</td>\n",
              "      <td>นำเสรอได้น่าดูมากเลยคะ ดารานำรุ้ว่าเล่นดีตีบทแ...</td>\n",
              "    </tr>\n",
              "    <tr>\n",
              "      <th>10</th>\n",
              "      <td>474</td>\n",
              "      <td>Nolan หนังคุณภาพ ที่คนชอบดูหนังไม่ควรพลาด อีกเ...</td>\n",
              "    </tr>\n",
              "    <tr>\n",
              "      <th>11</th>\n",
              "      <td>616</td>\n",
              "      <td>คำพูดที่ว่าโลกยังไม่พร้อม ก็คงแบบเดียวกับ ai ล...</td>\n",
              "    </tr>\n",
              "  </tbody>\n",
              "</table>\n",
              "</div>\n",
              "      <button class=\"colab-df-convert\" onclick=\"convertToInteractive('df-7bb48051-148e-4f89-8f88-0fcd6e241988')\"\n",
              "              title=\"Convert this dataframe to an interactive table.\"\n",
              "              style=\"display:none;\">\n",
              "\n",
              "  <svg xmlns=\"http://www.w3.org/2000/svg\" height=\"24px\"viewBox=\"0 0 24 24\"\n",
              "       width=\"24px\">\n",
              "    <path d=\"M0 0h24v24H0V0z\" fill=\"none\"/>\n",
              "    <path d=\"M18.56 5.44l.94 2.06.94-2.06 2.06-.94-2.06-.94-.94-2.06-.94 2.06-2.06.94zm-11 1L8.5 8.5l.94-2.06 2.06-.94-2.06-.94L8.5 2.5l-.94 2.06-2.06.94zm10 10l.94 2.06.94-2.06 2.06-.94-2.06-.94-.94-2.06-.94 2.06-2.06.94z\"/><path d=\"M17.41 7.96l-1.37-1.37c-.4-.4-.92-.59-1.43-.59-.52 0-1.04.2-1.43.59L10.3 9.45l-7.72 7.72c-.78.78-.78 2.05 0 2.83L4 21.41c.39.39.9.59 1.41.59.51 0 1.02-.2 1.41-.59l7.78-7.78 2.81-2.81c.8-.78.8-2.07 0-2.86zM5.41 20L4 18.59l7.72-7.72 1.47 1.35L5.41 20z\"/>\n",
              "  </svg>\n",
              "      </button>\n",
              "\n",
              "\n",
              "\n",
              "    <div id=\"df-e583aa3d-fd50-41c0-b502-7ef48d33744b\">\n",
              "      <button class=\"colab-df-quickchart\" onclick=\"quickchart('df-e583aa3d-fd50-41c0-b502-7ef48d33744b')\"\n",
              "              title=\"Suggest charts.\"\n",
              "              style=\"display:none;\">\n",
              "\n",
              "<svg xmlns=\"http://www.w3.org/2000/svg\" height=\"24px\"viewBox=\"0 0 24 24\"\n",
              "     width=\"24px\">\n",
              "    <g>\n",
              "        <path d=\"M19 3H5c-1.1 0-2 .9-2 2v14c0 1.1.9 2 2 2h14c1.1 0 2-.9 2-2V5c0-1.1-.9-2-2-2zM9 17H7v-7h2v7zm4 0h-2V7h2v10zm4 0h-2v-4h2v4z\"/>\n",
              "    </g>\n",
              "</svg>\n",
              "      </button>\n",
              "    </div>\n",
              "\n",
              "<style>\n",
              "  .colab-df-quickchart {\n",
              "    background-color: #E8F0FE;\n",
              "    border: none;\n",
              "    border-radius: 50%;\n",
              "    cursor: pointer;\n",
              "    display: none;\n",
              "    fill: #1967D2;\n",
              "    height: 32px;\n",
              "    padding: 0 0 0 0;\n",
              "    width: 32px;\n",
              "  }\n",
              "\n",
              "  .colab-df-quickchart:hover {\n",
              "    background-color: #E2EBFA;\n",
              "    box-shadow: 0px 1px 2px rgba(60, 64, 67, 0.3), 0px 1px 3px 1px rgba(60, 64, 67, 0.15);\n",
              "    fill: #174EA6;\n",
              "  }\n",
              "\n",
              "  [theme=dark] .colab-df-quickchart {\n",
              "    background-color: #3B4455;\n",
              "    fill: #D2E3FC;\n",
              "  }\n",
              "\n",
              "  [theme=dark] .colab-df-quickchart:hover {\n",
              "    background-color: #434B5C;\n",
              "    box-shadow: 0px 1px 3px 1px rgba(0, 0, 0, 0.15);\n",
              "    filter: drop-shadow(0px 1px 2px rgba(0, 0, 0, 0.3));\n",
              "    fill: #FFFFFF;\n",
              "  }\n",
              "</style>\n",
              "\n",
              "    <script>\n",
              "      async function quickchart(key) {\n",
              "        const containerElement = document.querySelector('#' + key);\n",
              "        const charts = await google.colab.kernel.invokeFunction(\n",
              "            'suggestCharts', [key], {});\n",
              "      }\n",
              "    </script>\n",
              "\n",
              "      <script>\n",
              "\n",
              "function displayQuickchartButton(domScope) {\n",
              "  let quickchartButtonEl =\n",
              "    domScope.querySelector('#df-e583aa3d-fd50-41c0-b502-7ef48d33744b button.colab-df-quickchart');\n",
              "  quickchartButtonEl.style.display =\n",
              "    google.colab.kernel.accessAllowed ? 'block' : 'none';\n",
              "}\n",
              "\n",
              "        displayQuickchartButton(document);\n",
              "      </script>\n",
              "      <style>\n",
              "    .colab-df-container {\n",
              "      display:flex;\n",
              "      flex-wrap:wrap;\n",
              "      gap: 12px;\n",
              "    }\n",
              "\n",
              "    .colab-df-convert {\n",
              "      background-color: #E8F0FE;\n",
              "      border: none;\n",
              "      border-radius: 50%;\n",
              "      cursor: pointer;\n",
              "      display: none;\n",
              "      fill: #1967D2;\n",
              "      height: 32px;\n",
              "      padding: 0 0 0 0;\n",
              "      width: 32px;\n",
              "    }\n",
              "\n",
              "    .colab-df-convert:hover {\n",
              "      background-color: #E2EBFA;\n",
              "      box-shadow: 0px 1px 2px rgba(60, 64, 67, 0.3), 0px 1px 3px 1px rgba(60, 64, 67, 0.15);\n",
              "      fill: #174EA6;\n",
              "    }\n",
              "\n",
              "    [theme=dark] .colab-df-convert {\n",
              "      background-color: #3B4455;\n",
              "      fill: #D2E3FC;\n",
              "    }\n",
              "\n",
              "    [theme=dark] .colab-df-convert:hover {\n",
              "      background-color: #434B5C;\n",
              "      box-shadow: 0px 1px 3px 1px rgba(0, 0, 0, 0.15);\n",
              "      filter: drop-shadow(0px 1px 2px rgba(0, 0, 0, 0.3));\n",
              "      fill: #FFFFFF;\n",
              "    }\n",
              "  </style>\n",
              "\n",
              "      <script>\n",
              "        const buttonEl =\n",
              "          document.querySelector('#df-7bb48051-148e-4f89-8f88-0fcd6e241988 button.colab-df-convert');\n",
              "        buttonEl.style.display =\n",
              "          google.colab.kernel.accessAllowed ? 'block' : 'none';\n",
              "\n",
              "        async function convertToInteractive(key) {\n",
              "          const element = document.querySelector('#df-7bb48051-148e-4f89-8f88-0fcd6e241988');\n",
              "          const dataTable =\n",
              "            await google.colab.kernel.invokeFunction('convertToInteractive',\n",
              "                                                     [key], {});\n",
              "          if (!dataTable) return;\n",
              "\n",
              "          const docLinkHtml = 'Like what you see? Visit the ' +\n",
              "            '<a target=\"_blank\" href=https://colab.research.google.com/notebooks/data_table.ipynb>data table notebook</a>'\n",
              "            + ' to learn more about interactive tables.';\n",
              "          element.innerHTML = '';\n",
              "          dataTable['output_type'] = 'display_data';\n",
              "          await google.colab.output.renderOutput(dataTable, element);\n",
              "          const docLink = document.createElement('div');\n",
              "          docLink.innerHTML = docLinkHtml;\n",
              "          element.appendChild(docLink);\n",
              "        }\n",
              "      </script>\n",
              "    </div>\n",
              "  </div>\n"
            ]
          },
          "metadata": {},
          "execution_count": 7
        }
      ]
    },
    {
      "cell_type": "markdown",
      "source": [
        "TOKENIZED"
      ],
      "metadata": {
        "id": "KowWT78apxIu"
      }
    },
    {
      "cell_type": "code",
      "source": [
        "stopwords = list(pythainlp.corpus.thai_stopwords())\n",
        "removed_words = ['หนัง', ' ',]\n",
        "screening_words = stopwords + removed_words\n",
        "\n",
        "def tokenize_with_space (sentence):\n",
        "  merged = ''\n",
        "  words = pythainlp.word_tokenize(str(sentence), engine='newmm')\n",
        "  for word in words:\n",
        "    if word not in screening_words:\n",
        "      merged = merged + ',' + word\n",
        "  return merged [1:]"
      ],
      "metadata": {
        "id": "grL0ROEZy8fm"
      },
      "execution_count": null,
      "outputs": []
    },
    {
      "cell_type": "code",
      "source": [
        "df['review_tokenized'] = df['comment'].apply(lambda x: tokenize_with_space(x))"
      ],
      "metadata": {
        "id": "1klL4-E4z-Tb"
      },
      "execution_count": null,
      "outputs": []
    },
    {
      "cell_type": "code",
      "source": [
        "df.tail()"
      ],
      "metadata": {
        "id": "W-iI4o3Z0T9S",
        "colab": {
          "base_uri": "https://localhost:8080/",
          "height": 206
        },
        "outputId": "8e95ccfb-af60-4dd5-bfa2-4378384759a3"
      },
      "execution_count": null,
      "outputs": [
        {
          "output_type": "execute_result",
          "data": {
            "text/plain": [
              "    review_id                                            comment  \\\n",
              "7         349     โนแลน คือคนที่ทำให้เชื่อทุกครั้ง ในสิ่งที่เล่า   \n",
              "8         907  ชอบเพราะแค่ดู เราก็แทบจะสัมผัสได้ทั้ง รูป รส ก...   \n",
              "9         899  นำเสรอได้น่าดูมากเลยคะ ดารานำรุ้ว่าเล่นดีตีบทแ...   \n",
              "10        474  Nolan หนังคุณภาพ ที่คนชอบดูหนังไม่ควรพลาด อีกเ...   \n",
              "11        616  คำพูดที่ว่าโลกยังไม่พร้อม ก็คงแบบเดียวกับ ai ล...   \n",
              "\n",
              "                                     review_tokenized  \n",
              "7                                      โน,แลน,คน,เล่า  \n",
              "8   ชอบ,ดู,แทบจะ,สัมผัส,รูป,รส,กลิ่น,เสียง,เหมือน,...  \n",
              "9   เส,รอ,น่าดู,ดารา,รุ้,เล่น,ดี,ตีบทแตก,เรื่อง,ดา...  \n",
              "10             Nolan,คุณภาพ,คน,ชอบ,ดู,พลาด,เรื่อง,นึง  \n",
              "11  คำพูด,โลก,ai,มั้ง,สุดท้าย,กำเนิด,แปล,ให้ได้,ปล...  "
            ],
            "text/html": [
              "\n",
              "\n",
              "  <div id=\"df-1ab5b1a3-5da6-475d-b532-d079584d88ce\">\n",
              "    <div class=\"colab-df-container\">\n",
              "      <div>\n",
              "<style scoped>\n",
              "    .dataframe tbody tr th:only-of-type {\n",
              "        vertical-align: middle;\n",
              "    }\n",
              "\n",
              "    .dataframe tbody tr th {\n",
              "        vertical-align: top;\n",
              "    }\n",
              "\n",
              "    .dataframe thead th {\n",
              "        text-align: right;\n",
              "    }\n",
              "</style>\n",
              "<table border=\"1\" class=\"dataframe\">\n",
              "  <thead>\n",
              "    <tr style=\"text-align: right;\">\n",
              "      <th></th>\n",
              "      <th>review_id</th>\n",
              "      <th>comment</th>\n",
              "      <th>review_tokenized</th>\n",
              "    </tr>\n",
              "  </thead>\n",
              "  <tbody>\n",
              "    <tr>\n",
              "      <th>7</th>\n",
              "      <td>349</td>\n",
              "      <td>โนแลน คือคนที่ทำให้เชื่อทุกครั้ง ในสิ่งที่เล่า</td>\n",
              "      <td>โน,แลน,คน,เล่า</td>\n",
              "    </tr>\n",
              "    <tr>\n",
              "      <th>8</th>\n",
              "      <td>907</td>\n",
              "      <td>ชอบเพราะแค่ดู เราก็แทบจะสัมผัสได้ทั้ง รูป รส ก...</td>\n",
              "      <td>ชอบ,ดู,แทบจะ,สัมผัส,รูป,รส,กลิ่น,เสียง,เหมือน,...</td>\n",
              "    </tr>\n",
              "    <tr>\n",
              "      <th>9</th>\n",
              "      <td>899</td>\n",
              "      <td>นำเสรอได้น่าดูมากเลยคะ ดารานำรุ้ว่าเล่นดีตีบทแ...</td>\n",
              "      <td>เส,รอ,น่าดู,ดารา,รุ้,เล่น,ดี,ตีบทแตก,เรื่อง,ดา...</td>\n",
              "    </tr>\n",
              "    <tr>\n",
              "      <th>10</th>\n",
              "      <td>474</td>\n",
              "      <td>Nolan หนังคุณภาพ ที่คนชอบดูหนังไม่ควรพลาด อีกเ...</td>\n",
              "      <td>Nolan,คุณภาพ,คน,ชอบ,ดู,พลาด,เรื่อง,นึง</td>\n",
              "    </tr>\n",
              "    <tr>\n",
              "      <th>11</th>\n",
              "      <td>616</td>\n",
              "      <td>คำพูดที่ว่าโลกยังไม่พร้อม ก็คงแบบเดียวกับ ai ล...</td>\n",
              "      <td>คำพูด,โลก,ai,มั้ง,สุดท้าย,กำเนิด,แปล,ให้ได้,ปล...</td>\n",
              "    </tr>\n",
              "  </tbody>\n",
              "</table>\n",
              "</div>\n",
              "      <button class=\"colab-df-convert\" onclick=\"convertToInteractive('df-1ab5b1a3-5da6-475d-b532-d079584d88ce')\"\n",
              "              title=\"Convert this dataframe to an interactive table.\"\n",
              "              style=\"display:none;\">\n",
              "\n",
              "  <svg xmlns=\"http://www.w3.org/2000/svg\" height=\"24px\"viewBox=\"0 0 24 24\"\n",
              "       width=\"24px\">\n",
              "    <path d=\"M0 0h24v24H0V0z\" fill=\"none\"/>\n",
              "    <path d=\"M18.56 5.44l.94 2.06.94-2.06 2.06-.94-2.06-.94-.94-2.06-.94 2.06-2.06.94zm-11 1L8.5 8.5l.94-2.06 2.06-.94-2.06-.94L8.5 2.5l-.94 2.06-2.06.94zm10 10l.94 2.06.94-2.06 2.06-.94-2.06-.94-.94-2.06-.94 2.06-2.06.94z\"/><path d=\"M17.41 7.96l-1.37-1.37c-.4-.4-.92-.59-1.43-.59-.52 0-1.04.2-1.43.59L10.3 9.45l-7.72 7.72c-.78.78-.78 2.05 0 2.83L4 21.41c.39.39.9.59 1.41.59.51 0 1.02-.2 1.41-.59l7.78-7.78 2.81-2.81c.8-.78.8-2.07 0-2.86zM5.41 20L4 18.59l7.72-7.72 1.47 1.35L5.41 20z\"/>\n",
              "  </svg>\n",
              "      </button>\n",
              "\n",
              "\n",
              "\n",
              "    <div id=\"df-7e4c076a-bed0-4485-a9f2-c573c39e8e52\">\n",
              "      <button class=\"colab-df-quickchart\" onclick=\"quickchart('df-7e4c076a-bed0-4485-a9f2-c573c39e8e52')\"\n",
              "              title=\"Suggest charts.\"\n",
              "              style=\"display:none;\">\n",
              "\n",
              "<svg xmlns=\"http://www.w3.org/2000/svg\" height=\"24px\"viewBox=\"0 0 24 24\"\n",
              "     width=\"24px\">\n",
              "    <g>\n",
              "        <path d=\"M19 3H5c-1.1 0-2 .9-2 2v14c0 1.1.9 2 2 2h14c1.1 0 2-.9 2-2V5c0-1.1-.9-2-2-2zM9 17H7v-7h2v7zm4 0h-2V7h2v10zm4 0h-2v-4h2v4z\"/>\n",
              "    </g>\n",
              "</svg>\n",
              "      </button>\n",
              "    </div>\n",
              "\n",
              "<style>\n",
              "  .colab-df-quickchart {\n",
              "    background-color: #E8F0FE;\n",
              "    border: none;\n",
              "    border-radius: 50%;\n",
              "    cursor: pointer;\n",
              "    display: none;\n",
              "    fill: #1967D2;\n",
              "    height: 32px;\n",
              "    padding: 0 0 0 0;\n",
              "    width: 32px;\n",
              "  }\n",
              "\n",
              "  .colab-df-quickchart:hover {\n",
              "    background-color: #E2EBFA;\n",
              "    box-shadow: 0px 1px 2px rgba(60, 64, 67, 0.3), 0px 1px 3px 1px rgba(60, 64, 67, 0.15);\n",
              "    fill: #174EA6;\n",
              "  }\n",
              "\n",
              "  [theme=dark] .colab-df-quickchart {\n",
              "    background-color: #3B4455;\n",
              "    fill: #D2E3FC;\n",
              "  }\n",
              "\n",
              "  [theme=dark] .colab-df-quickchart:hover {\n",
              "    background-color: #434B5C;\n",
              "    box-shadow: 0px 1px 3px 1px rgba(0, 0, 0, 0.15);\n",
              "    filter: drop-shadow(0px 1px 2px rgba(0, 0, 0, 0.3));\n",
              "    fill: #FFFFFF;\n",
              "  }\n",
              "</style>\n",
              "\n",
              "    <script>\n",
              "      async function quickchart(key) {\n",
              "        const containerElement = document.querySelector('#' + key);\n",
              "        const charts = await google.colab.kernel.invokeFunction(\n",
              "            'suggestCharts', [key], {});\n",
              "      }\n",
              "    </script>\n",
              "\n",
              "      <script>\n",
              "\n",
              "function displayQuickchartButton(domScope) {\n",
              "  let quickchartButtonEl =\n",
              "    domScope.querySelector('#df-7e4c076a-bed0-4485-a9f2-c573c39e8e52 button.colab-df-quickchart');\n",
              "  quickchartButtonEl.style.display =\n",
              "    google.colab.kernel.accessAllowed ? 'block' : 'none';\n",
              "}\n",
              "\n",
              "        displayQuickchartButton(document);\n",
              "      </script>\n",
              "      <style>\n",
              "    .colab-df-container {\n",
              "      display:flex;\n",
              "      flex-wrap:wrap;\n",
              "      gap: 12px;\n",
              "    }\n",
              "\n",
              "    .colab-df-convert {\n",
              "      background-color: #E8F0FE;\n",
              "      border: none;\n",
              "      border-radius: 50%;\n",
              "      cursor: pointer;\n",
              "      display: none;\n",
              "      fill: #1967D2;\n",
              "      height: 32px;\n",
              "      padding: 0 0 0 0;\n",
              "      width: 32px;\n",
              "    }\n",
              "\n",
              "    .colab-df-convert:hover {\n",
              "      background-color: #E2EBFA;\n",
              "      box-shadow: 0px 1px 2px rgba(60, 64, 67, 0.3), 0px 1px 3px 1px rgba(60, 64, 67, 0.15);\n",
              "      fill: #174EA6;\n",
              "    }\n",
              "\n",
              "    [theme=dark] .colab-df-convert {\n",
              "      background-color: #3B4455;\n",
              "      fill: #D2E3FC;\n",
              "    }\n",
              "\n",
              "    [theme=dark] .colab-df-convert:hover {\n",
              "      background-color: #434B5C;\n",
              "      box-shadow: 0px 1px 3px 1px rgba(0, 0, 0, 0.15);\n",
              "      filter: drop-shadow(0px 1px 2px rgba(0, 0, 0, 0.3));\n",
              "      fill: #FFFFFF;\n",
              "    }\n",
              "  </style>\n",
              "\n",
              "      <script>\n",
              "        const buttonEl =\n",
              "          document.querySelector('#df-1ab5b1a3-5da6-475d-b532-d079584d88ce button.colab-df-convert');\n",
              "        buttonEl.style.display =\n",
              "          google.colab.kernel.accessAllowed ? 'block' : 'none';\n",
              "\n",
              "        async function convertToInteractive(key) {\n",
              "          const element = document.querySelector('#df-1ab5b1a3-5da6-475d-b532-d079584d88ce');\n",
              "          const dataTable =\n",
              "            await google.colab.kernel.invokeFunction('convertToInteractive',\n",
              "                                                     [key], {});\n",
              "          if (!dataTable) return;\n",
              "\n",
              "          const docLinkHtml = 'Like what you see? Visit the ' +\n",
              "            '<a target=\"_blank\" href=https://colab.research.google.com/notebooks/data_table.ipynb>data table notebook</a>'\n",
              "            + ' to learn more about interactive tables.';\n",
              "          element.innerHTML = '';\n",
              "          dataTable['output_type'] = 'display_data';\n",
              "          await google.colab.output.renderOutput(dataTable, element);\n",
              "          const docLink = document.createElement('div');\n",
              "          docLink.innerHTML = docLinkHtml;\n",
              "          element.appendChild(docLink);\n",
              "        }\n",
              "      </script>\n",
              "    </div>\n",
              "  </div>\n"
            ]
          },
          "metadata": {},
          "execution_count": 10
        }
      ]
    },
    {
      "cell_type": "markdown",
      "source": [
        "**CREATE DICTIONARY**"
      ],
      "metadata": {
        "id": "55VM4enaqXNr"
      }
    },
    {
      "cell_type": "code",
      "source": [
        "documents = df['review_tokenized'].to_list()\n",
        "texts = [[text for text in doc.split(',')] for doc in documents]\n",
        "dictionary = gensim.corpora.Dictionary(texts)"
      ],
      "metadata": {
        "id": "B_NP3dfc1SDZ"
      },
      "execution_count": null,
      "outputs": []
    },
    {
      "cell_type": "code",
      "source": [
        "print(dictionary.token2id.keys())"
      ],
      "metadata": {
        "id": "d1PBuAzO1-LD",
        "colab": {
          "base_uri": "https://localhost:8080/"
        },
        "outputId": "1108342d-5e05-4c9a-ab76-eb687a1d6485"
      },
      "execution_count": null,
      "outputs": [
        {
          "output_type": "stream",
          "name": "stdout",
          "text": [
            "dict_keys(['ขาย', 'คับ', 'ชัดเจน', 'ตลาด', 'ตัวเอง', 'ทั่วโลก', 'ทำเงิน', 'ผู้กำกับ', 'ลายเซ็น', 'หา', 'แลน', 'โน', 'กำกับ', 'กี่', 'คน', 'ชื่อ', 'ดารา', 'น่าดู', 'ผู้ชม', 'ร่วมงาน', 'สนใจ', 'เก่ง', 'แทบ', 'การคัดเลือก', 'ดง', 'บท', 'ปฏิเสธ', 'ประทับใจ', 'ฝีมือ', 'พูดถึง', 'ฟี่', 'รับบท', 'เ', 'เมอร์', 'เรื่อง', 'เส', 'เหมาะกับ', 'ไม่ต้อง', 'cg', 'ความตั้งใจ', 'ความสมจริง', 'คุณภาพ', 'งาน', 'จิตวิญญาณ', 'ฉาก', 'ชอบ', 'ผลงาน', 'ภาพ', 'สัมผัส', 'เจ๋ง', 'ใส่', 'ให้ได้', 'Batnan', 'wow', 'การ์ตูน', 'ก้อ', 'ขนาด', 'คัว', 'ดู', 'ตอน', 'ถาม', 'ผม', 'มาจาก', 'ว้าว', 'สมจริง', 'สร้าง', 'หนังสือ', 'เบื่อ', 'เสมอ', 'แลน์', 'โจํกเกอร์', 'โดยเฉพาะ', 'blinders', 'peaky', 'การแสดง', 'คำตอบ', 'ชาย', 'ทึ่ง', 'อ.', 'แนะนำ', 'แน่นอน', 'ได้ดี', 'ไหม', '555', 'CGI', 'IMAX', 'ของจริง', 'ควรจะ', 'ตัอง', 'ต่างจังหวัด', 'นักแสดง', 'พ่อ', 'ระเบิด', 'อด', 'เบื้องหลัง', 'เสด็จ', 'โรง', 'เล่า', 'กลิ่น', 'คนดู', 'ดึง', 'ตรงนั้น', 'ทำ', 'พล็อต', 'ยืน', 'รส', 'รูป', 'สื่อสาร', 'หลุด', 'ออกมา', 'เกิดขึ้น', 'เสียง', 'เหมือน', 'แทบจะ', 'ดี', 'ตีบทแตก', 'นึ้', 'มิชชั่น', 'ม่อน', 'รอ', 'รุ้', 'เก่', 'เก๋า', 'เล่น', 'แจม', 'แมท', 'แมน', 'โรเบิร์ต', 'ได', 'ไอรอน', 'Nolan', 'นึง', 'พลาด', 'ai', 'กำเนิด', 'คำพูด', 'ท้าทาย', 'ปล.', 'มั้ง', 'สิ่งใหม่', 'สุดท้าย', 'แปล', 'แลนด์', 'โลก'])\n"
          ]
        }
      ]
    },
    {
      "cell_type": "code",
      "source": [
        "gensim_corpus = [dictionary.doc2bow(text, allow_update=True) for text in texts]\n",
        "word_frequencies = [[(dictionary[id], frequence) for id, frequence in couple] for couple in gensim_corpus]"
      ],
      "metadata": {
        "id": "6rZlVAVu2R1w"
      },
      "execution_count": null,
      "outputs": []
    },
    {
      "cell_type": "markdown",
      "source": [
        "**TOPIC MODELING**"
      ],
      "metadata": {
        "id": "WFs7tA8GqsQN"
      }
    },
    {
      "cell_type": "code",
      "source": [
        "num_topics = 5\n",
        "chunksize = 4000 # size of the doc looked at every pass\n",
        "passes = 20 # number of passes through documents\n",
        "iterations = 50\n",
        "eval_every = 1 # Don't evaluate model perplexity, takes too much time.\n",
        "\n",
        "# Make a index to word dictionary.\n",
        "temp = dictionary[0] # This is only to \"load\" the dictionary.\n",
        "id2word = dictionary.id2token\n",
        "\n",
        "%time model = gensim.models.LdaModel(corpus=gensim_corpus, id2word=id2word, chunksize=chunksize, \\\n",
        "                                     alpha='auto', eta='auto',\\\n",
        "                                     iterations=iterations, num_topics=num_topics,\\\n",
        "                                     passes=passes, eval_every=eval_every)"
      ],
      "metadata": {
        "id": "5eupmNI13aAu",
        "colab": {
          "base_uri": "https://localhost:8080/"
        },
        "outputId": "434451ff-3d85-4212-8c3a-13633c4171d5"
      },
      "execution_count": null,
      "outputs": [
        {
          "output_type": "stream",
          "name": "stdout",
          "text": [
            "CPU times: user 207 ms, sys: 1.04 ms, total: 208 ms\n",
            "Wall time: 451 ms\n"
          ]
        }
      ]
    },
    {
      "cell_type": "code",
      "source": [
        "# Visualize the topic model\n",
        "vis = pyLDAvis.gensim.prepare(model, gensim_corpus, dictionary, mds='mmds')\n",
        "vis"
      ],
      "metadata": {
        "id": "LrvOevhOBhU5",
        "colab": {
          "base_uri": "https://localhost:8080/",
          "height": 916
        },
        "outputId": "ca08ad9a-fb9a-4ee8-ae73-f56ecc4f3fd1"
      },
      "execution_count": null,
      "outputs": [
        {
          "output_type": "stream",
          "name": "stderr",
          "text": [
            "/usr/local/lib/python3.10/dist-packages/sklearn/manifold/_mds.py:299: FutureWarning: The default value of `normalized_stress` will change to `'auto'` in version 1.4. To suppress this warning, manually set the value of `normalized_stress`.\n",
            "  warnings.warn(\n"
          ]
        },
        {
          "output_type": "execute_result",
          "data": {
            "text/plain": [
              "PreparedData(topic_coordinates=              x         y  topics  cluster       Freq\n",
              "topic                                                \n",
              "4      0.091622  0.111156       1        1  28.686944\n",
              "2      0.014894 -0.159792       2        1  24.178578\n",
              "3     -0.111812 -0.038007       3        1  21.845190\n",
              "1     -0.070576  0.110443       4        1  18.443215\n",
              "0      0.075872 -0.023800       5        1   6.846074, topic_info=        Term      Freq     Total Category  logprob  loglift\n",
              "10       แลน  4.000000  4.000000  Default  30.0000  30.0000\n",
              "14        คน  4.000000  4.000000  Default  29.0000  29.0000\n",
              "45       ชอบ  3.000000  3.000000  Default  28.0000  28.0000\n",
              "7   ผู้กำกับ  2.000000  2.000000  Default  27.0000  27.0000\n",
              "30       ฟี่  1.000000  1.000000  Default  26.0000  26.0000\n",
              "..       ...       ...       ...      ...      ...      ...\n",
              "11        โน  0.065941  5.600321   Topic5  -5.3654  -1.7603\n",
              "55       ก้อ  0.065941  1.230134   Topic5  -5.3654  -0.2446\n",
              "69      แลน์  0.065940  1.230135   Topic5  -5.3654  -0.2446\n",
              "64    สมจริง  0.065939  1.230136   Topic5  -5.3654  -0.2447\n",
              "59       ตอน  0.065938  1.230137   Topic5  -5.3654  -0.2447\n",
              "\n",
              "[227 rows x 6 columns], token_table=      Topic      Freq     Term\n",
              "term                          \n",
              "83        3  0.852871      555\n",
              "52        1  0.812921   Batnan\n",
              "84        3  0.852871      CGI\n",
              "85        3  0.852872     IMAX\n",
              "130       1  0.812889    Nolan\n",
              "...     ...       ...      ...\n",
              "51        3  0.420143   ให้ได้\n",
              "51        4  0.420143   ให้ได้\n",
              "128       3  0.852872       ได\n",
              "37        1  0.812889  ไม่ต้อง\n",
              "129       3  0.852872    ไอรอน\n",
              "\n",
              "[154 rows x 3 columns], R=30, lambda_step=0.01, plot_opts={'xlab': 'PC1', 'ylab': 'PC2'}, topic_order=[5, 3, 4, 2, 1])"
            ],
            "text/html": [
              "\n",
              "<link rel=\"stylesheet\" type=\"text/css\" href=\"https://cdn.jsdelivr.net/gh/bmabey/pyLDAvis@3.4.0/pyLDAvis/js/ldavis.v1.0.0.css\">\n",
              "\n",
              "\n",
              "<div id=\"ldavis_el8571365122325070883149486136\" style=\"background-color:white;\"></div>\n",
              "<script type=\"text/javascript\">\n",
              "\n",
              "var ldavis_el8571365122325070883149486136_data = {\"mdsDat\": {\"x\": [0.09162246117371475, 0.01489366693693642, -0.11181188966757308, -0.07057636266823723, 0.07587212422515915], \"y\": [0.1111557724606658, -0.15979184050050999, -0.03800749863641177, 0.11044331135794905, -0.023799744681693102], \"topics\": [1, 2, 3, 4, 5], \"cluster\": [1, 1, 1, 1, 1], \"Freq\": [28.686944274016597, 24.178577922990367, 21.84518951831642, 18.443214703307884, 6.846073581368732]}, \"tinfo\": {\"Term\": [\"\\u0e41\\u0e25\\u0e19\", \"\\u0e04\\u0e19\", \"\\u0e0a\\u0e2d\\u0e1a\", \"\\u0e1c\\u0e39\\u0e49\\u0e01\\u0e33\\u0e01\\u0e31\\u0e1a\", \"\\u0e1f\\u0e35\\u0e48\", \"\\u0e40\\u0e21\\u0e2d\\u0e23\\u0e4c\", \"\\u0e40\\u0e23\\u0e37\\u0e48\\u0e2d\\u0e07\", \"\\u0e04\\u0e19\\u0e14\\u0e39\", \"\\u0e42\\u0e19\", \"\\u0e09\\u0e32\\u0e01\", \"\\u0e41\\u0e19\\u0e48\\u0e19\\u0e2d\\u0e19\", \"blinders\", \"\\u0e44\\u0e2b\\u0e21\", \"peaky\", \"\\u0e01\\u0e32\\u0e23\\u0e41\\u0e2a\\u0e14\\u0e07\", \"\\u0e41\\u0e19\\u0e30\\u0e19\\u0e33\", \"\\u0e17\\u0e36\\u0e48\\u0e07\", \"\\u0e44\\u0e14\\u0e49\\u0e14\\u0e35\", \"\\u0e04\\u0e33\\u0e15\\u0e2d\\u0e1a\", \"\\u0e0a\\u0e32\\u0e22\", \"\\u0e2d.\", \"\\u0e14\\u0e39\", \"\\u0e14\\u0e32\\u0e23\\u0e32\", \"\\u0e0a\\u0e37\\u0e48\\u0e2d\", \"\\u0e19\\u0e48\\u0e32\\u0e14\\u0e39\", \"\\u0e14\\u0e07\", \"\\u0e04\\u0e38\\u0e13\\u0e20\\u0e32\\u0e1e\", \"\\u0e40\", \"\\u0e40\\u0e2a\", \"\\u0e1c\\u0e21\", \"\\u0e09\\u0e32\\u0e01\", \"\\u0e14\\u0e07\", \"\\u0e04\\u0e38\\u0e13\\u0e20\\u0e32\\u0e1e\", \"\\u0e01\\u0e32\\u0e23\\u0e04\\u0e31\\u0e14\\u0e40\\u0e25\\u0e37\\u0e2d\\u0e01\", \"\\u0e1b\\u0e23\\u0e30\\u0e17\\u0e31\\u0e1a\\u0e43\\u0e08\", \"\\u0e1d\\u0e35\\u0e21\\u0e37\\u0e2d\", \"\\u0e1b\\u0e0f\\u0e34\\u0e40\\u0e2a\\u0e18\", \"\\u0e44\\u0e21\\u0e48\\u0e15\\u0e49\\u0e2d\\u0e07\", \"\\u0e1e\\u0e39\\u0e14\\u0e16\\u0e36\\u0e07\", \"\\u0e1a\\u0e17\", \"\\u0e40\\u0e2b\\u0e21\\u0e32\\u0e30\\u0e01\\u0e31\\u0e1a\", \"\\u0e23\\u0e31\\u0e1a\\u0e1a\\u0e17\", \"Nolan\", \"\\u0e19\\u0e36\\u0e07\", \"\\u0e1e\\u0e25\\u0e32\\u0e14\", \"\\u0e04\\u0e31\\u0e27\", \"\\u0e40\\u0e1a\\u0e37\\u0e48\\u0e2d\", \"\\u0e2b\\u0e19\\u0e31\\u0e07\\u0e2a\\u0e37\\u0e2d\", \"\\u0e42\\u0e08\\u0e4d\\u0e01\\u0e40\\u0e01\\u0e2d\\u0e23\\u0e4c\", \"\\u0e02\\u0e19\\u0e32\\u0e14\", \"\\u0e42\\u0e14\\u0e22\\u0e40\\u0e09\\u0e1e\\u0e32\\u0e30\", \"\\u0e27\\u0e49\\u0e32\\u0e27\", \"\\u0e15\\u0e2d\\u0e19\", \"\\u0e21\\u0e32\\u0e08\\u0e32\\u0e01\", \"\\u0e41\\u0e25\\u0e19\\u0e4c\", \"\\u0e01\\u0e49\\u0e2d\", \"\\u0e16\\u0e32\\u0e21\", \"\\u0e2a\\u0e21\\u0e08\\u0e23\\u0e34\\u0e07\", \"Batnan\", \"wow\", \"\\u0e40\\u0e23\\u0e37\\u0e48\\u0e2d\\u0e07\", \"\\u0e40\\u0e2a\", \"\\u0e40\", \"\\u0e1c\\u0e21\", \"\\u0e14\\u0e39\", \"\\u0e0a\\u0e2d\\u0e1a\", \"\\u0e42\\u0e19\", \"\\u0e04\\u0e19\", \"\\u0e01\\u0e35\\u0e48\", \"\\u0e1f\\u0e35\\u0e48\", \"\\u0e40\\u0e21\\u0e2d\\u0e23\\u0e4c\", \"\\u0e1c\\u0e39\\u0e49\\u0e01\\u0e33\\u0e01\\u0e31\\u0e1a\", \"\\u0e0a\\u0e37\\u0e48\\u0e2d\", \"\\u0e41\\u0e25\\u0e19\", \"\\u0e04\\u0e19\", \"\\u0e2b\\u0e32\", \"\\u0e04\\u0e31\\u0e1a\", \"\\u0e25\\u0e32\\u0e22\\u0e40\\u0e0b\\u0e47\\u0e19\", \"\\u0e0a\\u0e31\\u0e14\\u0e40\\u0e08\\u0e19\", \"\\u0e15\\u0e25\\u0e32\\u0e14\", \"\\u0e17\\u0e31\\u0e48\\u0e27\\u0e42\\u0e25\\u0e01\", \"\\u0e15\\u0e31\\u0e27\\u0e40\\u0e2d\\u0e07\", \"\\u0e17\\u0e33\\u0e40\\u0e07\\u0e34\\u0e19\", \"\\u0e02\\u0e32\\u0e22\", \"\\u0e40\\u0e25\\u0e48\\u0e32\", \"\\u0e01\\u0e33\\u0e01\\u0e31\\u0e1a\", \"\\u0e23\\u0e48\\u0e27\\u0e21\\u0e07\\u0e32\\u0e19\", \"\\u0e2a\\u0e19\\u0e43\\u0e08\", \"\\u0e1c\\u0e39\\u0e49\\u0e0a\\u0e21\", \"\\u0e40\\u0e01\\u0e48\\u0e07\", \"\\u0e1c\\u0e25\\u0e07\\u0e32\\u0e19\", \"\\u0e04\\u0e27\\u0e32\\u0e21\\u0e15\\u0e31\\u0e49\\u0e07\\u0e43\\u0e08\", \"\\u0e40\\u0e08\\u0e4b\\u0e07\", \"\\u0e20\\u0e32\\u0e1e\", \"\\u0e07\\u0e32\\u0e19\", \"cg\", \"\\u0e08\\u0e34\\u0e15\\u0e27\\u0e34\\u0e0d\\u0e0d\\u0e32\\u0e13\", \"\\u0e42\\u0e19\", \"\\u0e04\\u0e27\\u0e32\\u0e21\\u0e2a\\u0e21\\u0e08\\u0e23\\u0e34\\u0e07\", \"\\u0e43\\u0e2a\\u0e48\", \"\\u0e14\\u0e32\\u0e23\\u0e32\", \"\\u0e41\\u0e17\\u0e1a\", \"\\u0e2a\\u0e31\\u0e21\\u0e1c\\u0e31\\u0e2a\", \"\\u0e01\\u0e35\\u0e48\", \"\\u0e19\\u0e48\\u0e32\\u0e14\\u0e39\", \"\\u0e43\\u0e2b\\u0e49\\u0e44\\u0e14\\u0e49\", \"\\u0e42\\u0e23\\u0e40\\u0e1a\\u0e34\\u0e23\\u0e4c\\u0e15\", \"\\u0e19\\u0e36\\u0e49\", \"\\u0e44\\u0e14\", \"\\u0e40\\u0e01\\u0e48\", \"\\u0e14\\u0e35\", \"\\u0e41\\u0e21\\u0e19\", \"\\u0e21\\u0e34\\u0e0a\\u0e0a\\u0e31\\u0e48\\u0e19\", \"\\u0e40\\u0e01\\u0e4b\\u0e32\", \"\\u0e44\\u0e2d\\u0e23\\u0e2d\\u0e19\", \"\\u0e41\\u0e21\\u0e17\", \"\\u0e15\\u0e35\\u0e1a\\u0e17\\u0e41\\u0e15\\u0e01\", \"\\u0e40\\u0e25\\u0e48\\u0e19\", \"\\u0e23\\u0e38\\u0e49\", \"\\u0e23\\u0e2d\", \"\\u0e41\\u0e08\\u0e21\", \"\\u0e15\\u0e48\\u0e32\\u0e07\\u0e08\\u0e31\\u0e07\\u0e2b\\u0e27\\u0e31\\u0e14\", \"\\u0e42\\u0e23\\u0e07\", \"\\u0e21\\u0e48\\u0e2d\\u0e19\", \"\\u0e23\\u0e30\\u0e40\\u0e1a\\u0e34\\u0e14\", \"\\u0e04\\u0e27\\u0e23\\u0e08\\u0e30\", \"\\u0e1e\\u0e48\\u0e2d\", \"IMAX\", \"\\u0e2d\\u0e14\", \"\\u0e19\\u0e31\\u0e01\\u0e41\\u0e2a\\u0e14\\u0e07\", \"\\u0e15\\u0e31\\u0e2d\\u0e07\", \"CGI\", \"\\u0e40\\u0e1a\\u0e37\\u0e49\\u0e2d\\u0e07\\u0e2b\\u0e25\\u0e31\\u0e07\", \"\\u0e40\\u0e2a\\u0e14\\u0e47\\u0e08\", \"\\u0e02\\u0e2d\\u0e07\\u0e08\\u0e23\\u0e34\\u0e07\", \"555\", \"\\u0e19\\u0e48\\u0e32\\u0e14\\u0e39\", \"\\u0e14\\u0e32\\u0e23\\u0e32\", \"\\u0e14\\u0e39\", \"\\u0e40\\u0e23\\u0e37\\u0e48\\u0e2d\\u0e07\", \"\\u0e40\", \"\\u0e41\\u0e17\\u0e1a\", \"\\u0e40\\u0e2a\", \"\\u0e43\\u0e2b\\u0e49\\u0e44\\u0e14\\u0e49\", \"\\u0e04\\u0e19\\u0e14\\u0e39\", \"\\u0e04\\u0e33\\u0e1e\\u0e39\\u0e14\", \"\\u0e01\\u0e33\\u0e40\\u0e19\\u0e34\\u0e14\", \"\\u0e42\\u0e25\\u0e01\", \"\\u0e41\\u0e1b\\u0e25\", \"\\u0e1b\\u0e25.\", \"ai\", \"\\u0e41\\u0e25\\u0e19\\u0e14\\u0e4c\", \"\\u0e2a\\u0e34\\u0e48\\u0e07\\u0e43\\u0e2b\\u0e21\\u0e48\", \"\\u0e17\\u0e49\\u0e32\\u0e17\\u0e32\\u0e22\", \"\\u0e2a\\u0e38\\u0e14\\u0e17\\u0e49\\u0e32\\u0e22\", \"\\u0e21\\u0e31\\u0e49\\u0e07\", \"\\u0e23\\u0e2a\", \"\\u0e2b\\u0e25\\u0e38\\u0e14\", \"\\u0e1e\\u0e25\\u0e47\\u0e2d\\u0e15\", \"\\u0e40\\u0e01\\u0e34\\u0e14\\u0e02\\u0e36\\u0e49\\u0e19\", \"\\u0e2a\\u0e37\\u0e48\\u0e2d\\u0e2a\\u0e32\\u0e23\", \"\\u0e23\\u0e39\\u0e1b\", \"\\u0e01\\u0e25\\u0e34\\u0e48\\u0e19\", \"\\u0e2d\\u0e2d\\u0e01\\u0e21\\u0e32\", \"\\u0e40\\u0e2b\\u0e21\\u0e37\\u0e2d\\u0e19\", \"\\u0e40\\u0e2a\\u0e35\\u0e22\\u0e07\", \"\\u0e15\\u0e23\\u0e07\\u0e19\\u0e31\\u0e49\\u0e19\", \"\\u0e41\\u0e17\\u0e1a\\u0e08\\u0e30\", \"\\u0e17\\u0e33\", \"\\u0e22\\u0e37\\u0e19\", \"\\u0e14\\u0e36\\u0e07\", \"\\u0e0a\\u0e2d\\u0e1a\", \"\\u0e2a\\u0e31\\u0e21\\u0e1c\\u0e31\\u0e2a\", \"\\u0e40\\u0e2a\\u0e21\\u0e2d\", \"\\u0e14\\u0e39\", \"\\u0e43\\u0e2b\\u0e49\\u0e44\\u0e14\\u0e49\", \"\\u0e42\\u0e19\", \"\\u0e40\\u0e23\\u0e37\\u0e48\\u0e2d\\u0e07\", \"\\u0e41\\u0e19\\u0e48\\u0e19\\u0e2d\\u0e19\", \"blinders\", \"peaky\", \"\\u0e44\\u0e2b\\u0e21\", \"\\u0e17\\u0e36\\u0e48\\u0e07\", \"\\u0e41\\u0e19\\u0e30\\u0e19\\u0e33\", \"\\u0e01\\u0e32\\u0e23\\u0e41\\u0e2a\\u0e14\\u0e07\", \"\\u0e04\\u0e33\\u0e15\\u0e2d\\u0e1a\", \"\\u0e44\\u0e14\\u0e49\\u0e14\\u0e35\", \"\\u0e2d.\", \"\\u0e0a\\u0e32\\u0e22\", \"\\u0e1f\\u0e35\\u0e48\", \"\\u0e40\\u0e21\\u0e2d\\u0e23\\u0e4c\", \"\\u0e04\\u0e19\", \"\\u0e17\\u0e49\\u0e32\\u0e17\\u0e32\\u0e22\", \"\\u0e2a\\u0e38\\u0e14\\u0e17\\u0e49\\u0e32\\u0e22\", \"\\u0e42\\u0e25\\u0e01\", \"\\u0e41\\u0e1b\\u0e25\", \"\\u0e1b\\u0e25.\", \"ai\", \"\\u0e2a\\u0e34\\u0e48\\u0e07\\u0e43\\u0e2b\\u0e21\\u0e48\", \"\\u0e21\\u0e31\\u0e49\\u0e07\", \"\\u0e01\\u0e33\\u0e40\\u0e19\\u0e34\\u0e14\", \"\\u0e41\\u0e25\\u0e19\\u0e14\\u0e4c\", \"\\u0e04\\u0e33\\u0e1e\\u0e39\\u0e14\", \"\\u0e23\\u0e2a\", \"\\u0e2b\\u0e25\\u0e38\\u0e14\", \"\\u0e1e\\u0e25\\u0e47\\u0e2d\\u0e15\", \"\\u0e40\\u0e01\\u0e34\\u0e14\\u0e02\\u0e36\\u0e49\\u0e19\", \"\\u0e2a\\u0e37\\u0e48\\u0e2d\\u0e2a\\u0e32\\u0e23\", \"\\u0e15\\u0e23\\u0e07\\u0e19\\u0e31\\u0e49\\u0e19\", \"\\u0e40\\u0e2b\\u0e21\\u0e37\\u0e2d\\u0e19\", \"\\u0e17\\u0e33\", \"\\u0e2a\\u0e23\\u0e49\\u0e32\\u0e07\", \"\\u0e01\\u0e32\\u0e23\\u0e4c\\u0e15\\u0e39\\u0e19\", \"\\u0e14\\u0e39\", \"\\u0e1c\\u0e21\", \"\\u0e40\\u0e23\\u0e37\\u0e48\\u0e2d\\u0e07\", \"\\u0e09\\u0e32\\u0e01\", \"\\u0e40\\u0e2a\\u0e21\\u0e2d\", \"wow\", \"Batnan\", \"\\u0e01\\u0e35\\u0e48\", \"\\u0e16\\u0e32\\u0e21\", \"\\u0e42\\u0e19\", \"\\u0e01\\u0e49\\u0e2d\", \"\\u0e41\\u0e25\\u0e19\\u0e4c\", \"\\u0e2a\\u0e21\\u0e08\\u0e23\\u0e34\\u0e07\", \"\\u0e15\\u0e2d\\u0e19\"], \"Freq\": [4.0, 4.0, 3.0, 2.0, 1.0, 1.0, 5.0, 1.0, 5.0, 2.0, 0.0, 0.0, 0.0, 0.0, 0.0, 0.0, 0.0, 0.0, 0.0, 0.0, 0.0, 5.0, 3.0, 1.0, 2.0, 1.0, 1.0, 2.0, 2.0, 2.0, 2.1297380724105155, 1.4684412327588794, 1.4581021662281632, 0.8009629017868635, 0.8009629017868635, 0.8009629017868635, 0.8009627917136536, 0.8009627917136536, 0.8009627917136536, 0.8009627366770486, 0.8009627366770486, 0.8009627366770486, 0.8009620212011844, 0.8009620212011844, 0.8009620212011844, 0.8008952067627879, 0.8008911340540225, 0.8008890426630347, 0.8008888775532199, 0.8008786407447012, 0.8008786407447012, 0.8008712108030344, 0.800865982325565, 0.80086603736217, 0.800862404946244, 0.8008610290311206, 0.800860588738281, 0.8008586074205032, 0.8008542595287129, 0.8008406654872929, 3.467442381819545, 1.4684497083960402, 1.4684469565657932, 1.468216243117887, 2.803241040378834, 1.457694234912352, 0.8348411792867899, 0.8014751825056399, 0.8010512905743962, 0.800963287043098, 0.800963287043098, 2.0403418288703077, 1.4033199498610895, 3.31684763358239, 2.6792038878542215, 0.7656204467260747, 0.7656204467260747, 0.7656203539516873, 0.7656203539516873, 0.7656202147901061, 0.7656202147901061, 0.765620075628525, 0.7656199364669438, 0.7656198436925563, 0.7656184520767448, 0.7654905625836712, 0.7654664876301328, 0.7654475152679031, 0.7654439898411808, 0.7654350834999873, 0.7581686223788368, 0.7528802039721039, 0.7477584547523909, 0.7338160878732821, 0.7266811344463151, 0.7191829229053617, 0.7113654283100642, 3.285326236611262, 0.6558027085160193, 0.6533150560914428, 1.4034530811070531, 0.7655023913180686, 0.752758530362988, 0.7654486285605523, 0.7655323574452089, 0.747412081576917, 0.7317307120525643, 0.7317251798624813, 0.7317224137674397, 0.7317219946621304, 0.7317177197879753, 0.7317142831244389, 0.7317136963770058, 0.7317126067032016, 0.7317124390610779, 0.7317117684925829, 0.7317115170293974, 0.7317111817451499, 0.7317107626398406, 0.7317082480079846, 0.7317047275233863, 0.731701207038788, 0.7317008717545406, 0.7317009555756024, 0.7317005364702931, 0.7317004526492312, 0.7316983571226846, 0.7316953395644575, 0.7316882985952609, 0.7316871251003948, 0.7316861192476525, 0.7316854486791575, 0.7316849457527863, 0.7316841913632296, 0.7316712829197024, 0.731664744876877, 1.3414712682258418, 1.3414708491205325, 1.3414843443114928, 1.341473028468141, 0.7317225814095635, 0.7317143669455007, 0.7317058171971905, 0.7316959263118906, 1.2511739628135194, 0.6825319046536792, 0.6825319046536792, 0.6825318338861613, 0.6825318338861613, 0.6825318338861613, 0.6825318338861613, 0.6825318338861613, 0.6825318338861613, 0.6825317631186434, 0.6825317631186434, 0.6825317631186434, 0.6824907179582519, 0.6824841365790856, 0.6824840658115677, 0.6824829335312811, 0.6824801735980823, 0.682471964566004, 0.682467718514929, 0.6824672939098215, 0.682466020094499, 0.6824645339766228, 0.6824627647886748, 0.6824585895051178, 0.6824574572248311, 0.6824565372470982, 0.6824459928869286, 1.8200124716030956, 0.6824816597159585, 0.6825315508160896, 1.2511966084192527, 0.6825318338861613, 0.6825300646982134, 0.6824595094828507, 0.3953735452695445, 0.3953735452695445, 0.39537349273210537, 0.39537349273210537, 0.3953734664633858, 0.3953734664633858, 0.3953734664633858, 0.39537341392594666, 0.39537341392594666, 0.3953733876572271, 0.3953733876572271, 0.39537341392594666, 0.3953733876572271, 0.39537317750747064, 0.06589607466050931, 0.06589607466050931, 0.06589605495896964, 0.06589605495896964, 0.06589605495896964, 0.06589605495896964, 0.06589605495896964, 0.06589604839178975, 0.06589604839178975, 0.06589604839178975, 0.06589604182460986, 0.06589605495896964, 0.06589604839178975, 0.06589604182460986, 0.06589604182460986, 0.06589604839178975, 0.06589606809332942, 0.06589605495896964, 0.06589606152614953, 0.06596539124424836, 0.06595189568957438, 0.06600602238622784, 0.06598991309395764, 0.06596549631912658, 0.06596164795171104, 0.06594909150376135, 0.06594723955903237, 0.06594332551981792, 0.06594100073813686, 0.06594084969299939, 0.0659407774540206, 0.065940514766825, 0.0659395887944605, 0.06593873506107481, 0.06593773684973152], \"Total\": [4.0, 4.0, 3.0, 2.0, 1.0, 1.0, 5.0, 1.0, 5.0, 2.0, 0.0, 0.0, 0.0, 0.0, 0.0, 0.0, 0.0, 0.0, 0.0, 0.0, 0.0, 5.0, 3.0, 1.0, 2.0, 1.0, 1.0, 2.0, 2.0, 2.0, 2.5647945509785317, 1.8976592152406295, 1.8971899116671482, 1.2301806205468682, 1.2301806507797437, 1.2301806540431297, 1.2301805576572147, 1.2301805654781202, 1.2301805836420987, 1.2301805865894857, 1.2301805909991705, 1.2301806080976865, 1.2301802867671994, 1.2301803000898226, 1.230180319764229, 1.230150688147927, 1.230150178050526, 1.2301475154886974, 1.2301473977786515, 1.2301429577040441, 1.2301434089445864, 1.2301399901976953, 1.2301372825914507, 1.2301388088966647, 1.2301353985621715, 1.2301344366344775, 1.2301341259903236, 1.2301360645435842, 1.2301314441686964, 1.2301272048040326, 5.688254887646364, 2.507455661587942, 2.5074546031351588, 2.507358368208016, 5.589676723436601, 3.6035219622023305, 5.600320689171217, 4.111770910575381, 1.8681585731997858, 1.5596587493268779, 1.5596587221139402, 2.47683846552548, 1.8387686570340684, 4.362666547729171, 4.111770910575381, 1.2007289211611303, 1.20072892181234, 1.200728877529653, 1.2007288863574603, 1.200728886831756, 1.200728912631773, 1.2007287990654263, 1.2007288591783973, 1.2007287827902753, 1.2007283501399768, 1.2007349741208477, 1.2007360256380915, 1.2007369143469673, 1.2007370340884207, 1.2007374892348273, 1.2010691993160028, 1.2013129447737345, 1.201548982177785, 1.2021917107167077, 1.202520570674828, 1.2028662324649009, 1.2032266715004982, 5.600320689171217, 1.2057882559552655, 1.2059030421658856, 3.0583666455035825, 1.8105319221288094, 1.7701017283693459, 1.8681585731997858, 2.4203367204908828, 2.380140206624724, 1.172508065772802, 1.1725083372427414, 1.1725084957562735, 1.1725085602189256, 1.1725086407538259, 1.172508789978327, 1.1725090273468157, 1.1725089684518908, 1.1725089763318124, 1.1725090748259028, 1.1725090268769072, 1.1725090785754277, 1.1725089799581432, 1.1725092043638334, 1.1725093085831795, 1.1725092001623283, 1.172509176454077, 1.1725095360522406, 1.1725092341361294, 1.1725092812192148, 1.1725093366069528, 1.172509484778168, 1.1725097644477167, 1.1725098297643368, 1.1725098950253485, 1.1725099018413967, 1.1725098417508608, 1.172509901888053, 1.1725105618199523, 1.1725109037851458, 2.4203367204908828, 3.0583666455035825, 5.589676723436601, 5.688254887646364, 2.5074546031351588, 1.8105319221288094, 2.507455661587942, 2.380140206624724, 1.7002922432568395, 1.1314886982429297, 1.1314887207316136, 1.1314886499682386, 1.1314886764433538, 1.1314887365137203, 1.1314887397952387, 1.13148874698721, 1.1314887491537058, 1.1314886908916133, 1.131488692010779, 1.1314887076525904, 1.1314946393239727, 1.1314959468941082, 1.1314959952694443, 1.1314962064899086, 1.1314966349707518, 1.1314979473103033, 1.1314985316699255, 1.1314984533107824, 1.1314985736404173, 1.1314988402088928, 1.1314990755089234, 1.1314999849262457, 1.131500079910431, 1.1315002536289445, 1.1315015601290805, 3.6035219622023305, 1.7701017283693459, 1.7989013434983865, 5.589676723436601, 2.380140206624724, 5.600320689171217, 5.688254887646364, 0.8921908101713404, 0.8921908251702072, 0.8921908016622135, 0.8921908287885387, 0.8921908263646257, 0.8921908648912207, 0.8921908852579803, 0.8921908593921851, 0.8921908696105854, 0.8921909279709525, 0.8921909427287195, 1.5596587493268779, 1.5596587221139402, 4.111770910575381, 1.1314886908916133, 1.131488692010779, 1.1314886499682386, 1.1314886764433538, 1.1314887365137203, 1.1314887397952387, 1.1314887491537058, 1.1314887076525904, 1.1314887207316136, 1.13148874698721, 1.1314886982429297, 1.1314946393239727, 1.1314959468941082, 1.1314959952694443, 1.1314962064899086, 1.1314966349707518, 1.1314990755089234, 1.1314985736404173, 1.131500079910431, 1.230108624867328, 1.2301227123163991, 5.589676723436601, 2.507358368208016, 5.688254887646364, 2.5647945509785317, 1.7989013434983865, 1.2301272048040326, 1.2301314441686964, 1.8681585731997858, 1.2301341259903236, 5.600320689171217, 1.2301344366344775, 1.2301353985621715, 1.2301360645435842, 1.2301372825914507], \"Category\": [\"Default\", \"Default\", \"Default\", \"Default\", \"Default\", \"Default\", \"Default\", \"Default\", \"Default\", \"Default\", \"Default\", \"Default\", \"Default\", \"Default\", \"Default\", \"Default\", \"Default\", \"Default\", \"Default\", \"Default\", \"Default\", \"Default\", \"Default\", \"Default\", \"Default\", \"Default\", \"Default\", \"Default\", \"Default\", \"Default\", \"Topic1\", \"Topic1\", \"Topic1\", \"Topic1\", \"Topic1\", \"Topic1\", \"Topic1\", \"Topic1\", \"Topic1\", \"Topic1\", \"Topic1\", \"Topic1\", \"Topic1\", \"Topic1\", \"Topic1\", \"Topic1\", \"Topic1\", \"Topic1\", \"Topic1\", \"Topic1\", \"Topic1\", \"Topic1\", \"Topic1\", \"Topic1\", \"Topic1\", \"Topic1\", \"Topic1\", \"Topic1\", \"Topic1\", \"Topic1\", \"Topic1\", \"Topic1\", \"Topic1\", \"Topic1\", \"Topic1\", \"Topic1\", \"Topic1\", \"Topic1\", \"Topic1\", \"Topic1\", \"Topic1\", \"Topic2\", \"Topic2\", \"Topic2\", \"Topic2\", \"Topic2\", \"Topic2\", \"Topic2\", \"Topic2\", \"Topic2\", \"Topic2\", \"Topic2\", \"Topic2\", \"Topic2\", \"Topic2\", \"Topic2\", \"Topic2\", \"Topic2\", \"Topic2\", \"Topic2\", \"Topic2\", \"Topic2\", \"Topic2\", \"Topic2\", \"Topic2\", \"Topic2\", \"Topic2\", \"Topic2\", \"Topic2\", \"Topic2\", \"Topic2\", \"Topic2\", \"Topic2\", \"Topic2\", \"Topic2\", \"Topic2\", \"Topic3\", \"Topic3\", \"Topic3\", \"Topic3\", \"Topic3\", \"Topic3\", \"Topic3\", \"Topic3\", \"Topic3\", \"Topic3\", \"Topic3\", \"Topic3\", \"Topic3\", \"Topic3\", \"Topic3\", \"Topic3\", \"Topic3\", \"Topic3\", \"Topic3\", \"Topic3\", \"Topic3\", \"Topic3\", \"Topic3\", \"Topic3\", \"Topic3\", \"Topic3\", \"Topic3\", \"Topic3\", \"Topic3\", \"Topic3\", \"Topic3\", \"Topic3\", \"Topic3\", \"Topic3\", \"Topic3\", \"Topic3\", \"Topic3\", \"Topic3\", \"Topic4\", \"Topic4\", \"Topic4\", \"Topic4\", \"Topic4\", \"Topic4\", \"Topic4\", \"Topic4\", \"Topic4\", \"Topic4\", \"Topic4\", \"Topic4\", \"Topic4\", \"Topic4\", \"Topic4\", \"Topic4\", \"Topic4\", \"Topic4\", \"Topic4\", \"Topic4\", \"Topic4\", \"Topic4\", \"Topic4\", \"Topic4\", \"Topic4\", \"Topic4\", \"Topic4\", \"Topic4\", \"Topic4\", \"Topic4\", \"Topic4\", \"Topic4\", \"Topic4\", \"Topic4\", \"Topic5\", \"Topic5\", \"Topic5\", \"Topic5\", \"Topic5\", \"Topic5\", \"Topic5\", \"Topic5\", \"Topic5\", \"Topic5\", \"Topic5\", \"Topic5\", \"Topic5\", \"Topic5\", \"Topic5\", \"Topic5\", \"Topic5\", \"Topic5\", \"Topic5\", \"Topic5\", \"Topic5\", \"Topic5\", \"Topic5\", \"Topic5\", \"Topic5\", \"Topic5\", \"Topic5\", \"Topic5\", \"Topic5\", \"Topic5\", \"Topic5\", \"Topic5\", \"Topic5\", \"Topic5\", \"Topic5\", \"Topic5\", \"Topic5\", \"Topic5\", \"Topic5\", \"Topic5\", \"Topic5\", \"Topic5\", \"Topic5\", \"Topic5\", \"Topic5\", \"Topic5\", \"Topic5\", \"Topic5\", \"Topic5\"], \"logprob\": [30.0, 29.0, 28.0, 27.0, 26.0, 25.0, 24.0, 23.0, 22.0, 21.0, 20.0, 19.0, 18.0, 17.0, 16.0, 15.0, 14.0, 13.0, 12.0, 11.0, 10.0, 9.0, 8.0, 7.0, 6.0, 5.0, 4.0, 3.0, 2.0, 1.0, -3.3231, -3.6949, -3.702, -4.3011, -4.3011, -4.3011, -4.3011, -4.3011, -4.3011, -4.3011, -4.3011, -4.3011, -4.3011, -4.3011, -4.3011, -4.3012, -4.3012, -4.3012, -4.3012, -4.3012, -4.3012, -4.3012, -4.3012, -4.3012, -4.3012, -4.3012, -4.3012, -4.3012, -4.3012, -4.3012, -2.8357, -3.6949, -3.6949, -3.6951, -3.0484, -3.7023, -4.2597, -4.3004, -4.301, -4.3011, -4.3011, -3.1951, -3.5693, -2.7092, -2.9227, -4.1752, -4.1752, -4.1752, -4.1752, -4.1752, -4.1752, -4.1752, -4.1752, -4.1752, -4.1752, -4.1754, -4.1754, -4.1755, -4.1755, -4.1755, -4.185, -4.192, -4.1988, -4.2177, -4.2274, -4.2378, -4.2487, -2.7187, -4.3301, -4.3339, -3.5692, -4.1754, -4.1922, -4.1755, -4.1754, -4.1993, -4.119, -4.119, -4.119, -4.119, -4.119, -4.1191, -4.1191, -4.1191, -4.1191, -4.1191, -4.1191, -4.1191, -4.1191, -4.1191, -4.1191, -4.1191, -4.1191, -4.1191, -4.1191, -4.1191, -4.1191, -4.1191, -4.1191, -4.1191, -4.1191, -4.1191, -4.1191, -4.1191, -4.1191, -4.1191, -3.5129, -3.5129, -3.5129, -3.5129, -4.119, -4.1191, -4.1191, -4.1191, -3.4133, -4.0193, -4.0193, -4.0193, -4.0193, -4.0193, -4.0193, -4.0193, -4.0193, -4.0193, -4.0193, -4.0193, -4.0194, -4.0194, -4.0194, -4.0194, -4.0194, -4.0194, -4.0194, -4.0194, -4.0194, -4.0194, -4.0194, -4.0195, -4.0195, -4.0195, -4.0195, -3.0386, -4.0194, -4.0193, -3.4133, -4.0193, -4.0194, -4.0195, -3.5743, -3.5743, -3.5743, -3.5743, -3.5743, -3.5743, -3.5743, -3.5743, -3.5743, -3.5743, -3.5743, -3.5743, -3.5743, -3.5743, -5.3661, -5.3661, -5.3661, -5.3661, -5.3661, -5.3661, -5.3661, -5.3661, -5.3661, -5.3661, -5.3661, -5.3661, -5.3661, -5.3661, -5.3661, -5.3661, -5.3661, -5.3661, -5.3661, -5.365, -5.3652, -5.3644, -5.3646, -5.365, -5.3651, -5.3653, -5.3653, -5.3653, -5.3654, -5.3654, -5.3654, -5.3654, -5.3654, -5.3654, -5.3654], \"loglift\": [30.0, 29.0, 28.0, 27.0, 26.0, 25.0, 24.0, 23.0, 22.0, 21.0, 20.0, 19.0, 18.0, 17.0, 16.0, 15.0, 14.0, 13.0, 12.0, 11.0, 10.0, 9.0, 8.0, 7.0, 6.0, 5.0, 4.0, 3.0, 2.0, 1.0, 1.0628, 0.9923, 0.9855, 0.8196, 0.8196, 0.8196, 0.8196, 0.8196, 0.8196, 0.8196, 0.8196, 0.8196, 0.8196, 0.8196, 0.8196, 0.8196, 0.8196, 0.8196, 0.8196, 0.8196, 0.8196, 0.8195, 0.8195, 0.8195, 0.8195, 0.8195, 0.8195, 0.8195, 0.8195, 0.8195, 0.7537, 0.7137, 0.7137, 0.7135, 0.5586, 0.3437, -0.6546, -0.3864, 0.4019, 0.5823, 0.5823, 1.2258, 1.1494, 1.1456, 0.9914, 0.9697, 0.9697, 0.9697, 0.9697, 0.9697, 0.9697, 0.9697, 0.9697, 0.9697, 0.9697, 0.9695, 0.9695, 0.9695, 0.9695, 0.9695, 0.9596, 0.9524, 0.9454, 0.9261, 0.916, 0.9054, 0.8941, 0.8863, 0.8107, 0.8068, 0.6408, 0.5589, 0.5647, 0.5275, 0.2686, 0.2614, 1.0497, 1.0497, 1.0497, 1.0497, 1.0497, 1.0497, 1.0497, 1.0497, 1.0497, 1.0497, 1.0497, 1.0497, 1.0497, 1.0497, 1.0497, 1.0497, 1.0497, 1.0497, 1.0497, 1.0497, 1.0497, 1.0497, 1.0496, 1.0496, 1.0496, 1.0496, 1.0496, 1.0496, 1.0496, 1.0496, 0.931, 0.6971, 0.094, 0.0766, 0.2896, 0.6152, 0.2895, 0.3416, 1.3838, 1.185, 1.185, 1.185, 1.185, 1.185, 1.185, 1.185, 1.185, 1.185, 1.185, 1.185, 1.1849, 1.1849, 1.1849, 1.1849, 1.1849, 1.1849, 1.1849, 1.1849, 1.1849, 1.1849, 1.1849, 1.1849, 1.1849, 1.1849, 1.1849, 1.0074, 0.7374, 0.7214, 0.1937, 0.4414, -0.4143, -0.43, 1.8676, 1.8676, 1.8676, 1.8676, 1.8676, 1.8676, 1.8676, 1.8676, 1.8676, 1.8676, 1.8676, 1.3091, 1.3091, 0.3397, -0.1617, -0.1617, -0.1617, -0.1617, -0.1617, -0.1617, -0.1617, -0.1617, -0.1617, -0.1617, -0.1617, -0.1617, -0.1617, -0.1617, -0.1617, -0.1617, -0.1617, -0.1617, -0.1617, -0.2442, -0.2444, -1.7574, -0.956, -1.7755, -0.9791, -0.6246, -0.2445, -0.2446, -0.6625, -0.2446, -1.7603, -0.2446, -0.2446, -0.2447, -0.2447]}, \"token.table\": {\"Topic\": [3, 1, 3, 3, 1, 4, 2, 1, 4, 1, 1, 2, 4, 1, 2, 1, 1, 3, 2, 1, 2, 4, 3, 2, 2, 2, 1, 4, 1, 2, 2, 1, 1, 4, 2, 2, 1, 2, 3, 3, 4, 1, 3, 4, 4, 2, 1, 2, 3, 3, 3, 1, 2, 4, 2, 4, 3, 1, 3, 2, 3, 1, 1, 1, 4, 1, 3, 2, 2, 2, 1, 1, 4, 1, 3, 1, 2, 4, 1, 3, 3, 4, 4, 3, 3, 1, 3, 4, 2, 2, 1, 2, 1, 1, 2, 4, 4, 4, 4, 1, 4, 2, 3, 4, 1, 3, 4, 3, 2, 3, 2, 1, 3, 1, 1, 3, 4, 3, 2, 1, 3, 3, 1, 4, 4, 1, 4, 3, 2, 3, 4, 4, 3, 3, 2, 3, 4, 1, 1, 1, 1, 2, 3, 4, 3, 3, 4, 2, 2, 3, 4, 3, 1, 3], \"Freq\": [0.8528705334609348, 0.8129212571066211, 0.8528712622635644, 0.8528715656310397, 0.8128889811979576, 0.8837913845973989, 0.8313476370109837, 0.8129240586621338, 0.8837837363554922, 0.8128887606402522, 0.8129270275133255, 0.8328232470551451, 0.883791399487753, 0.5352864656918271, 0.5352864656918271, 0.8129192795674415, 0.8129136485619638, 0.8528707822024356, 0.8328275413504971, 0.24320421097100103, 0.729612632913003, 0.5881341892641593, 0.8528717136977937, 0.8324225626223886, 0.8293330069032451, 0.8328274449245658, 0.8129085400956577, 0.8837914170533772, 0.5270953602748466, 0.8315866059894693, 0.8310985981992387, 0.7797895543863157, 0.27750628704059277, 0.5550125740811855, 0.8328274695161262, 0.5438422044962409, 0.526965006134253, 0.32697191537522236, 0.32697191537522236, 0.8528721795662698, 0.8837813709120481, 0.5367036679279662, 0.17890122264265543, 0.17890122264265543, 0.8837833115773621, 0.832827469187154, 0.8129173988559754, 0.8328275300620246, 0.8528712672214855, 0.8528718987039257, 0.8528717726577794, 0.8129194848528787, 0.8328274512922215, 0.8837825270672183, 0.832827488367568, 0.8837914227953969, 0.8528713146916562, 0.8128889723945215, 0.8528724003375445, 0.41316565233831765, 0.41316565233831765, 0.8128887830788883, 0.8128888021969912, 0.8128887406627272, 0.883791387160551, 0.39882611623430997, 0.39882611623430997, 0.8325914947860542, 0.8074809996039387, 0.8328218182752922, 0.8128887385063205, 0.8128889593939006, 0.883785717475623, 0.8128887850264868, 0.8528716734092999, 0.6411658963421216, 0.831814086793056, 0.8837914097036111, 0.8129163902217826, 0.8528718983621186, 0.8528715283347985, 0.8837823913806495, 0.883786776574977, 0.8528717696016455, 0.8528717479455681, 0.8128887688665238, 0.8528719328321891, 0.8837841927836559, 0.832822517729143, 0.8328274756391075, 0.8129156095797605, 0.8328219013270363, 0.8129182037850656, 0.8129363373156202, 0.5649392822870246, 0.5649392822870246, 0.88379137728762, 0.883785217819803, 0.8837914219212308, 0.8129106366586716, 0.8837857552604965, 0.832827445376246, 0.8528713622022812, 0.8837837975597618, 0.39881080947573877, 0.39881080947573877, 0.8837855524961662, 0.8528722381466319, 0.832821502589423, 0.8528719412017283, 0.8322590379857164, 0.8129088771785122, 0.8528713059727849, 0.6411659075291892, 0.5274025266545876, 0.1758008422181959, 0.1758008422181959, 0.8528718610989159, 0.8328278414375936, 0.3988106411288293, 0.3988106411288293, 0.8528712622296272, 0.5558948541643006, 0.5558948541643006, 0.8837834953638875, 0.8128887801650208, 0.8837837035734465, 0.8528716937935155, 0.5523238711108764, 0.5523238711108764, 0.8837826012566697, 0.8837914340807488, 0.8528718638262843, 0.8528720710217313, 0.6876528304831232, 0.22921761016104106, 0.8837913789798422, 0.8129186438898007, 0.8129107144442674, 0.8129133503694174, 0.17856120309924403, 0.5356836092977321, 0.17856120309924403, 0.17856120309924403, 0.8528717899029309, 0.8528725978024708, 0.8837914547601254, 0.8292540652388857, 0.4201433164385302, 0.4201433164385302, 0.4201433164385302, 0.852872285036191, 0.8128887970290292, 0.8528719354699478], \"Term\": [\"555\", \"Batnan\", \"CGI\", \"IMAX\", \"Nolan\", \"ai\", \"cg\", \"wow\", \"\\u0e01\\u0e25\\u0e34\\u0e48\\u0e19\", \"\\u0e01\\u0e32\\u0e23\\u0e04\\u0e31\\u0e14\\u0e40\\u0e25\\u0e37\\u0e2d\\u0e01\", \"\\u0e01\\u0e32\\u0e23\\u0e4c\\u0e15\\u0e39\\u0e19\", \"\\u0e01\\u0e33\\u0e01\\u0e31\\u0e1a\", \"\\u0e01\\u0e33\\u0e40\\u0e19\\u0e34\\u0e14\", \"\\u0e01\\u0e35\\u0e48\", \"\\u0e01\\u0e35\\u0e48\", \"\\u0e01\\u0e49\\u0e2d\", \"\\u0e02\\u0e19\\u0e32\\u0e14\", \"\\u0e02\\u0e2d\\u0e07\\u0e08\\u0e23\\u0e34\\u0e07\", \"\\u0e02\\u0e32\\u0e22\", \"\\u0e04\\u0e19\", \"\\u0e04\\u0e19\", \"\\u0e04\\u0e19\\u0e14\\u0e39\", \"\\u0e04\\u0e27\\u0e23\\u0e08\\u0e30\", \"\\u0e04\\u0e27\\u0e32\\u0e21\\u0e15\\u0e31\\u0e49\\u0e07\\u0e43\\u0e08\", \"\\u0e04\\u0e27\\u0e32\\u0e21\\u0e2a\\u0e21\\u0e08\\u0e23\\u0e34\\u0e07\", \"\\u0e04\\u0e31\\u0e1a\", \"\\u0e04\\u0e31\\u0e27\", \"\\u0e04\\u0e33\\u0e1e\\u0e39\\u0e14\", \"\\u0e04\\u0e38\\u0e13\\u0e20\\u0e32\\u0e1e\", \"\\u0e07\\u0e32\\u0e19\", \"\\u0e08\\u0e34\\u0e15\\u0e27\\u0e34\\u0e0d\\u0e0d\\u0e32\\u0e13\", \"\\u0e09\\u0e32\\u0e01\", \"\\u0e0a\\u0e2d\\u0e1a\", \"\\u0e0a\\u0e2d\\u0e1a\", \"\\u0e0a\\u0e31\\u0e14\\u0e40\\u0e08\\u0e19\", \"\\u0e0a\\u0e37\\u0e48\\u0e2d\", \"\\u0e14\\u0e07\", \"\\u0e14\\u0e32\\u0e23\\u0e32\", \"\\u0e14\\u0e32\\u0e23\\u0e32\", \"\\u0e14\\u0e35\", \"\\u0e14\\u0e36\\u0e07\", \"\\u0e14\\u0e39\", \"\\u0e14\\u0e39\", \"\\u0e14\\u0e39\", \"\\u0e15\\u0e23\\u0e07\\u0e19\\u0e31\\u0e49\\u0e19\", \"\\u0e15\\u0e25\\u0e32\\u0e14\", \"\\u0e15\\u0e2d\\u0e19\", \"\\u0e15\\u0e31\\u0e27\\u0e40\\u0e2d\\u0e07\", \"\\u0e15\\u0e31\\u0e2d\\u0e07\", \"\\u0e15\\u0e35\\u0e1a\\u0e17\\u0e41\\u0e15\\u0e01\", \"\\u0e15\\u0e48\\u0e32\\u0e07\\u0e08\\u0e31\\u0e07\\u0e2b\\u0e27\\u0e31\\u0e14\", \"\\u0e16\\u0e32\\u0e21\", \"\\u0e17\\u0e31\\u0e48\\u0e27\\u0e42\\u0e25\\u0e01\", \"\\u0e17\\u0e33\", \"\\u0e17\\u0e33\\u0e40\\u0e07\\u0e34\\u0e19\", \"\\u0e17\\u0e49\\u0e32\\u0e17\\u0e32\\u0e22\", \"\\u0e19\\u0e31\\u0e01\\u0e41\\u0e2a\\u0e14\\u0e07\", \"\\u0e19\\u0e36\\u0e07\", \"\\u0e19\\u0e36\\u0e49\", \"\\u0e19\\u0e48\\u0e32\\u0e14\\u0e39\", \"\\u0e19\\u0e48\\u0e32\\u0e14\\u0e39\", \"\\u0e1a\\u0e17\", \"\\u0e1b\\u0e0f\\u0e34\\u0e40\\u0e2a\\u0e18\", \"\\u0e1b\\u0e23\\u0e30\\u0e17\\u0e31\\u0e1a\\u0e43\\u0e08\", \"\\u0e1b\\u0e25.\", \"\\u0e1c\\u0e21\", \"\\u0e1c\\u0e21\", \"\\u0e1c\\u0e25\\u0e07\\u0e32\\u0e19\", \"\\u0e1c\\u0e39\\u0e49\\u0e01\\u0e33\\u0e01\\u0e31\\u0e1a\", \"\\u0e1c\\u0e39\\u0e49\\u0e0a\\u0e21\", \"\\u0e1d\\u0e35\\u0e21\\u0e37\\u0e2d\", \"\\u0e1e\\u0e25\\u0e32\\u0e14\", \"\\u0e1e\\u0e25\\u0e47\\u0e2d\\u0e15\", \"\\u0e1e\\u0e39\\u0e14\\u0e16\\u0e36\\u0e07\", \"\\u0e1e\\u0e48\\u0e2d\", \"\\u0e1f\\u0e35\\u0e48\", \"\\u0e20\\u0e32\\u0e1e\", \"\\u0e21\\u0e31\\u0e49\\u0e07\", \"\\u0e21\\u0e32\\u0e08\\u0e32\\u0e01\", \"\\u0e21\\u0e34\\u0e0a\\u0e0a\\u0e31\\u0e48\\u0e19\", \"\\u0e21\\u0e48\\u0e2d\\u0e19\", \"\\u0e22\\u0e37\\u0e19\", \"\\u0e23\\u0e2a\", \"\\u0e23\\u0e2d\", \"\\u0e23\\u0e30\\u0e40\\u0e1a\\u0e34\\u0e14\", \"\\u0e23\\u0e31\\u0e1a\\u0e1a\\u0e17\", \"\\u0e23\\u0e38\\u0e49\", \"\\u0e23\\u0e39\\u0e1b\", \"\\u0e23\\u0e48\\u0e27\\u0e21\\u0e07\\u0e32\\u0e19\", \"\\u0e25\\u0e32\\u0e22\\u0e40\\u0e0b\\u0e47\\u0e19\", \"\\u0e27\\u0e49\\u0e32\\u0e27\", \"\\u0e2a\\u0e19\\u0e43\\u0e08\", \"\\u0e2a\\u0e21\\u0e08\\u0e23\\u0e34\\u0e07\", \"\\u0e2a\\u0e23\\u0e49\\u0e32\\u0e07\", \"\\u0e2a\\u0e31\\u0e21\\u0e1c\\u0e31\\u0e2a\", \"\\u0e2a\\u0e31\\u0e21\\u0e1c\\u0e31\\u0e2a\", \"\\u0e2a\\u0e34\\u0e48\\u0e07\\u0e43\\u0e2b\\u0e21\\u0e48\", \"\\u0e2a\\u0e37\\u0e48\\u0e2d\\u0e2a\\u0e32\\u0e23\", \"\\u0e2a\\u0e38\\u0e14\\u0e17\\u0e49\\u0e32\\u0e22\", \"\\u0e2b\\u0e19\\u0e31\\u0e07\\u0e2a\\u0e37\\u0e2d\", \"\\u0e2b\\u0e25\\u0e38\\u0e14\", \"\\u0e2b\\u0e32\", \"\\u0e2d\\u0e14\", \"\\u0e2d\\u0e2d\\u0e01\\u0e21\\u0e32\", \"\\u0e40\", \"\\u0e40\", \"\\u0e40\\u0e01\\u0e34\\u0e14\\u0e02\\u0e36\\u0e49\\u0e19\", \"\\u0e40\\u0e01\\u0e48\", \"\\u0e40\\u0e01\\u0e48\\u0e07\", \"\\u0e40\\u0e01\\u0e4b\\u0e32\", \"\\u0e40\\u0e08\\u0e4b\\u0e07\", \"\\u0e40\\u0e1a\\u0e37\\u0e48\\u0e2d\", \"\\u0e40\\u0e1a\\u0e37\\u0e49\\u0e2d\\u0e07\\u0e2b\\u0e25\\u0e31\\u0e07\", \"\\u0e40\\u0e21\\u0e2d\\u0e23\\u0e4c\", \"\\u0e40\\u0e23\\u0e37\\u0e48\\u0e2d\\u0e07\", \"\\u0e40\\u0e23\\u0e37\\u0e48\\u0e2d\\u0e07\", \"\\u0e40\\u0e23\\u0e37\\u0e48\\u0e2d\\u0e07\", \"\\u0e40\\u0e25\\u0e48\\u0e19\", \"\\u0e40\\u0e25\\u0e48\\u0e32\", \"\\u0e40\\u0e2a\", \"\\u0e40\\u0e2a\", \"\\u0e40\\u0e2a\\u0e14\\u0e47\\u0e08\", \"\\u0e40\\u0e2a\\u0e21\\u0e2d\", \"\\u0e40\\u0e2a\\u0e21\\u0e2d\", \"\\u0e40\\u0e2a\\u0e35\\u0e22\\u0e07\", \"\\u0e40\\u0e2b\\u0e21\\u0e32\\u0e30\\u0e01\\u0e31\\u0e1a\", \"\\u0e40\\u0e2b\\u0e21\\u0e37\\u0e2d\\u0e19\", \"\\u0e41\\u0e08\\u0e21\", \"\\u0e41\\u0e17\\u0e1a\", \"\\u0e41\\u0e17\\u0e1a\", \"\\u0e41\\u0e17\\u0e1a\\u0e08\\u0e30\", \"\\u0e41\\u0e1b\\u0e25\", \"\\u0e41\\u0e21\\u0e17\", \"\\u0e41\\u0e21\\u0e19\", \"\\u0e41\\u0e25\\u0e19\", \"\\u0e41\\u0e25\\u0e19\", \"\\u0e41\\u0e25\\u0e19\\u0e14\\u0e4c\", \"\\u0e41\\u0e25\\u0e19\\u0e4c\", \"\\u0e42\\u0e08\\u0e4d\\u0e01\\u0e40\\u0e01\\u0e2d\\u0e23\\u0e4c\", \"\\u0e42\\u0e14\\u0e22\\u0e40\\u0e09\\u0e1e\\u0e32\\u0e30\", \"\\u0e42\\u0e19\", \"\\u0e42\\u0e19\", \"\\u0e42\\u0e19\", \"\\u0e42\\u0e19\", \"\\u0e42\\u0e23\\u0e07\", \"\\u0e42\\u0e23\\u0e40\\u0e1a\\u0e34\\u0e23\\u0e4c\\u0e15\", \"\\u0e42\\u0e25\\u0e01\", \"\\u0e43\\u0e2a\\u0e48\", \"\\u0e43\\u0e2b\\u0e49\\u0e44\\u0e14\\u0e49\", \"\\u0e43\\u0e2b\\u0e49\\u0e44\\u0e14\\u0e49\", \"\\u0e43\\u0e2b\\u0e49\\u0e44\\u0e14\\u0e49\", \"\\u0e44\\u0e14\", \"\\u0e44\\u0e21\\u0e48\\u0e15\\u0e49\\u0e2d\\u0e07\", \"\\u0e44\\u0e2d\\u0e23\\u0e2d\\u0e19\"]}, \"R\": 30, \"lambda.step\": 0.01, \"plot.opts\": {\"xlab\": \"PC1\", \"ylab\": \"PC2\"}, \"topic.order\": [5, 3, 4, 2, 1]};\n",
              "\n",
              "function LDAvis_load_lib(url, callback){\n",
              "  var s = document.createElement('script');\n",
              "  s.src = url;\n",
              "  s.async = true;\n",
              "  s.onreadystatechange = s.onload = callback;\n",
              "  s.onerror = function(){console.warn(\"failed to load library \" + url);};\n",
              "  document.getElementsByTagName(\"head\")[0].appendChild(s);\n",
              "}\n",
              "\n",
              "if(typeof(LDAvis) !== \"undefined\"){\n",
              "   // already loaded: just create the visualization\n",
              "   !function(LDAvis){\n",
              "       new LDAvis(\"#\" + \"ldavis_el8571365122325070883149486136\", ldavis_el8571365122325070883149486136_data);\n",
              "   }(LDAvis);\n",
              "}else if(typeof define === \"function\" && define.amd){\n",
              "   // require.js is available: use it to load d3/LDAvis\n",
              "   require.config({paths: {d3: \"https://d3js.org/d3.v5\"}});\n",
              "   require([\"d3\"], function(d3){\n",
              "      window.d3 = d3;\n",
              "      LDAvis_load_lib(\"https://cdn.jsdelivr.net/gh/bmabey/pyLDAvis@3.4.0/pyLDAvis/js/ldavis.v3.0.0.js\", function(){\n",
              "        new LDAvis(\"#\" + \"ldavis_el8571365122325070883149486136\", ldavis_el8571365122325070883149486136_data);\n",
              "      });\n",
              "    });\n",
              "}else{\n",
              "    // require.js not available: dynamically load d3 & LDAvis\n",
              "    LDAvis_load_lib(\"https://d3js.org/d3.v5.js\", function(){\n",
              "         LDAvis_load_lib(\"https://cdn.jsdelivr.net/gh/bmabey/pyLDAvis@3.4.0/pyLDAvis/js/ldavis.v3.0.0.js\", function(){\n",
              "                 new LDAvis(\"#\" + \"ldavis_el8571365122325070883149486136\", ldavis_el8571365122325070883149486136_data);\n",
              "            })\n",
              "         });\n",
              "}\n",
              "</script>"
            ]
          },
          "metadata": {},
          "execution_count": 15
        }
      ]
    },
    {
      "cell_type": "markdown",
      "source": [
        "**PREDICT TOPICS**"
      ],
      "metadata": {
        "id": "6a2D1zqBscu8"
      }
    },
    {
      "cell_type": "code",
      "source": [
        "model.show_topic (1)"
      ],
      "metadata": {
        "id": "a4IdsyG46KbA",
        "colab": {
          "base_uri": "https://localhost:8080/"
        },
        "outputId": "de708254-7bf0-42ee-81e0-ea23045acbfa"
      },
      "execution_count": null,
      "outputs": [
        {
          "output_type": "execute_result",
          "data": {
            "text/plain": [
              "[('ชอบ', 0.047903854),\n",
              " ('ดู', 0.03293227),\n",
              " ('คนดู', 0.032931674),\n",
              " ('กำเนิด', 0.017964663),\n",
              " ('คำพูด', 0.017964663),\n",
              " ('ปล.', 0.017964661),\n",
              " ('ai', 0.017964661),\n",
              " ('โลก', 0.017964661),\n",
              " ('สิ่งใหม่', 0.017964661),\n",
              " ('แปล', 0.017964661)]"
            ]
          },
          "metadata": {},
          "execution_count": 16
        }
      ]
    },
    {
      "cell_type": "code",
      "source": [
        "df['topics'] = df['review_tokenized'].apply(lambda x: model.get_document_topics(dictionary.doc2bow(x.split(',')))[0][0])\n",
        "df['score'] = df['review_tokenized'].apply(lambda x: model.get_document_topics(dictionary.doc2bow(x.split(',')))[0][1])\n"
      ],
      "metadata": {
        "id": "eT9dZyRQ6q_X"
      },
      "execution_count": null,
      "outputs": []
    },
    {
      "cell_type": "markdown",
      "source": [
        "**GROUPING TOPIC AND SCORE**"
      ],
      "metadata": {
        "id": "AfqPviRrv_Vu"
      }
    },
    {
      "cell_type": "code",
      "source": [
        "df.tail()"
      ],
      "metadata": {
        "id": "aKRIYoHY7Oqb",
        "colab": {
          "base_uri": "https://localhost:8080/",
          "height": 206
        },
        "outputId": "83ad4496-6318-4d10-c601-455dfac372ae"
      },
      "execution_count": null,
      "outputs": [
        {
          "output_type": "execute_result",
          "data": {
            "text/plain": [
              "    review_id                                            comment  \\\n",
              "7         349     โนแลน คือคนที่ทำให้เชื่อทุกครั้ง ในสิ่งที่เล่า   \n",
              "8         907  ชอบเพราะแค่ดู เราก็แทบจะสัมผัสได้ทั้ง รูป รส ก...   \n",
              "9         899  นำเสรอได้น่าดูมากเลยคะ ดารานำรุ้ว่าเล่นดีตีบทแ...   \n",
              "10        474  Nolan หนังคุณภาพ ที่คนชอบดูหนังไม่ควรพลาด อีกเ...   \n",
              "11        616  คำพูดที่ว่าโลกยังไม่พร้อม ก็คงแบบเดียวกับ ai ล...   \n",
              "\n",
              "                                     review_tokenized  topics     score  \n",
              "7                                      โน,แลน,คน,เล่า       2  0.960128  \n",
              "8   ชอบ,ดู,แทบจะ,สัมผัส,รูป,รส,กลิ่น,เสียง,เหมือน,...       1  0.991306  \n",
              "9   เส,รอ,น่าดู,ดารา,รุ้,เล่น,ดี,ตีบทแตก,เรื่อง,ดา...       3  0.992370  \n",
              "10             Nolan,คุณภาพ,คน,ชอบ,ดู,พลาด,เรื่อง,นึง       4  0.979602  \n",
              "11  คำพูด,โลก,ai,มั้ง,สุดท้าย,กำเนิด,แปล,ให้ได้,ปล...       1  0.988092  "
            ],
            "text/html": [
              "\n",
              "\n",
              "  <div id=\"df-b3e7a648-b419-42da-a993-ac4454d12be5\">\n",
              "    <div class=\"colab-df-container\">\n",
              "      <div>\n",
              "<style scoped>\n",
              "    .dataframe tbody tr th:only-of-type {\n",
              "        vertical-align: middle;\n",
              "    }\n",
              "\n",
              "    .dataframe tbody tr th {\n",
              "        vertical-align: top;\n",
              "    }\n",
              "\n",
              "    .dataframe thead th {\n",
              "        text-align: right;\n",
              "    }\n",
              "</style>\n",
              "<table border=\"1\" class=\"dataframe\">\n",
              "  <thead>\n",
              "    <tr style=\"text-align: right;\">\n",
              "      <th></th>\n",
              "      <th>review_id</th>\n",
              "      <th>comment</th>\n",
              "      <th>review_tokenized</th>\n",
              "      <th>topics</th>\n",
              "      <th>score</th>\n",
              "    </tr>\n",
              "  </thead>\n",
              "  <tbody>\n",
              "    <tr>\n",
              "      <th>7</th>\n",
              "      <td>349</td>\n",
              "      <td>โนแลน คือคนที่ทำให้เชื่อทุกครั้ง ในสิ่งที่เล่า</td>\n",
              "      <td>โน,แลน,คน,เล่า</td>\n",
              "      <td>2</td>\n",
              "      <td>0.960128</td>\n",
              "    </tr>\n",
              "    <tr>\n",
              "      <th>8</th>\n",
              "      <td>907</td>\n",
              "      <td>ชอบเพราะแค่ดู เราก็แทบจะสัมผัสได้ทั้ง รูป รส ก...</td>\n",
              "      <td>ชอบ,ดู,แทบจะ,สัมผัส,รูป,รส,กลิ่น,เสียง,เหมือน,...</td>\n",
              "      <td>1</td>\n",
              "      <td>0.991306</td>\n",
              "    </tr>\n",
              "    <tr>\n",
              "      <th>9</th>\n",
              "      <td>899</td>\n",
              "      <td>นำเสรอได้น่าดูมากเลยคะ ดารานำรุ้ว่าเล่นดีตีบทแ...</td>\n",
              "      <td>เส,รอ,น่าดู,ดารา,รุ้,เล่น,ดี,ตีบทแตก,เรื่อง,ดา...</td>\n",
              "      <td>3</td>\n",
              "      <td>0.992370</td>\n",
              "    </tr>\n",
              "    <tr>\n",
              "      <th>10</th>\n",
              "      <td>474</td>\n",
              "      <td>Nolan หนังคุณภาพ ที่คนชอบดูหนังไม่ควรพลาด อีกเ...</td>\n",
              "      <td>Nolan,คุณภาพ,คน,ชอบ,ดู,พลาด,เรื่อง,นึง</td>\n",
              "      <td>4</td>\n",
              "      <td>0.979602</td>\n",
              "    </tr>\n",
              "    <tr>\n",
              "      <th>11</th>\n",
              "      <td>616</td>\n",
              "      <td>คำพูดที่ว่าโลกยังไม่พร้อม ก็คงแบบเดียวกับ ai ล...</td>\n",
              "      <td>คำพูด,โลก,ai,มั้ง,สุดท้าย,กำเนิด,แปล,ให้ได้,ปล...</td>\n",
              "      <td>1</td>\n",
              "      <td>0.988092</td>\n",
              "    </tr>\n",
              "  </tbody>\n",
              "</table>\n",
              "</div>\n",
              "      <button class=\"colab-df-convert\" onclick=\"convertToInteractive('df-b3e7a648-b419-42da-a993-ac4454d12be5')\"\n",
              "              title=\"Convert this dataframe to an interactive table.\"\n",
              "              style=\"display:none;\">\n",
              "\n",
              "  <svg xmlns=\"http://www.w3.org/2000/svg\" height=\"24px\"viewBox=\"0 0 24 24\"\n",
              "       width=\"24px\">\n",
              "    <path d=\"M0 0h24v24H0V0z\" fill=\"none\"/>\n",
              "    <path d=\"M18.56 5.44l.94 2.06.94-2.06 2.06-.94-2.06-.94-.94-2.06-.94 2.06-2.06.94zm-11 1L8.5 8.5l.94-2.06 2.06-.94-2.06-.94L8.5 2.5l-.94 2.06-2.06.94zm10 10l.94 2.06.94-2.06 2.06-.94-2.06-.94-.94-2.06-.94 2.06-2.06.94z\"/><path d=\"M17.41 7.96l-1.37-1.37c-.4-.4-.92-.59-1.43-.59-.52 0-1.04.2-1.43.59L10.3 9.45l-7.72 7.72c-.78.78-.78 2.05 0 2.83L4 21.41c.39.39.9.59 1.41.59.51 0 1.02-.2 1.41-.59l7.78-7.78 2.81-2.81c.8-.78.8-2.07 0-2.86zM5.41 20L4 18.59l7.72-7.72 1.47 1.35L5.41 20z\"/>\n",
              "  </svg>\n",
              "      </button>\n",
              "\n",
              "\n",
              "\n",
              "    <div id=\"df-11311970-b714-4771-9e37-c43bb54efd20\">\n",
              "      <button class=\"colab-df-quickchart\" onclick=\"quickchart('df-11311970-b714-4771-9e37-c43bb54efd20')\"\n",
              "              title=\"Suggest charts.\"\n",
              "              style=\"display:none;\">\n",
              "\n",
              "<svg xmlns=\"http://www.w3.org/2000/svg\" height=\"24px\"viewBox=\"0 0 24 24\"\n",
              "     width=\"24px\">\n",
              "    <g>\n",
              "        <path d=\"M19 3H5c-1.1 0-2 .9-2 2v14c0 1.1.9 2 2 2h14c1.1 0 2-.9 2-2V5c0-1.1-.9-2-2-2zM9 17H7v-7h2v7zm4 0h-2V7h2v10zm4 0h-2v-4h2v4z\"/>\n",
              "    </g>\n",
              "</svg>\n",
              "      </button>\n",
              "    </div>\n",
              "\n",
              "<style>\n",
              "  .colab-df-quickchart {\n",
              "    background-color: #E8F0FE;\n",
              "    border: none;\n",
              "    border-radius: 50%;\n",
              "    cursor: pointer;\n",
              "    display: none;\n",
              "    fill: #1967D2;\n",
              "    height: 32px;\n",
              "    padding: 0 0 0 0;\n",
              "    width: 32px;\n",
              "  }\n",
              "\n",
              "  .colab-df-quickchart:hover {\n",
              "    background-color: #E2EBFA;\n",
              "    box-shadow: 0px 1px 2px rgba(60, 64, 67, 0.3), 0px 1px 3px 1px rgba(60, 64, 67, 0.15);\n",
              "    fill: #174EA6;\n",
              "  }\n",
              "\n",
              "  [theme=dark] .colab-df-quickchart {\n",
              "    background-color: #3B4455;\n",
              "    fill: #D2E3FC;\n",
              "  }\n",
              "\n",
              "  [theme=dark] .colab-df-quickchart:hover {\n",
              "    background-color: #434B5C;\n",
              "    box-shadow: 0px 1px 3px 1px rgba(0, 0, 0, 0.15);\n",
              "    filter: drop-shadow(0px 1px 2px rgba(0, 0, 0, 0.3));\n",
              "    fill: #FFFFFF;\n",
              "  }\n",
              "</style>\n",
              "\n",
              "    <script>\n",
              "      async function quickchart(key) {\n",
              "        const containerElement = document.querySelector('#' + key);\n",
              "        const charts = await google.colab.kernel.invokeFunction(\n",
              "            'suggestCharts', [key], {});\n",
              "      }\n",
              "    </script>\n",
              "\n",
              "      <script>\n",
              "\n",
              "function displayQuickchartButton(domScope) {\n",
              "  let quickchartButtonEl =\n",
              "    domScope.querySelector('#df-11311970-b714-4771-9e37-c43bb54efd20 button.colab-df-quickchart');\n",
              "  quickchartButtonEl.style.display =\n",
              "    google.colab.kernel.accessAllowed ? 'block' : 'none';\n",
              "}\n",
              "\n",
              "        displayQuickchartButton(document);\n",
              "      </script>\n",
              "      <style>\n",
              "    .colab-df-container {\n",
              "      display:flex;\n",
              "      flex-wrap:wrap;\n",
              "      gap: 12px;\n",
              "    }\n",
              "\n",
              "    .colab-df-convert {\n",
              "      background-color: #E8F0FE;\n",
              "      border: none;\n",
              "      border-radius: 50%;\n",
              "      cursor: pointer;\n",
              "      display: none;\n",
              "      fill: #1967D2;\n",
              "      height: 32px;\n",
              "      padding: 0 0 0 0;\n",
              "      width: 32px;\n",
              "    }\n",
              "\n",
              "    .colab-df-convert:hover {\n",
              "      background-color: #E2EBFA;\n",
              "      box-shadow: 0px 1px 2px rgba(60, 64, 67, 0.3), 0px 1px 3px 1px rgba(60, 64, 67, 0.15);\n",
              "      fill: #174EA6;\n",
              "    }\n",
              "\n",
              "    [theme=dark] .colab-df-convert {\n",
              "      background-color: #3B4455;\n",
              "      fill: #D2E3FC;\n",
              "    }\n",
              "\n",
              "    [theme=dark] .colab-df-convert:hover {\n",
              "      background-color: #434B5C;\n",
              "      box-shadow: 0px 1px 3px 1px rgba(0, 0, 0, 0.15);\n",
              "      filter: drop-shadow(0px 1px 2px rgba(0, 0, 0, 0.3));\n",
              "      fill: #FFFFFF;\n",
              "    }\n",
              "  </style>\n",
              "\n",
              "      <script>\n",
              "        const buttonEl =\n",
              "          document.querySelector('#df-b3e7a648-b419-42da-a993-ac4454d12be5 button.colab-df-convert');\n",
              "        buttonEl.style.display =\n",
              "          google.colab.kernel.accessAllowed ? 'block' : 'none';\n",
              "\n",
              "        async function convertToInteractive(key) {\n",
              "          const element = document.querySelector('#df-b3e7a648-b419-42da-a993-ac4454d12be5');\n",
              "          const dataTable =\n",
              "            await google.colab.kernel.invokeFunction('convertToInteractive',\n",
              "                                                     [key], {});\n",
              "          if (!dataTable) return;\n",
              "\n",
              "          const docLinkHtml = 'Like what you see? Visit the ' +\n",
              "            '<a target=\"_blank\" href=https://colab.research.google.com/notebooks/data_table.ipynb>data table notebook</a>'\n",
              "            + ' to learn more about interactive tables.';\n",
              "          element.innerHTML = '';\n",
              "          dataTable['output_type'] = 'display_data';\n",
              "          await google.colab.output.renderOutput(dataTable, element);\n",
              "          const docLink = document.createElement('div');\n",
              "          docLink.innerHTML = docLinkHtml;\n",
              "          element.appendChild(docLink);\n",
              "        }\n",
              "      </script>\n",
              "    </div>\n",
              "  </div>\n"
            ]
          },
          "metadata": {},
          "execution_count": 18
        }
      ]
    },
    {
      "cell_type": "code",
      "source": [
        "print (df)"
      ],
      "metadata": {
        "id": "onGoXzWf7gWf",
        "colab": {
          "base_uri": "https://localhost:8080/"
        },
        "outputId": "9bb05921-cff0-4677-c06c-7c4e917941bb"
      },
      "execution_count": null,
      "outputs": [
        {
          "output_type": "stream",
          "name": "stdout",
          "text": [
            "    review_id                                            comment  \\\n",
            "0         545  ผู้กำกับแบบโนแลนหายากจริงๆนะคับ หนังของแกมีควา...   \n",
            "1         811  เป็นผู้กำกับไม่กี่คน ที่ผู้ชมแทบไม่สนใจเลยว่าใ...   \n",
            "2         879  สิ่งหนึ่งที่ประทับใจเรื่องนี้คือการคัดเลือกนัก...   \n",
            "3         631  ชอบหนังโนแลนเพราะผู้กำกับใส่จิตวิญญาณและความตั...   \n",
            "4         133  หนังโนแลน์ทำให้ผมว้าวได้เสมอ โดยเฉพาะBatnan โจ...   \n",
            "5         793  ใครที่แบบคิดว่า เมอร์ฟี่จะแสดงได้ดีไหม peaky b...   \n",
            "6         521  หนังของเสด็จพ่อโนแลนตัองดูในโรงให้ได้ครับ เบื้...   \n",
            "7         349     โนแลน คือคนที่ทำให้เชื่อทุกครั้ง ในสิ่งที่เล่า   \n",
            "8         907  ชอบเพราะแค่ดู เราก็แทบจะสัมผัสได้ทั้ง รูป รส ก...   \n",
            "9         899  นำเสรอได้น่าดูมากเลยคะ ดารานำรุ้ว่าเล่นดีตีบทแ...   \n",
            "10        474  Nolan หนังคุณภาพ ที่คนชอบดูหนังไม่ควรพลาด อีกเ...   \n",
            "11        616  คำพูดที่ว่าโลกยังไม่พร้อม ก็คงแบบเดียวกับ ai ล...   \n",
            "\n",
            "                                     review_tokenized  topics     score  \n",
            "0   ผู้กำกับ,โน,แลน,หา,คับ,ตัวเอง,ลายเซ็น,ชัดเจน,ข...       2  0.986206  \n",
            "1   ผู้กำกับ,กี่,คน,ผู้ชม,แทบ,สนใจ,ดารา,ชื่อ,โน,แล...       2  0.991661  \n",
            "2   ประทับใจ,เรื่อง,การคัดเลือก,เ,เส,ดง,รับบท,ปฏิเ...       4  0.990790  \n",
            "3   ชอบ,โน,แลน,ผู้กำกับ,ใส่,จิตวิญญาณ,ความตั้งใจ,ใ...       2  0.766924  \n",
            "4   โน,แลน์,ผม,ว้าว,เสมอ,โดยเฉพาะ,Batnan,โจํกเกอร์...       4  0.994256  \n",
            "5   เมอร์,ฟี่,ได้ดี,ไหม,peaky,blinders,คำตอบ,อ.,แน...       0  0.985706  \n",
            "6   เสด็จ,พ่อ,โน,แลน,ตัอง,ดู,โรง,ให้ได้,เบื้องหลัง...       3  0.990484  \n",
            "7                                      โน,แลน,คน,เล่า       2  0.960128  \n",
            "8   ชอบ,ดู,แทบจะ,สัมผัส,รูป,รส,กลิ่น,เสียง,เหมือน,...       1  0.991306  \n",
            "9   เส,รอ,น่าดู,ดารา,รุ้,เล่น,ดี,ตีบทแตก,เรื่อง,ดา...       3  0.992370  \n",
            "10             Nolan,คุณภาพ,คน,ชอบ,ดู,พลาด,เรื่อง,นึง       4  0.979602  \n",
            "11  คำพูด,โลก,ai,มั้ง,สุดท้าย,กำเนิด,แปล,ให้ได้,ปล...       1  0.988092  \n"
          ]
        }
      ]
    }
  ]
}
