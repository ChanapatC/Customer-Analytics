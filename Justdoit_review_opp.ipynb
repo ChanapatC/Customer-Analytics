{
  "nbformat": 4,
  "nbformat_minor": 0,
  "metadata": {
    "colab": {
      "provenance": [],
      "include_colab_link": true
    },
    "kernelspec": {
      "name": "python3",
      "display_name": "Python 3"
    },
    "language_info": {
      "name": "python"
    }
  },
  "cells": [
    {
      "cell_type": "markdown",
      "metadata": {
        "id": "view-in-github",
        "colab_type": "text"
      },
      "source": [
        "<a href=\"https://colab.research.google.com/github/ChanapatC/Customer-Analytics/blob/main/Justdoit_review_opp.ipynb\" target=\"_parent\"><img src=\"https://colab.research.google.com/assets/colab-badge.svg\" alt=\"Open In Colab\"/></a>"
      ]
    },
    {
      "cell_type": "code",
      "execution_count": 16,
      "metadata": {
        "id": "NNuLmf7gvzsK"
      },
      "outputs": [],
      "source": [
        "import numpy as np\n",
        "import pandas as pd"
      ]
    },
    {
      "cell_type": "code",
      "source": [
        "!pip install pyLDAvis"
      ],
      "metadata": {
        "id": "8gwU0JQG1Rlh",
        "colab": {
          "base_uri": "https://localhost:8080/"
        },
        "outputId": "cfe4652e-96c7-4c57-f972-7f6445ae50a3"
      },
      "execution_count": 17,
      "outputs": [
        {
          "output_type": "stream",
          "name": "stdout",
          "text": [
            "Requirement already satisfied: pyLDAvis in /usr/local/lib/python3.10/dist-packages (3.4.1)\n",
            "Requirement already satisfied: numpy>=1.24.2 in /usr/local/lib/python3.10/dist-packages (from pyLDAvis) (1.25.1)\n",
            "Requirement already satisfied: scipy in /usr/local/lib/python3.10/dist-packages (from pyLDAvis) (1.10.1)\n",
            "Requirement already satisfied: pandas>=2.0.0 in /usr/local/lib/python3.10/dist-packages (from pyLDAvis) (2.0.3)\n",
            "Requirement already satisfied: joblib>=1.2.0 in /usr/local/lib/python3.10/dist-packages (from pyLDAvis) (1.3.1)\n",
            "Requirement already satisfied: jinja2 in /usr/local/lib/python3.10/dist-packages (from pyLDAvis) (3.1.2)\n",
            "Requirement already satisfied: numexpr in /usr/local/lib/python3.10/dist-packages (from pyLDAvis) (2.8.4)\n",
            "Requirement already satisfied: funcy in /usr/local/lib/python3.10/dist-packages (from pyLDAvis) (2.0)\n",
            "Requirement already satisfied: scikit-learn>=1.0.0 in /usr/local/lib/python3.10/dist-packages (from pyLDAvis) (1.2.2)\n",
            "Requirement already satisfied: gensim in /usr/local/lib/python3.10/dist-packages (from pyLDAvis) (4.3.1)\n",
            "Requirement already satisfied: setuptools in /usr/local/lib/python3.10/dist-packages (from pyLDAvis) (67.7.2)\n",
            "Requirement already satisfied: python-dateutil>=2.8.2 in /usr/local/lib/python3.10/dist-packages (from pandas>=2.0.0->pyLDAvis) (2.8.2)\n",
            "Requirement already satisfied: pytz>=2020.1 in /usr/local/lib/python3.10/dist-packages (from pandas>=2.0.0->pyLDAvis) (2022.7.1)\n",
            "Requirement already satisfied: tzdata>=2022.1 in /usr/local/lib/python3.10/dist-packages (from pandas>=2.0.0->pyLDAvis) (2023.3)\n",
            "Requirement already satisfied: threadpoolctl>=2.0.0 in /usr/local/lib/python3.10/dist-packages (from scikit-learn>=1.0.0->pyLDAvis) (3.2.0)\n",
            "Requirement already satisfied: smart-open>=1.8.1 in /usr/local/lib/python3.10/dist-packages (from gensim->pyLDAvis) (6.3.0)\n",
            "Requirement already satisfied: MarkupSafe>=2.0 in /usr/local/lib/python3.10/dist-packages (from jinja2->pyLDAvis) (2.1.3)\n",
            "Requirement already satisfied: six>=1.5 in /usr/local/lib/python3.10/dist-packages (from python-dateutil>=2.8.2->pandas>=2.0.0->pyLDAvis) (1.16.0)\n"
          ]
        }
      ]
    },
    {
      "cell_type": "code",
      "source": [
        "import gensim\n",
        "import pyLDAvis.gensim\n",
        "pyLDAvis.enable_notebook()\n",
        "import warnings\n",
        "warnings.filterwarnings(\"ignore\", category=DeprecationWarning)"
      ],
      "metadata": {
        "id": "jFMvh8GHv51p",
        "colab": {
          "base_uri": "https://localhost:8080/",
          "height": 381
        },
        "outputId": "90ee35aa-0eff-4995-b7dc-bc62a857949a"
      },
      "execution_count": 15,
      "outputs": [
        {
          "output_type": "error",
          "ename": "AttributeError",
          "evalue": "ignored",
          "traceback": [
            "\u001b[0;31m---------------------------------------------------------------------------\u001b[0m",
            "\u001b[0;31mAttributeError\u001b[0m                            Traceback (most recent call last)",
            "\u001b[0;32m<ipython-input-15-038fd61643ef>\u001b[0m in \u001b[0;36m<cell line: 1>\u001b[0;34m()\u001b[0m\n\u001b[0;32m----> 1\u001b[0;31m \u001b[0;32mimport\u001b[0m \u001b[0mgensim\u001b[0m\u001b[0;34m\u001b[0m\u001b[0;34m\u001b[0m\u001b[0m\n\u001b[0m\u001b[1;32m      2\u001b[0m \u001b[0;32mimport\u001b[0m \u001b[0mpyLDAvis\u001b[0m\u001b[0;34m.\u001b[0m\u001b[0mgensim\u001b[0m\u001b[0;34m\u001b[0m\u001b[0;34m\u001b[0m\u001b[0m\n\u001b[1;32m      3\u001b[0m \u001b[0mpyLDAvis\u001b[0m\u001b[0;34m.\u001b[0m\u001b[0menable_notebook\u001b[0m\u001b[0;34m(\u001b[0m\u001b[0;34m)\u001b[0m\u001b[0;34m\u001b[0m\u001b[0;34m\u001b[0m\u001b[0m\n\u001b[1;32m      4\u001b[0m \u001b[0;32mimport\u001b[0m \u001b[0mwarnings\u001b[0m\u001b[0;34m\u001b[0m\u001b[0;34m\u001b[0m\u001b[0m\n\u001b[1;32m      5\u001b[0m \u001b[0mwarnings\u001b[0m\u001b[0;34m.\u001b[0m\u001b[0mfilterwarnings\u001b[0m\u001b[0;34m(\u001b[0m\u001b[0;34m\"ignore\"\u001b[0m\u001b[0;34m,\u001b[0m \u001b[0mcategory\u001b[0m\u001b[0;34m=\u001b[0m\u001b[0mDeprecationWarning\u001b[0m\u001b[0;34m)\u001b[0m\u001b[0;34m\u001b[0m\u001b[0;34m\u001b[0m\u001b[0m\n",
            "\u001b[0;32m/usr/local/lib/python3.10/dist-packages/gensim/__init__.py\u001b[0m in \u001b[0;36m<module>\u001b[0;34m\u001b[0m\n\u001b[1;32m      9\u001b[0m \u001b[0;32mimport\u001b[0m \u001b[0mlogging\u001b[0m\u001b[0;34m\u001b[0m\u001b[0;34m\u001b[0m\u001b[0m\n\u001b[1;32m     10\u001b[0m \u001b[0;34m\u001b[0m\u001b[0m\n\u001b[0;32m---> 11\u001b[0;31m \u001b[0;32mfrom\u001b[0m \u001b[0mgensim\u001b[0m \u001b[0;32mimport\u001b[0m \u001b[0mparsing\u001b[0m\u001b[0;34m,\u001b[0m \u001b[0mcorpora\u001b[0m\u001b[0;34m,\u001b[0m \u001b[0mmatutils\u001b[0m\u001b[0;34m,\u001b[0m \u001b[0minterfaces\u001b[0m\u001b[0;34m,\u001b[0m \u001b[0mmodels\u001b[0m\u001b[0;34m,\u001b[0m \u001b[0msimilarities\u001b[0m\u001b[0;34m,\u001b[0m \u001b[0mutils\u001b[0m  \u001b[0;31m# noqa:F401\u001b[0m\u001b[0;34m\u001b[0m\u001b[0;34m\u001b[0m\u001b[0m\n\u001b[0m\u001b[1;32m     12\u001b[0m \u001b[0;34m\u001b[0m\u001b[0m\n\u001b[1;32m     13\u001b[0m \u001b[0;34m\u001b[0m\u001b[0m\n",
            "\u001b[0;32m/usr/local/lib/python3.10/dist-packages/gensim/corpora/__init__.py\u001b[0m in \u001b[0;36m<module>\u001b[0;34m\u001b[0m\n\u001b[1;32m      4\u001b[0m \u001b[0;34m\u001b[0m\u001b[0m\n\u001b[1;32m      5\u001b[0m \u001b[0;31m# bring corpus classes directly into package namespace, to save some typing\u001b[0m\u001b[0;34m\u001b[0m\u001b[0;34m\u001b[0m\u001b[0m\n\u001b[0;32m----> 6\u001b[0;31m \u001b[0;32mfrom\u001b[0m \u001b[0;34m.\u001b[0m\u001b[0mindexedcorpus\u001b[0m \u001b[0;32mimport\u001b[0m \u001b[0mIndexedCorpus\u001b[0m  \u001b[0;31m# noqa:F401 must appear before the other classes\u001b[0m\u001b[0;34m\u001b[0m\u001b[0;34m\u001b[0m\u001b[0m\n\u001b[0m\u001b[1;32m      7\u001b[0m \u001b[0;34m\u001b[0m\u001b[0m\n\u001b[1;32m      8\u001b[0m \u001b[0;32mfrom\u001b[0m \u001b[0;34m.\u001b[0m\u001b[0mmmcorpus\u001b[0m \u001b[0;32mimport\u001b[0m \u001b[0mMmCorpus\u001b[0m  \u001b[0;31m# noqa:F401\u001b[0m\u001b[0;34m\u001b[0m\u001b[0;34m\u001b[0m\u001b[0m\n",
            "\u001b[0;32m/usr/local/lib/python3.10/dist-packages/gensim/corpora/indexedcorpus.py\u001b[0m in \u001b[0;36m<module>\u001b[0;34m\u001b[0m\n\u001b[1;32m     12\u001b[0m \u001b[0;32mimport\u001b[0m \u001b[0mnumpy\u001b[0m\u001b[0;34m\u001b[0m\u001b[0;34m\u001b[0m\u001b[0m\n\u001b[1;32m     13\u001b[0m \u001b[0;34m\u001b[0m\u001b[0m\n\u001b[0;32m---> 14\u001b[0;31m \u001b[0;32mfrom\u001b[0m \u001b[0mgensim\u001b[0m \u001b[0;32mimport\u001b[0m \u001b[0minterfaces\u001b[0m\u001b[0;34m,\u001b[0m \u001b[0mutils\u001b[0m\u001b[0;34m\u001b[0m\u001b[0;34m\u001b[0m\u001b[0m\n\u001b[0m\u001b[1;32m     15\u001b[0m \u001b[0;34m\u001b[0m\u001b[0m\n\u001b[1;32m     16\u001b[0m \u001b[0mlogger\u001b[0m \u001b[0;34m=\u001b[0m \u001b[0mlogging\u001b[0m\u001b[0;34m.\u001b[0m\u001b[0mgetLogger\u001b[0m\u001b[0;34m(\u001b[0m\u001b[0m__name__\u001b[0m\u001b[0;34m)\u001b[0m\u001b[0;34m\u001b[0m\u001b[0;34m\u001b[0m\u001b[0m\n",
            "\u001b[0;32m/usr/local/lib/python3.10/dist-packages/gensim/interfaces.py\u001b[0m in \u001b[0;36m<module>\u001b[0;34m\u001b[0m\n\u001b[1;32m     17\u001b[0m \u001b[0;32mimport\u001b[0m \u001b[0mlogging\u001b[0m\u001b[0;34m\u001b[0m\u001b[0;34m\u001b[0m\u001b[0m\n\u001b[1;32m     18\u001b[0m \u001b[0;34m\u001b[0m\u001b[0m\n\u001b[0;32m---> 19\u001b[0;31m \u001b[0;32mfrom\u001b[0m \u001b[0mgensim\u001b[0m \u001b[0;32mimport\u001b[0m \u001b[0mutils\u001b[0m\u001b[0;34m,\u001b[0m \u001b[0mmatutils\u001b[0m\u001b[0;34m\u001b[0m\u001b[0;34m\u001b[0m\u001b[0m\n\u001b[0m\u001b[1;32m     20\u001b[0m \u001b[0;34m\u001b[0m\u001b[0m\n\u001b[1;32m     21\u001b[0m \u001b[0;34m\u001b[0m\u001b[0m\n",
            "\u001b[0;32m/usr/local/lib/python3.10/dist-packages/gensim/matutils.py\u001b[0m in \u001b[0;36m<module>\u001b[0;34m\u001b[0m\n\u001b[1;32m     17\u001b[0m \u001b[0;32mimport\u001b[0m \u001b[0mnumpy\u001b[0m \u001b[0;32mas\u001b[0m \u001b[0mnp\u001b[0m\u001b[0;34m\u001b[0m\u001b[0;34m\u001b[0m\u001b[0m\n\u001b[1;32m     18\u001b[0m \u001b[0;32mimport\u001b[0m \u001b[0mscipy\u001b[0m\u001b[0;34m.\u001b[0m\u001b[0msparse\u001b[0m\u001b[0;34m\u001b[0m\u001b[0;34m\u001b[0m\u001b[0m\n\u001b[0;32m---> 19\u001b[0;31m \u001b[0;32mfrom\u001b[0m \u001b[0mscipy\u001b[0m\u001b[0;34m.\u001b[0m\u001b[0mstats\u001b[0m \u001b[0;32mimport\u001b[0m \u001b[0mentropy\u001b[0m\u001b[0;34m\u001b[0m\u001b[0;34m\u001b[0m\u001b[0m\n\u001b[0m\u001b[1;32m     20\u001b[0m \u001b[0;32mfrom\u001b[0m \u001b[0mscipy\u001b[0m\u001b[0;34m.\u001b[0m\u001b[0mlinalg\u001b[0m \u001b[0;32mimport\u001b[0m \u001b[0mget_blas_funcs\u001b[0m\u001b[0;34m,\u001b[0m \u001b[0mtriu\u001b[0m\u001b[0;34m\u001b[0m\u001b[0;34m\u001b[0m\u001b[0m\n\u001b[1;32m     21\u001b[0m \u001b[0;32mfrom\u001b[0m \u001b[0mscipy\u001b[0m\u001b[0;34m.\u001b[0m\u001b[0mlinalg\u001b[0m\u001b[0;34m.\u001b[0m\u001b[0mlapack\u001b[0m \u001b[0;32mimport\u001b[0m \u001b[0mget_lapack_funcs\u001b[0m\u001b[0;34m\u001b[0m\u001b[0;34m\u001b[0m\u001b[0m\n",
            "\u001b[0;32m/usr/local/lib/python3.10/dist-packages/scipy/stats/__init__.py\u001b[0m in \u001b[0;36m<module>\u001b[0;34m\u001b[0m\n\u001b[1;32m    483\u001b[0m from ._warnings_errors import (ConstantInputWarning, NearConstantInputWarning,\n\u001b[1;32m    484\u001b[0m                                DegenerateDataWarning, FitError)\n\u001b[0;32m--> 485\u001b[0;31m \u001b[0;32mfrom\u001b[0m \u001b[0;34m.\u001b[0m\u001b[0m_stats_py\u001b[0m \u001b[0;32mimport\u001b[0m \u001b[0;34m*\u001b[0m\u001b[0;34m\u001b[0m\u001b[0;34m\u001b[0m\u001b[0m\n\u001b[0m\u001b[1;32m    486\u001b[0m \u001b[0;32mfrom\u001b[0m \u001b[0;34m.\u001b[0m\u001b[0m_variation\u001b[0m \u001b[0;32mimport\u001b[0m \u001b[0mvariation\u001b[0m\u001b[0;34m\u001b[0m\u001b[0;34m\u001b[0m\u001b[0m\n\u001b[1;32m    487\u001b[0m \u001b[0;32mfrom\u001b[0m \u001b[0;34m.\u001b[0m\u001b[0mdistributions\u001b[0m \u001b[0;32mimport\u001b[0m \u001b[0;34m*\u001b[0m\u001b[0;34m\u001b[0m\u001b[0;34m\u001b[0m\u001b[0m\n",
            "\u001b[0;32m/usr/local/lib/python3.10/dist-packages/scipy/stats/_stats_py.py\u001b[0m in \u001b[0;36m<module>\u001b[0;34m\u001b[0m\n\u001b[1;32m     35\u001b[0m \u001b[0;32mfrom\u001b[0m \u001b[0mnumpy\u001b[0m \u001b[0;32mimport\u001b[0m \u001b[0marray\u001b[0m\u001b[0;34m,\u001b[0m \u001b[0masarray\u001b[0m\u001b[0;34m,\u001b[0m \u001b[0mma\u001b[0m\u001b[0;34m\u001b[0m\u001b[0;34m\u001b[0m\u001b[0m\n\u001b[1;32m     36\u001b[0m \u001b[0;32mfrom\u001b[0m \u001b[0mnumpy\u001b[0m\u001b[0;34m.\u001b[0m\u001b[0mlib\u001b[0m \u001b[0;32mimport\u001b[0m \u001b[0mNumpyVersion\u001b[0m\u001b[0;34m\u001b[0m\u001b[0;34m\u001b[0m\u001b[0m\n\u001b[0;32m---> 37\u001b[0;31m \u001b[0;32mfrom\u001b[0m \u001b[0mnumpy\u001b[0m\u001b[0;34m.\u001b[0m\u001b[0mtesting\u001b[0m \u001b[0;32mimport\u001b[0m \u001b[0msuppress_warnings\u001b[0m\u001b[0;34m\u001b[0m\u001b[0;34m\u001b[0m\u001b[0m\n\u001b[0m\u001b[1;32m     38\u001b[0m \u001b[0;34m\u001b[0m\u001b[0m\n\u001b[1;32m     39\u001b[0m \u001b[0;32mfrom\u001b[0m \u001b[0mscipy\u001b[0m\u001b[0;34m.\u001b[0m\u001b[0mspatial\u001b[0m\u001b[0;34m.\u001b[0m\u001b[0mdistance\u001b[0m \u001b[0;32mimport\u001b[0m \u001b[0mcdist\u001b[0m\u001b[0;34m\u001b[0m\u001b[0;34m\u001b[0m\u001b[0m\n",
            "\u001b[0;32m/usr/local/lib/python3.10/dist-packages/numpy/testing/__init__.py\u001b[0m in \u001b[0;36m<module>\u001b[0;34m\u001b[0m\n\u001b[1;32m      9\u001b[0m \u001b[0;34m\u001b[0m\u001b[0m\n\u001b[1;32m     10\u001b[0m \u001b[0;32mfrom\u001b[0m \u001b[0;34m.\u001b[0m \u001b[0;32mimport\u001b[0m \u001b[0m_private\u001b[0m\u001b[0;34m\u001b[0m\u001b[0;34m\u001b[0m\u001b[0m\n\u001b[0;32m---> 11\u001b[0;31m \u001b[0;32mfrom\u001b[0m \u001b[0;34m.\u001b[0m\u001b[0m_private\u001b[0m\u001b[0;34m.\u001b[0m\u001b[0mutils\u001b[0m \u001b[0;32mimport\u001b[0m \u001b[0;34m*\u001b[0m\u001b[0;34m\u001b[0m\u001b[0;34m\u001b[0m\u001b[0m\n\u001b[0m\u001b[1;32m     12\u001b[0m \u001b[0;32mfrom\u001b[0m \u001b[0;34m.\u001b[0m\u001b[0m_private\u001b[0m\u001b[0;34m.\u001b[0m\u001b[0mutils\u001b[0m \u001b[0;32mimport\u001b[0m \u001b[0;34m(\u001b[0m\u001b[0m_assert_valid_refcount\u001b[0m\u001b[0;34m,\u001b[0m \u001b[0m_gen_alignment_data\u001b[0m\u001b[0;34m)\u001b[0m\u001b[0;34m\u001b[0m\u001b[0;34m\u001b[0m\u001b[0m\n\u001b[1;32m     13\u001b[0m \u001b[0;32mfrom\u001b[0m \u001b[0;34m.\u001b[0m\u001b[0m_private\u001b[0m \u001b[0;32mimport\u001b[0m \u001b[0mextbuild\u001b[0m\u001b[0;34m\u001b[0m\u001b[0;34m\u001b[0m\u001b[0m\n",
            "\u001b[0;32m/usr/local/lib/python3.10/dist-packages/numpy/testing/_private/utils.py\u001b[0m in \u001b[0;36m<module>\u001b[0;34m\u001b[0m\n\u001b[1;32m    411\u001b[0m \u001b[0;34m\u001b[0m\u001b[0m\n\u001b[1;32m    412\u001b[0m \u001b[0;34m\u001b[0m\u001b[0m\n\u001b[0;32m--> 413\u001b[0;31m \u001b[0;34m@\u001b[0m\u001b[0mnp\u001b[0m\u001b[0;34m.\u001b[0m\u001b[0m_no_nep50_warning\u001b[0m\u001b[0;34m(\u001b[0m\u001b[0;34m)\u001b[0m\u001b[0;34m\u001b[0m\u001b[0;34m\u001b[0m\u001b[0m\n\u001b[0m\u001b[1;32m    414\u001b[0m \u001b[0;32mdef\u001b[0m \u001b[0massert_almost_equal\u001b[0m\u001b[0;34m(\u001b[0m\u001b[0mactual\u001b[0m\u001b[0;34m,\u001b[0m \u001b[0mdesired\u001b[0m\u001b[0;34m,\u001b[0m \u001b[0mdecimal\u001b[0m\u001b[0;34m=\u001b[0m\u001b[0;36m7\u001b[0m\u001b[0;34m,\u001b[0m \u001b[0merr_msg\u001b[0m\u001b[0;34m=\u001b[0m\u001b[0;34m''\u001b[0m\u001b[0;34m,\u001b[0m \u001b[0mverbose\u001b[0m\u001b[0;34m=\u001b[0m\u001b[0;32mTrue\u001b[0m\u001b[0;34m)\u001b[0m\u001b[0;34m:\u001b[0m\u001b[0;34m\u001b[0m\u001b[0;34m\u001b[0m\u001b[0m\n\u001b[1;32m    415\u001b[0m     \"\"\"\n",
            "\u001b[0;32m/usr/local/lib/python3.10/dist-packages/numpy/__init__.py\u001b[0m in \u001b[0;36m__getattr__\u001b[0;34m(attr)\u001b[0m\n\u001b[1;32m    313\u001b[0m             \u001b[0;32mraise\u001b[0m \u001b[0mAttributeError\u001b[0m\u001b[0;34m(\u001b[0m\u001b[0m__former_attrs__\u001b[0m\u001b[0;34m[\u001b[0m\u001b[0mattr\u001b[0m\u001b[0;34m]\u001b[0m\u001b[0;34m)\u001b[0m\u001b[0;34m\u001b[0m\u001b[0;34m\u001b[0m\u001b[0m\n\u001b[1;32m    314\u001b[0m \u001b[0;34m\u001b[0m\u001b[0m\n\u001b[0;32m--> 315\u001b[0;31m         \u001b[0;32mif\u001b[0m \u001b[0mattr\u001b[0m \u001b[0;34m==\u001b[0m \u001b[0;34m'testing'\u001b[0m\u001b[0;34m:\u001b[0m\u001b[0;34m\u001b[0m\u001b[0;34m\u001b[0m\u001b[0m\n\u001b[0m\u001b[1;32m    316\u001b[0m             \u001b[0;32mimport\u001b[0m \u001b[0mnumpy\u001b[0m\u001b[0;34m.\u001b[0m\u001b[0mtesting\u001b[0m \u001b[0;32mas\u001b[0m \u001b[0mtesting\u001b[0m\u001b[0;34m\u001b[0m\u001b[0;34m\u001b[0m\u001b[0m\n\u001b[1;32m    317\u001b[0m             \u001b[0;32mreturn\u001b[0m \u001b[0mtesting\u001b[0m\u001b[0;34m\u001b[0m\u001b[0;34m\u001b[0m\u001b[0m\n",
            "\u001b[0;31mAttributeError\u001b[0m: module 'numpy' has no attribute '_no_nep50_warning'"
          ]
        }
      ]
    },
    {
      "cell_type": "code",
      "source": [
        "!pip install --upgrade pythainlp\n"
      ],
      "metadata": {
        "id": "xB6eM8v8wCof",
        "colab": {
          "base_uri": "https://localhost:8080/"
        },
        "outputId": "91096aac-771c-4e6f-f087-91719cbd9975"
      },
      "execution_count": 8,
      "outputs": [
        {
          "output_type": "stream",
          "name": "stdout",
          "text": [
            "Collecting pythainlp\n",
            "  Downloading pythainlp-4.0.2-py3-none-any.whl (13.4 MB)\n",
            "\u001b[2K     \u001b[90m━━━━━━━━━━━━━━━━━━━━━━━━━━━━━━━━━━━━━━━━\u001b[0m \u001b[32m13.4/13.4 MB\u001b[0m \u001b[31m60.1 MB/s\u001b[0m eta \u001b[36m0:00:00\u001b[0m\n",
            "\u001b[?25hRequirement already satisfied: requests>=2.22.0 in /usr/local/lib/python3.10/dist-packages (from pythainlp) (2.27.1)\n",
            "Requirement already satisfied: urllib3<1.27,>=1.21.1 in /usr/local/lib/python3.10/dist-packages (from requests>=2.22.0->pythainlp) (1.26.16)\n",
            "Requirement already satisfied: certifi>=2017.4.17 in /usr/local/lib/python3.10/dist-packages (from requests>=2.22.0->pythainlp) (2023.7.22)\n",
            "Requirement already satisfied: charset-normalizer~=2.0.0 in /usr/local/lib/python3.10/dist-packages (from requests>=2.22.0->pythainlp) (2.0.12)\n",
            "Requirement already satisfied: idna<4,>=2.5 in /usr/local/lib/python3.10/dist-packages (from requests>=2.22.0->pythainlp) (3.4)\n",
            "Installing collected packages: pythainlp\n",
            "Successfully installed pythainlp-4.0.2\n"
          ]
        }
      ]
    },
    {
      "cell_type": "code",
      "source": [
        "import pythainlp"
      ],
      "metadata": {
        "id": "C9qcC4iGw9nf"
      },
      "execution_count": 10,
      "outputs": []
    },
    {
      "cell_type": "code",
      "source": [
        "df = pd.read_csv('JDI_review_oppenheimer_movie.csv')"
      ],
      "metadata": {
        "id": "-fuhSAzZwPpp"
      },
      "execution_count": 18,
      "outputs": []
    },
    {
      "cell_type": "code",
      "source": [
        "df.tail()"
      ],
      "metadata": {
        "id": "5fNO_1RYwpYf",
        "colab": {
          "base_uri": "https://localhost:8080/",
          "height": 206
        },
        "outputId": "295788e6-429f-41a3-b339-176d0faa7ef3"
      },
      "execution_count": null,
      "outputs": [
        {
          "output_type": "execute_result",
          "data": {
            "text/plain": [
              "    review_id                                            comment\n",
              "7         349     โนแลน คือคนที่ทำให้เชื่อทุกครั้ง ในสิ่งที่เล่า\n",
              "8         907  ชอบเพราะแค่ดู เราก็แทบจะสัมผัสได้ทั้ง รูป รส ก...\n",
              "9         899  นำเสรอได้น่าดูมากเลยคะ ดารานำรุ้ว่าเล่นดีตีบทแ...\n",
              "10        474  Nolan หนังคุณภาพ ที่คนชอบดูหนังไม่ควรพลาด อีกเ...\n",
              "11        616  คำพูดที่ว่าโลกยังไม่พร้อม ก็คงแบบเดียวกับ ai ล..."
            ],
            "text/html": [
              "\n",
              "\n",
              "  <div id=\"df-36a4e586-82be-4e15-8725-cf7f5af2a646\">\n",
              "    <div class=\"colab-df-container\">\n",
              "      <div>\n",
              "<style scoped>\n",
              "    .dataframe tbody tr th:only-of-type {\n",
              "        vertical-align: middle;\n",
              "    }\n",
              "\n",
              "    .dataframe tbody tr th {\n",
              "        vertical-align: top;\n",
              "    }\n",
              "\n",
              "    .dataframe thead th {\n",
              "        text-align: right;\n",
              "    }\n",
              "</style>\n",
              "<table border=\"1\" class=\"dataframe\">\n",
              "  <thead>\n",
              "    <tr style=\"text-align: right;\">\n",
              "      <th></th>\n",
              "      <th>review_id</th>\n",
              "      <th>comment</th>\n",
              "    </tr>\n",
              "  </thead>\n",
              "  <tbody>\n",
              "    <tr>\n",
              "      <th>7</th>\n",
              "      <td>349</td>\n",
              "      <td>โนแลน คือคนที่ทำให้เชื่อทุกครั้ง ในสิ่งที่เล่า</td>\n",
              "    </tr>\n",
              "    <tr>\n",
              "      <th>8</th>\n",
              "      <td>907</td>\n",
              "      <td>ชอบเพราะแค่ดู เราก็แทบจะสัมผัสได้ทั้ง รูป รส ก...</td>\n",
              "    </tr>\n",
              "    <tr>\n",
              "      <th>9</th>\n",
              "      <td>899</td>\n",
              "      <td>นำเสรอได้น่าดูมากเลยคะ ดารานำรุ้ว่าเล่นดีตีบทแ...</td>\n",
              "    </tr>\n",
              "    <tr>\n",
              "      <th>10</th>\n",
              "      <td>474</td>\n",
              "      <td>Nolan หนังคุณภาพ ที่คนชอบดูหนังไม่ควรพลาด อีกเ...</td>\n",
              "    </tr>\n",
              "    <tr>\n",
              "      <th>11</th>\n",
              "      <td>616</td>\n",
              "      <td>คำพูดที่ว่าโลกยังไม่พร้อม ก็คงแบบเดียวกับ ai ล...</td>\n",
              "    </tr>\n",
              "  </tbody>\n",
              "</table>\n",
              "</div>\n",
              "      <button class=\"colab-df-convert\" onclick=\"convertToInteractive('df-36a4e586-82be-4e15-8725-cf7f5af2a646')\"\n",
              "              title=\"Convert this dataframe to an interactive table.\"\n",
              "              style=\"display:none;\">\n",
              "\n",
              "  <svg xmlns=\"http://www.w3.org/2000/svg\" height=\"24px\"viewBox=\"0 0 24 24\"\n",
              "       width=\"24px\">\n",
              "    <path d=\"M0 0h24v24H0V0z\" fill=\"none\"/>\n",
              "    <path d=\"M18.56 5.44l.94 2.06.94-2.06 2.06-.94-2.06-.94-.94-2.06-.94 2.06-2.06.94zm-11 1L8.5 8.5l.94-2.06 2.06-.94-2.06-.94L8.5 2.5l-.94 2.06-2.06.94zm10 10l.94 2.06.94-2.06 2.06-.94-2.06-.94-.94-2.06-.94 2.06-2.06.94z\"/><path d=\"M17.41 7.96l-1.37-1.37c-.4-.4-.92-.59-1.43-.59-.52 0-1.04.2-1.43.59L10.3 9.45l-7.72 7.72c-.78.78-.78 2.05 0 2.83L4 21.41c.39.39.9.59 1.41.59.51 0 1.02-.2 1.41-.59l7.78-7.78 2.81-2.81c.8-.78.8-2.07 0-2.86zM5.41 20L4 18.59l7.72-7.72 1.47 1.35L5.41 20z\"/>\n",
              "  </svg>\n",
              "      </button>\n",
              "\n",
              "\n",
              "\n",
              "    <div id=\"df-20931f96-5a81-47f0-86f9-48e571912213\">\n",
              "      <button class=\"colab-df-quickchart\" onclick=\"quickchart('df-20931f96-5a81-47f0-86f9-48e571912213')\"\n",
              "              title=\"Suggest charts.\"\n",
              "              style=\"display:none;\">\n",
              "\n",
              "<svg xmlns=\"http://www.w3.org/2000/svg\" height=\"24px\"viewBox=\"0 0 24 24\"\n",
              "     width=\"24px\">\n",
              "    <g>\n",
              "        <path d=\"M19 3H5c-1.1 0-2 .9-2 2v14c0 1.1.9 2 2 2h14c1.1 0 2-.9 2-2V5c0-1.1-.9-2-2-2zM9 17H7v-7h2v7zm4 0h-2V7h2v10zm4 0h-2v-4h2v4z\"/>\n",
              "    </g>\n",
              "</svg>\n",
              "      </button>\n",
              "    </div>\n",
              "\n",
              "<style>\n",
              "  .colab-df-quickchart {\n",
              "    background-color: #E8F0FE;\n",
              "    border: none;\n",
              "    border-radius: 50%;\n",
              "    cursor: pointer;\n",
              "    display: none;\n",
              "    fill: #1967D2;\n",
              "    height: 32px;\n",
              "    padding: 0 0 0 0;\n",
              "    width: 32px;\n",
              "  }\n",
              "\n",
              "  .colab-df-quickchart:hover {\n",
              "    background-color: #E2EBFA;\n",
              "    box-shadow: 0px 1px 2px rgba(60, 64, 67, 0.3), 0px 1px 3px 1px rgba(60, 64, 67, 0.15);\n",
              "    fill: #174EA6;\n",
              "  }\n",
              "\n",
              "  [theme=dark] .colab-df-quickchart {\n",
              "    background-color: #3B4455;\n",
              "    fill: #D2E3FC;\n",
              "  }\n",
              "\n",
              "  [theme=dark] .colab-df-quickchart:hover {\n",
              "    background-color: #434B5C;\n",
              "    box-shadow: 0px 1px 3px 1px rgba(0, 0, 0, 0.15);\n",
              "    filter: drop-shadow(0px 1px 2px rgba(0, 0, 0, 0.3));\n",
              "    fill: #FFFFFF;\n",
              "  }\n",
              "</style>\n",
              "\n",
              "    <script>\n",
              "      async function quickchart(key) {\n",
              "        const containerElement = document.querySelector('#' + key);\n",
              "        const charts = await google.colab.kernel.invokeFunction(\n",
              "            'suggestCharts', [key], {});\n",
              "      }\n",
              "    </script>\n",
              "\n",
              "      <script>\n",
              "\n",
              "function displayQuickchartButton(domScope) {\n",
              "  let quickchartButtonEl =\n",
              "    domScope.querySelector('#df-20931f96-5a81-47f0-86f9-48e571912213 button.colab-df-quickchart');\n",
              "  quickchartButtonEl.style.display =\n",
              "    google.colab.kernel.accessAllowed ? 'block' : 'none';\n",
              "}\n",
              "\n",
              "        displayQuickchartButton(document);\n",
              "      </script>\n",
              "      <style>\n",
              "    .colab-df-container {\n",
              "      display:flex;\n",
              "      flex-wrap:wrap;\n",
              "      gap: 12px;\n",
              "    }\n",
              "\n",
              "    .colab-df-convert {\n",
              "      background-color: #E8F0FE;\n",
              "      border: none;\n",
              "      border-radius: 50%;\n",
              "      cursor: pointer;\n",
              "      display: none;\n",
              "      fill: #1967D2;\n",
              "      height: 32px;\n",
              "      padding: 0 0 0 0;\n",
              "      width: 32px;\n",
              "    }\n",
              "\n",
              "    .colab-df-convert:hover {\n",
              "      background-color: #E2EBFA;\n",
              "      box-shadow: 0px 1px 2px rgba(60, 64, 67, 0.3), 0px 1px 3px 1px rgba(60, 64, 67, 0.15);\n",
              "      fill: #174EA6;\n",
              "    }\n",
              "\n",
              "    [theme=dark] .colab-df-convert {\n",
              "      background-color: #3B4455;\n",
              "      fill: #D2E3FC;\n",
              "    }\n",
              "\n",
              "    [theme=dark] .colab-df-convert:hover {\n",
              "      background-color: #434B5C;\n",
              "      box-shadow: 0px 1px 3px 1px rgba(0, 0, 0, 0.15);\n",
              "      filter: drop-shadow(0px 1px 2px rgba(0, 0, 0, 0.3));\n",
              "      fill: #FFFFFF;\n",
              "    }\n",
              "  </style>\n",
              "\n",
              "      <script>\n",
              "        const buttonEl =\n",
              "          document.querySelector('#df-36a4e586-82be-4e15-8725-cf7f5af2a646 button.colab-df-convert');\n",
              "        buttonEl.style.display =\n",
              "          google.colab.kernel.accessAllowed ? 'block' : 'none';\n",
              "\n",
              "        async function convertToInteractive(key) {\n",
              "          const element = document.querySelector('#df-36a4e586-82be-4e15-8725-cf7f5af2a646');\n",
              "          const dataTable =\n",
              "            await google.colab.kernel.invokeFunction('convertToInteractive',\n",
              "                                                     [key], {});\n",
              "          if (!dataTable) return;\n",
              "\n",
              "          const docLinkHtml = 'Like what you see? Visit the ' +\n",
              "            '<a target=\"_blank\" href=https://colab.research.google.com/notebooks/data_table.ipynb>data table notebook</a>'\n",
              "            + ' to learn more about interactive tables.';\n",
              "          element.innerHTML = '';\n",
              "          dataTable['output_type'] = 'display_data';\n",
              "          await google.colab.output.renderOutput(dataTable, element);\n",
              "          const docLink = document.createElement('div');\n",
              "          docLink.innerHTML = docLinkHtml;\n",
              "          element.appendChild(docLink);\n",
              "        }\n",
              "      </script>\n",
              "    </div>\n",
              "  </div>\n"
            ]
          },
          "metadata": {},
          "execution_count": 15
        }
      ]
    },
    {
      "cell_type": "code",
      "source": [
        "stopwords = list(pythainlp.corpus.thai_stopwords())\n",
        "removed_words = [' ']\n",
        "screening_words = stopwords + removed_words\n",
        "\n",
        "def tokenize_with_space (sentence):\n",
        "  merged = ''\n",
        "  words = pythainlp.word_tokenize(str(sentence), engine='newmm')\n",
        "  for word in words:\n",
        "    if word not in screening_words:\n",
        "      merged = merged + ',' + word\n",
        "  return merged [1:]"
      ],
      "metadata": {
        "id": "grL0ROEZy8fm"
      },
      "execution_count": null,
      "outputs": []
    },
    {
      "cell_type": "code",
      "source": [
        "df['review_tokenized'] = df['comment'].apply(lambda x: tokenize_with_space(x))"
      ],
      "metadata": {
        "id": "1klL4-E4z-Tb"
      },
      "execution_count": null,
      "outputs": []
    },
    {
      "cell_type": "code",
      "source": [
        "df.tail()"
      ],
      "metadata": {
        "id": "W-iI4o3Z0T9S",
        "colab": {
          "base_uri": "https://localhost:8080/",
          "height": 206
        },
        "outputId": "0611b1f1-79db-4e48-a4c5-b4d753e04843"
      },
      "execution_count": null,
      "outputs": [
        {
          "output_type": "execute_result",
          "data": {
            "text/plain": [
              "    review_id                                            comment  \\\n",
              "7         349     โนแลน คือคนที่ทำให้เชื่อทุกครั้ง ในสิ่งที่เล่า   \n",
              "8         907  ชอบเพราะแค่ดู เราก็แทบจะสัมผัสได้ทั้ง รูป รส ก...   \n",
              "9         899  นำเสรอได้น่าดูมากเลยคะ ดารานำรุ้ว่าเล่นดีตีบทแ...   \n",
              "10        474  Nolan หนังคุณภาพ ที่คนชอบดูหนังไม่ควรพลาด อีกเ...   \n",
              "11        616  คำพูดที่ว่าโลกยังไม่พร้อม ก็คงแบบเดียวกับ ai ล...   \n",
              "\n",
              "                                     review_tokenized  \n",
              "7                                      โน,แลน,คน,เล่า  \n",
              "8   ชอบ,ดู,แทบจะ,สัมผัส,รูป,รส,กลิ่น,เสียง,เหมือน,...  \n",
              "9   เส,รอ,น่าดู,ดารา,รุ้,เล่น,ดี,ตีบทแตก,เรื่อง,ดา...  \n",
              "10   Nolan,หนัง,คุณภาพ,คน,ชอบ,ดู,หนัง,พลาด,เรื่อง,นึง  \n",
              "11  คำพูด,โลก,ai,มั้ง,สุดท้าย,กำเนิด,แปล,ให้ได้,ปล...  "
            ],
            "text/html": [
              "\n",
              "\n",
              "  <div id=\"df-abb1eac2-3ba6-4a81-916e-b4f52ffbdd07\">\n",
              "    <div class=\"colab-df-container\">\n",
              "      <div>\n",
              "<style scoped>\n",
              "    .dataframe tbody tr th:only-of-type {\n",
              "        vertical-align: middle;\n",
              "    }\n",
              "\n",
              "    .dataframe tbody tr th {\n",
              "        vertical-align: top;\n",
              "    }\n",
              "\n",
              "    .dataframe thead th {\n",
              "        text-align: right;\n",
              "    }\n",
              "</style>\n",
              "<table border=\"1\" class=\"dataframe\">\n",
              "  <thead>\n",
              "    <tr style=\"text-align: right;\">\n",
              "      <th></th>\n",
              "      <th>review_id</th>\n",
              "      <th>comment</th>\n",
              "      <th>review_tokenized</th>\n",
              "    </tr>\n",
              "  </thead>\n",
              "  <tbody>\n",
              "    <tr>\n",
              "      <th>7</th>\n",
              "      <td>349</td>\n",
              "      <td>โนแลน คือคนที่ทำให้เชื่อทุกครั้ง ในสิ่งที่เล่า</td>\n",
              "      <td>โน,แลน,คน,เล่า</td>\n",
              "    </tr>\n",
              "    <tr>\n",
              "      <th>8</th>\n",
              "      <td>907</td>\n",
              "      <td>ชอบเพราะแค่ดู เราก็แทบจะสัมผัสได้ทั้ง รูป รส ก...</td>\n",
              "      <td>ชอบ,ดู,แทบจะ,สัมผัส,รูป,รส,กลิ่น,เสียง,เหมือน,...</td>\n",
              "    </tr>\n",
              "    <tr>\n",
              "      <th>9</th>\n",
              "      <td>899</td>\n",
              "      <td>นำเสรอได้น่าดูมากเลยคะ ดารานำรุ้ว่าเล่นดีตีบทแ...</td>\n",
              "      <td>เส,รอ,น่าดู,ดารา,รุ้,เล่น,ดี,ตีบทแตก,เรื่อง,ดา...</td>\n",
              "    </tr>\n",
              "    <tr>\n",
              "      <th>10</th>\n",
              "      <td>474</td>\n",
              "      <td>Nolan หนังคุณภาพ ที่คนชอบดูหนังไม่ควรพลาด อีกเ...</td>\n",
              "      <td>Nolan,หนัง,คุณภาพ,คน,ชอบ,ดู,หนัง,พลาด,เรื่อง,นึง</td>\n",
              "    </tr>\n",
              "    <tr>\n",
              "      <th>11</th>\n",
              "      <td>616</td>\n",
              "      <td>คำพูดที่ว่าโลกยังไม่พร้อม ก็คงแบบเดียวกับ ai ล...</td>\n",
              "      <td>คำพูด,โลก,ai,มั้ง,สุดท้าย,กำเนิด,แปล,ให้ได้,ปล...</td>\n",
              "    </tr>\n",
              "  </tbody>\n",
              "</table>\n",
              "</div>\n",
              "      <button class=\"colab-df-convert\" onclick=\"convertToInteractive('df-abb1eac2-3ba6-4a81-916e-b4f52ffbdd07')\"\n",
              "              title=\"Convert this dataframe to an interactive table.\"\n",
              "              style=\"display:none;\">\n",
              "\n",
              "  <svg xmlns=\"http://www.w3.org/2000/svg\" height=\"24px\"viewBox=\"0 0 24 24\"\n",
              "       width=\"24px\">\n",
              "    <path d=\"M0 0h24v24H0V0z\" fill=\"none\"/>\n",
              "    <path d=\"M18.56 5.44l.94 2.06.94-2.06 2.06-.94-2.06-.94-.94-2.06-.94 2.06-2.06.94zm-11 1L8.5 8.5l.94-2.06 2.06-.94-2.06-.94L8.5 2.5l-.94 2.06-2.06.94zm10 10l.94 2.06.94-2.06 2.06-.94-2.06-.94-.94-2.06-.94 2.06-2.06.94z\"/><path d=\"M17.41 7.96l-1.37-1.37c-.4-.4-.92-.59-1.43-.59-.52 0-1.04.2-1.43.59L10.3 9.45l-7.72 7.72c-.78.78-.78 2.05 0 2.83L4 21.41c.39.39.9.59 1.41.59.51 0 1.02-.2 1.41-.59l7.78-7.78 2.81-2.81c.8-.78.8-2.07 0-2.86zM5.41 20L4 18.59l7.72-7.72 1.47 1.35L5.41 20z\"/>\n",
              "  </svg>\n",
              "      </button>\n",
              "\n",
              "\n",
              "\n",
              "    <div id=\"df-5d100368-c0ee-420c-a812-9a34a4d66738\">\n",
              "      <button class=\"colab-df-quickchart\" onclick=\"quickchart('df-5d100368-c0ee-420c-a812-9a34a4d66738')\"\n",
              "              title=\"Suggest charts.\"\n",
              "              style=\"display:none;\">\n",
              "\n",
              "<svg xmlns=\"http://www.w3.org/2000/svg\" height=\"24px\"viewBox=\"0 0 24 24\"\n",
              "     width=\"24px\">\n",
              "    <g>\n",
              "        <path d=\"M19 3H5c-1.1 0-2 .9-2 2v14c0 1.1.9 2 2 2h14c1.1 0 2-.9 2-2V5c0-1.1-.9-2-2-2zM9 17H7v-7h2v7zm4 0h-2V7h2v10zm4 0h-2v-4h2v4z\"/>\n",
              "    </g>\n",
              "</svg>\n",
              "      </button>\n",
              "    </div>\n",
              "\n",
              "<style>\n",
              "  .colab-df-quickchart {\n",
              "    background-color: #E8F0FE;\n",
              "    border: none;\n",
              "    border-radius: 50%;\n",
              "    cursor: pointer;\n",
              "    display: none;\n",
              "    fill: #1967D2;\n",
              "    height: 32px;\n",
              "    padding: 0 0 0 0;\n",
              "    width: 32px;\n",
              "  }\n",
              "\n",
              "  .colab-df-quickchart:hover {\n",
              "    background-color: #E2EBFA;\n",
              "    box-shadow: 0px 1px 2px rgba(60, 64, 67, 0.3), 0px 1px 3px 1px rgba(60, 64, 67, 0.15);\n",
              "    fill: #174EA6;\n",
              "  }\n",
              "\n",
              "  [theme=dark] .colab-df-quickchart {\n",
              "    background-color: #3B4455;\n",
              "    fill: #D2E3FC;\n",
              "  }\n",
              "\n",
              "  [theme=dark] .colab-df-quickchart:hover {\n",
              "    background-color: #434B5C;\n",
              "    box-shadow: 0px 1px 3px 1px rgba(0, 0, 0, 0.15);\n",
              "    filter: drop-shadow(0px 1px 2px rgba(0, 0, 0, 0.3));\n",
              "    fill: #FFFFFF;\n",
              "  }\n",
              "</style>\n",
              "\n",
              "    <script>\n",
              "      async function quickchart(key) {\n",
              "        const containerElement = document.querySelector('#' + key);\n",
              "        const charts = await google.colab.kernel.invokeFunction(\n",
              "            'suggestCharts', [key], {});\n",
              "      }\n",
              "    </script>\n",
              "\n",
              "      <script>\n",
              "\n",
              "function displayQuickchartButton(domScope) {\n",
              "  let quickchartButtonEl =\n",
              "    domScope.querySelector('#df-5d100368-c0ee-420c-a812-9a34a4d66738 button.colab-df-quickchart');\n",
              "  quickchartButtonEl.style.display =\n",
              "    google.colab.kernel.accessAllowed ? 'block' : 'none';\n",
              "}\n",
              "\n",
              "        displayQuickchartButton(document);\n",
              "      </script>\n",
              "      <style>\n",
              "    .colab-df-container {\n",
              "      display:flex;\n",
              "      flex-wrap:wrap;\n",
              "      gap: 12px;\n",
              "    }\n",
              "\n",
              "    .colab-df-convert {\n",
              "      background-color: #E8F0FE;\n",
              "      border: none;\n",
              "      border-radius: 50%;\n",
              "      cursor: pointer;\n",
              "      display: none;\n",
              "      fill: #1967D2;\n",
              "      height: 32px;\n",
              "      padding: 0 0 0 0;\n",
              "      width: 32px;\n",
              "    }\n",
              "\n",
              "    .colab-df-convert:hover {\n",
              "      background-color: #E2EBFA;\n",
              "      box-shadow: 0px 1px 2px rgba(60, 64, 67, 0.3), 0px 1px 3px 1px rgba(60, 64, 67, 0.15);\n",
              "      fill: #174EA6;\n",
              "    }\n",
              "\n",
              "    [theme=dark] .colab-df-convert {\n",
              "      background-color: #3B4455;\n",
              "      fill: #D2E3FC;\n",
              "    }\n",
              "\n",
              "    [theme=dark] .colab-df-convert:hover {\n",
              "      background-color: #434B5C;\n",
              "      box-shadow: 0px 1px 3px 1px rgba(0, 0, 0, 0.15);\n",
              "      filter: drop-shadow(0px 1px 2px rgba(0, 0, 0, 0.3));\n",
              "      fill: #FFFFFF;\n",
              "    }\n",
              "  </style>\n",
              "\n",
              "      <script>\n",
              "        const buttonEl =\n",
              "          document.querySelector('#df-abb1eac2-3ba6-4a81-916e-b4f52ffbdd07 button.colab-df-convert');\n",
              "        buttonEl.style.display =\n",
              "          google.colab.kernel.accessAllowed ? 'block' : 'none';\n",
              "\n",
              "        async function convertToInteractive(key) {\n",
              "          const element = document.querySelector('#df-abb1eac2-3ba6-4a81-916e-b4f52ffbdd07');\n",
              "          const dataTable =\n",
              "            await google.colab.kernel.invokeFunction('convertToInteractive',\n",
              "                                                     [key], {});\n",
              "          if (!dataTable) return;\n",
              "\n",
              "          const docLinkHtml = 'Like what you see? Visit the ' +\n",
              "            '<a target=\"_blank\" href=https://colab.research.google.com/notebooks/data_table.ipynb>data table notebook</a>'\n",
              "            + ' to learn more about interactive tables.';\n",
              "          element.innerHTML = '';\n",
              "          dataTable['output_type'] = 'display_data';\n",
              "          await google.colab.output.renderOutput(dataTable, element);\n",
              "          const docLink = document.createElement('div');\n",
              "          docLink.innerHTML = docLinkHtml;\n",
              "          element.appendChild(docLink);\n",
              "        }\n",
              "      </script>\n",
              "    </div>\n",
              "  </div>\n"
            ]
          },
          "metadata": {},
          "execution_count": 18
        }
      ]
    },
    {
      "cell_type": "code",
      "source": [
        "documents = df['review_tokenized'].to_list()\n",
        "texts = [[text for text in doc.split(',')] for doc in documents]\n",
        "dictionary = gensim.corpora.Dictionary(texts)"
      ],
      "metadata": {
        "id": "B_NP3dfc1SDZ"
      },
      "execution_count": null,
      "outputs": []
    },
    {
      "cell_type": "code",
      "source": [
        "print(dictionary.token2id.keys())"
      ],
      "metadata": {
        "colab": {
          "base_uri": "https://localhost:8080/"
        },
        "id": "d1PBuAzO1-LD",
        "outputId": "58e7b364-895b-4e56-c044-adab37bea696"
      },
      "execution_count": null,
      "outputs": [
        {
          "output_type": "stream",
          "name": "stdout",
          "text": [
            "dict_keys(['ขาย', 'คับ', 'ชัดเจน', 'ตลาด', 'ตัวเอง', 'ทั่วโลก', 'ทำเงิน', 'ผู้กำกับ', 'ลายเซ็น', 'หนัง', 'หา', 'แลน', 'โน', 'กำกับ', 'กี่', 'คน', 'ชื่อ', 'ดารา', 'น่าดู', 'ผู้ชม', 'ร่วมงาน', 'สนใจ', 'เก่ง', 'แทบ', 'การคัดเลือก', 'ดง', 'บท', 'ปฏิเสธ', 'ประทับใจ', 'ฝีมือ', 'พูดถึง', 'ฟี่', 'รับบท', 'เ', 'เมอร์', 'เรื่อง', 'เส', 'เหมาะกับ', 'ไม่ต้อง', 'cg', 'ความตั้งใจ', 'ความสมจริง', 'คุณภาพ', 'งาน', 'จิตวิญญาณ', 'ฉาก', 'ชอบ', 'ผลงาน', 'ภาพ', 'สัมผัส', 'เจ๋ง', 'ใส่', 'ให้ได้', 'Batnan', 'wow', 'การ์ตูน', 'ก้อ', 'ขนาด', 'คัว', 'ดู', 'ตอน', 'ถาม', 'ผม', 'มาจาก', 'ว้าว', 'สมจริง', 'สร้าง', 'หนังสือ', 'เบื่อ', 'เสมอ', 'แลน์', 'โจํกเกอร์', 'โดยเฉพาะ', 'blinders', 'peaky', 'การแสดง', 'คำตอบ', 'ชาย', 'ทึ่ง', 'อ.', 'แนะนำ', 'แน่นอน', 'ได้ดี', 'ไหม', '555', 'CGI', 'IMAX', 'ของจริง', 'ควรจะ', 'ตัอง', 'ต่างจังหวัด', 'นักแสดง', 'พ่อ', 'ระเบิด', 'อด', 'เบื้องหลัง', 'เสด็จ', 'โรง', 'เล่า', 'กลิ่น', 'คนดู', 'ดึง', 'ตรงนั้น', 'ทำ', 'พล็อต', 'ยืน', 'รส', 'รูป', 'สื่อสาร', 'หลุด', 'ออกมา', 'เกิดขึ้น', 'เสียง', 'เหมือน', 'แทบจะ', 'ดี', 'ตีบทแตก', 'นึ้', 'มิชชั่น', 'ม่อน', 'รอ', 'รุ้', 'เก่', 'เก๋า', 'เล่น', 'แจม', 'แมท', 'แมน', 'โรเบิร์ต', 'ได', 'ไอรอน', 'Nolan', 'นึง', 'พลาด', 'ai', 'กำเนิด', 'คำพูด', 'ท้าทาย', 'ปล.', 'มั้ง', 'สิ่งใหม่', 'สุดท้าย', 'แปล', 'แลนด์', 'โลก'])\n"
          ]
        }
      ]
    },
    {
      "cell_type": "code",
      "source": [
        "gensim_corpus = [dictionary.doc2bow(text, allow_update=True) for text in texts]\n",
        "word_frequencies = [[(dictionary[id], frequence) for id, frequence in couple] for couple in gensim_corpus]"
      ],
      "metadata": {
        "id": "6rZlVAVu2R1w"
      },
      "execution_count": null,
      "outputs": []
    },
    {
      "cell_type": "code",
      "source": [
        "num_topics = 5\n",
        "chunksize = 4000 # size of the doc looked at every pass\n",
        "passes = 20 # number of passes through documents\n",
        "iterations = 50\n",
        "eval_every = 1 # Don't evaluate model perplexity, takes too much time.\n",
        "\n",
        "# Make a index to word dictionary.\n",
        "temp = dictionary[0] # This is only to \"load\" the dictionary.\n",
        "id2word = dictionary.id2token\n",
        "\n",
        "%time model = gensim.models.LdaModel(corpus=gensim_corpus, id2word=id2word, chunksize=chunksize, \\\n",
        "                                     alpha='auto', eta='auto',\\\n",
        "                                     iterations=iterations, num_topics=num_topics,\\\n",
        "                                     passes=passes, eval_every=eval_every)"
      ],
      "metadata": {
        "colab": {
          "base_uri": "https://localhost:8080/"
        },
        "id": "5eupmNI13aAu",
        "outputId": "00cc72de-1b97-4d0c-98f1-e8c54d69ffe8"
      },
      "execution_count": null,
      "outputs": [
        {
          "output_type": "stream",
          "name": "stdout",
          "text": [
            "CPU times: user 118 ms, sys: 704 µs, total: 119 ms\n",
            "Wall time: 127 ms\n"
          ]
        }
      ]
    },
    {
      "cell_type": "code",
      "source": [
        "!pip install pandas==1.5.3"
      ],
      "metadata": {
        "id": "uVqS1RbL8DwO"
      },
      "execution_count": null,
      "outputs": []
    },
    {
      "cell_type": "code",
      "source": [
        "# Visualize the topic model\n",
        "vis = pyLDAvis.gensim.prepare(model, gensim_corpus, dictionary, mds='mmds')\n",
        "vis"
      ],
      "metadata": {
        "colab": {
          "base_uri": "https://localhost:8080/",
          "height": 916
        },
        "id": "LrvOevhOBhU5",
        "outputId": "5e9a1f9d-efbd-4587-fbe0-2cf44d16081e"
      },
      "execution_count": null,
      "outputs": [
        {
          "output_type": "stream",
          "name": "stderr",
          "text": [
            "/usr/local/lib/python3.10/dist-packages/sklearn/manifold/_mds.py:299: FutureWarning: The default value of `normalized_stress` will change to `'auto'` in version 1.4. To suppress this warning, manually set the value of `normalized_stress`.\n",
            "  warnings.warn(\n"
          ]
        },
        {
          "output_type": "execute_result",
          "data": {
            "text/plain": [
              "PreparedData(topic_coordinates=              x         y  topics  cluster       Freq\n",
              "topic                                                \n",
              "0     -0.005839  0.121356       1        1  32.042385\n",
              "3      0.024884 -0.128310       2        1  29.832551\n",
              "4     -0.118192 -0.017647       3        1  25.637543\n",
              "1      0.091744  0.022920       4        1  12.385865\n",
              "2      0.007402  0.001680       5        1   0.101655, topic_info=       Term      Freq     Total Category  logprob  loglift\n",
              "46      ชอบ  3.000000  3.000000  Default  30.0000  30.0000\n",
              "15       คน  4.000000  4.000000  Default  29.0000  29.0000\n",
              "33        เ  2.000000  2.000000  Default  28.0000  28.0000\n",
              "36       เส  2.000000  2.000000  Default  27.0000  27.0000\n",
              "9      หนัง  8.000000  8.000000  Default  26.0000  26.0000\n",
              "..      ...       ...       ...      ...      ...      ...\n",
              "113  เหมือน  0.001528  1.214561   Topic5  -4.9767   0.2134\n",
              "119    ม่อน  0.001528  1.195189   Topic5  -4.9767   0.2295\n",
              "101     ดึง  0.001528  1.214562   Topic5  -4.9767   0.2134\n",
              "36       เส  0.001528  2.567533   Topic5  -4.9767  -0.5351\n",
              "126     แมท  0.001528  1.195190   Topic5  -4.9767   0.2295\n",
              "\n",
              "[244 rows x 6 columns], token_table=      Topic      Freq      Term\n",
              "term                           \n",
              "53        3  0.852711    Batnan\n",
              "85        2  0.836678       CGI\n",
              "131       4  1.008970     Nolan\n",
              "134       4  1.008970        ai\n",
              "73        1  0.823336  blinders\n",
              "...     ...       ...       ...\n",
              "129       2  0.836693        ได\n",
              "82        1  0.823336     ได้ดี\n",
              "38        2  0.836681   ไม่ต้อง\n",
              "83        1  0.823336       ไหม\n",
              "130       2  0.836693     ไอรอน\n",
              "\n",
              "[150 rows x 3 columns], R=30, lambda_step=0.01, plot_opts={'xlab': 'PC1', 'ylab': 'PC2'}, topic_order=[1, 4, 5, 2, 3])"
            ],
            "text/html": [
              "\n",
              "<link rel=\"stylesheet\" type=\"text/css\" href=\"https://cdn.jsdelivr.net/gh/bmabey/pyLDAvis@3.4.0/pyLDAvis/js/ldavis.v1.0.0.css\">\n",
              "\n",
              "\n",
              "<div id=\"ldavis_el2121370399288795689949515448\" style=\"background-color:white;\"></div>\n",
              "<script type=\"text/javascript\">\n",
              "\n",
              "var ldavis_el2121370399288795689949515448_data = {\"mdsDat\": {\"x\": [-0.005838995420567112, 0.024884258070830986, -0.11819181720263444, 0.09174434142563963, 0.007402213126730946], \"y\": [0.12135611576499815, -0.12831015172465085, -0.0176465526417701, 0.022920146771786762, 0.001680441829636066], \"topics\": [1, 2, 3, 4, 5], \"cluster\": [1, 1, 1, 1, 1], \"Freq\": [32.04238519400857, 29.832551389673345, 25.63754320794508, 12.38586534766057, 0.10165486071244234]}, \"tinfo\": {\"Term\": [\"\\u0e0a\\u0e2d\\u0e1a\", \"\\u0e04\\u0e19\", \"\\u0e40\", \"\\u0e40\\u0e2a\", \"\\u0e2b\\u0e19\\u0e31\\u0e07\", \"\\u0e0a\\u0e37\\u0e48\\u0e2d\", \"\\u0e01\\u0e35\\u0e48\", \"\\u0e14\\u0e32\\u0e23\\u0e32\", \"\\u0e14\\u0e07\", \"\\u0e04\\u0e19\\u0e14\\u0e39\", \"\\u0e2a\\u0e31\\u0e21\\u0e1c\\u0e31\\u0e2a\", \"\\u0e1c\\u0e21\", \"\\u0e09\\u0e32\\u0e01\", \"\\u0e42\\u0e19\", \"\\u0e04\\u0e38\\u0e13\\u0e20\\u0e32\\u0e1e\", \"\\u0e19\\u0e48\\u0e32\\u0e14\\u0e39\", \"\\u0e40\\u0e2a\\u0e21\\u0e2d\", \"\\u0e1c\\u0e39\\u0e49\\u0e01\\u0e33\\u0e01\\u0e31\\u0e1a\", \"\\u0e43\\u0e2b\\u0e49\\u0e44\\u0e14\\u0e49\", \"\\u0e41\\u0e25\\u0e19\", \"Nolan\", \"\\u0e1e\\u0e25\\u0e32\\u0e14\", \"\\u0e41\\u0e1b\\u0e25\", \"\\u0e19\\u0e36\\u0e07\", \"\\u0e21\\u0e31\\u0e49\\u0e07\", \"\\u0e01\\u0e33\\u0e40\\u0e19\\u0e34\\u0e14\", \"\\u0e17\\u0e49\\u0e32\\u0e17\\u0e32\\u0e22\", \"\\u0e41\\u0e25\\u0e19\\u0e14\\u0e4c\", \"\\u0e42\\u0e25\\u0e01\", \"\\u0e04\\u0e33\\u0e1e\\u0e39\\u0e14\", \"\\u0e2a\\u0e31\\u0e21\\u0e1c\\u0e31\\u0e2a\", \"\\u0e04\\u0e19\\u0e14\\u0e39\", \"\\u0e04\\u0e27\\u0e32\\u0e21\\u0e2a\\u0e21\\u0e08\\u0e23\\u0e34\\u0e07\", \"\\u0e04\\u0e27\\u0e32\\u0e21\\u0e15\\u0e31\\u0e49\\u0e07\\u0e43\\u0e08\", \"\\u0e1c\\u0e25\\u0e07\\u0e32\\u0e19\", \"\\u0e08\\u0e34\\u0e15\\u0e27\\u0e34\\u0e0d\\u0e0d\\u0e32\\u0e13\", \"\\u0e40\\u0e08\\u0e4b\\u0e07\", \"cg\", \"\\u0e43\\u0e2a\\u0e48\", \"\\u0e01\\u0e32\\u0e23\\u0e41\\u0e2a\\u0e14\\u0e07\", \"\\u0e07\\u0e32\\u0e19\", \"peaky\", \"blinders\", \"\\u0e20\\u0e32\\u0e1e\", \"\\u0e04\\u0e33\\u0e15\\u0e2d\\u0e1a\", \"\\u0e2d.\", \"\\u0e41\\u0e19\\u0e48\\u0e19\\u0e2d\\u0e19\", \"\\u0e17\\u0e36\\u0e48\\u0e07\", \"\\u0e44\\u0e14\\u0e49\\u0e14\\u0e35\", \"\\u0e41\\u0e19\\u0e30\\u0e19\\u0e33\", \"\\u0e0a\\u0e32\\u0e22\", \"\\u0e44\\u0e2b\\u0e21\", \"\\u0e40\\u0e01\\u0e34\\u0e14\\u0e02\\u0e36\\u0e49\\u0e19\", \"\\u0e23\\u0e2a\", \"\\u0e22\\u0e37\\u0e19\", \"\\u0e01\\u0e25\\u0e34\\u0e48\\u0e19\", \"\\u0e1e\\u0e25\\u0e47\\u0e2d\\u0e15\", \"\\u0e17\\u0e33\", \"\\u0e40\\u0e2a\\u0e35\\u0e22\\u0e07\", \"\\u0e2b\\u0e25\\u0e38\\u0e14\", \"\\u0e1c\\u0e39\\u0e49\\u0e01\\u0e33\\u0e01\\u0e31\\u0e1a\", \"\\u0e2b\\u0e19\\u0e31\\u0e07\", \"\\u0e0a\\u0e2d\\u0e1a\", \"\\u0e41\\u0e25\\u0e19\", \"\\u0e42\\u0e19\", \"\\u0e14\\u0e39\", \"\\u0e40\\u0e23\\u0e37\\u0e48\\u0e2d\\u0e07\", \"\\u0e43\\u0e2b\\u0e49\\u0e44\\u0e14\\u0e49\", \"\\u0e04\\u0e19\", \"\\u0e04\\u0e38\\u0e13\\u0e20\\u0e32\\u0e1e\", \"\\u0e09\\u0e32\\u0e01\", \"\\u0e1f\\u0e35\\u0e48\", \"\\u0e40\\u0e21\\u0e2d\\u0e23\\u0e4c\", \"\\u0e40\\u0e2a\", \"\\u0e40\", \"\\u0e14\\u0e07\", \"\\u0e1b\\u0e0f\\u0e34\\u0e40\\u0e2a\\u0e18\", \"\\u0e1a\\u0e17\", \"\\u0e01\\u0e32\\u0e23\\u0e04\\u0e31\\u0e14\\u0e40\\u0e25\\u0e37\\u0e2d\\u0e01\", \"\\u0e1e\\u0e39\\u0e14\\u0e16\\u0e36\\u0e07\", \"\\u0e44\\u0e21\\u0e48\\u0e15\\u0e49\\u0e2d\\u0e07\", \"\\u0e40\\u0e2b\\u0e21\\u0e32\\u0e30\\u0e01\\u0e31\\u0e1a\", \"\\u0e23\\u0e31\\u0e1a\\u0e1a\\u0e17\", \"\\u0e1b\\u0e23\\u0e30\\u0e17\\u0e31\\u0e1a\\u0e43\\u0e08\", \"\\u0e1d\\u0e35\\u0e21\\u0e37\\u0e2d\", \"\\u0e41\\u0e21\\u0e17\", \"\\u0e21\\u0e48\\u0e2d\\u0e19\", \"\\u0e15\\u0e35\\u0e1a\\u0e17\\u0e41\\u0e15\\u0e01\", \"\\u0e40\\u0e01\\u0e4b\\u0e32\", \"\\u0e23\\u0e2d\", \"\\u0e14\\u0e35\", \"\\u0e41\\u0e21\\u0e19\", \"\\u0e40\\u0e25\\u0e48\\u0e19\", \"\\u0e19\\u0e36\\u0e49\", \"\\u0e23\\u0e38\\u0e49\", \"\\u0e42\\u0e23\\u0e40\\u0e1a\\u0e34\\u0e23\\u0e4c\\u0e15\", \"\\u0e41\\u0e08\\u0e21\", \"\\u0e21\\u0e34\\u0e0a\\u0e0a\\u0e31\\u0e48\\u0e19\", \"\\u0e40\\u0e01\\u0e48\", \"\\u0e44\\u0e14\", \"\\u0e44\\u0e2d\\u0e23\\u0e2d\\u0e19\", \"\\u0e2d\\u0e14\", \"CGI\", \"\\u0e19\\u0e48\\u0e32\\u0e14\\u0e39\", \"\\u0e40\\u0e23\\u0e37\\u0e48\\u0e2d\\u0e07\", \"\\u0e14\\u0e32\\u0e23\\u0e32\", \"\\u0e14\\u0e39\", \"\\u0e2b\\u0e19\\u0e31\\u0e07\", \"\\u0e41\\u0e25\\u0e19\", \"\\u0e42\\u0e19\", \"\\u0e41\\u0e17\\u0e1a\", \"\\u0e1f\\u0e35\\u0e48\", \"\\u0e40\\u0e21\\u0e2d\\u0e23\\u0e4c\", \"\\u0e01\\u0e35\\u0e48\", \"\\u0e0a\\u0e37\\u0e48\\u0e2d\", \"\\u0e2a\\u0e21\\u0e08\\u0e23\\u0e34\\u0e07\", \"\\u0e42\\u0e08\\u0e4d\\u0e01\\u0e40\\u0e01\\u0e2d\\u0e23\\u0e4c\", \"\\u0e40\\u0e01\\u0e48\\u0e07\", \"\\u0e21\\u0e32\\u0e08\\u0e32\\u0e01\", \"\\u0e2b\\u0e19\\u0e31\\u0e07\\u0e2a\\u0e37\\u0e2d\", \"\\u0e42\\u0e14\\u0e22\\u0e40\\u0e09\\u0e1e\\u0e32\\u0e30\", \"\\u0e04\\u0e31\\u0e27\", \"\\u0e27\\u0e49\\u0e32\\u0e27\", \"\\u0e16\\u0e32\\u0e21\", \"\\u0e01\\u0e33\\u0e01\\u0e31\\u0e1a\", \"\\u0e23\\u0e48\\u0e27\\u0e21\\u0e07\\u0e32\\u0e19\", \"\\u0e2a\\u0e19\\u0e43\\u0e08\", \"\\u0e02\\u0e19\\u0e32\\u0e14\", \"Batnan\", \"\\u0e40\\u0e1a\\u0e37\\u0e48\\u0e2d\", \"\\u0e01\\u0e32\\u0e23\\u0e4c\\u0e15\\u0e39\\u0e19\", \"\\u0e01\\u0e49\\u0e2d\", \"wow\", \"\\u0e2a\\u0e23\\u0e49\\u0e32\\u0e07\", \"\\u0e1c\\u0e39\\u0e49\\u0e0a\\u0e21\", \"\\u0e41\\u0e25\\u0e19\\u0e4c\", \"\\u0e15\\u0e2d\\u0e19\", \"\\u0e04\\u0e19\", \"\\u0e1c\\u0e21\", \"\\u0e09\\u0e32\\u0e01\", \"\\u0e40\\u0e2a\\u0e21\\u0e2d\", \"\\u0e42\\u0e19\", \"\\u0e14\\u0e32\\u0e23\\u0e32\", \"\\u0e41\\u0e25\\u0e19\", \"\\u0e14\\u0e39\", \"\\u0e2b\\u0e19\\u0e31\\u0e07\", \"\\u0e40\\u0e23\\u0e37\\u0e48\\u0e2d\\u0e07\", \"\\u0e1c\\u0e39\\u0e49\\u0e01\\u0e33\\u0e01\\u0e31\\u0e1a\", \"\\u0e41\\u0e17\\u0e1a\", \"\\u0e19\\u0e48\\u0e32\\u0e14\\u0e39\", \"\\u0e01\\u0e33\\u0e40\\u0e19\\u0e34\\u0e14\", \"\\u0e42\\u0e25\\u0e01\", \"\\u0e21\\u0e31\\u0e49\\u0e07\", \"\\u0e04\\u0e33\\u0e1e\\u0e39\\u0e14\", \"\\u0e41\\u0e25\\u0e19\\u0e14\\u0e4c\", \"\\u0e17\\u0e49\\u0e32\\u0e17\\u0e32\\u0e22\", \"\\u0e2a\\u0e38\\u0e14\\u0e17\\u0e49\\u0e32\\u0e22\", \"\\u0e1b\\u0e25.\", \"\\u0e2a\\u0e34\\u0e48\\u0e07\\u0e43\\u0e2b\\u0e21\\u0e48\", \"\\u0e41\\u0e1b\\u0e25\", \"Nolan\", \"ai\", \"\\u0e1e\\u0e25\\u0e32\\u0e14\", \"\\u0e19\\u0e36\\u0e07\", \"\\u0e0a\\u0e2d\\u0e1a\", \"\\u0e40\\u0e2a\\u0e21\\u0e2d\", \"\\u0e04\\u0e38\\u0e13\\u0e20\\u0e32\\u0e1e\", \"\\u0e43\\u0e2b\\u0e49\\u0e44\\u0e14\\u0e49\", \"\\u0e2b\\u0e19\\u0e31\\u0e07\", \"\\u0e04\\u0e19\", \"\\u0e42\\u0e19\", \"\\u0e14\\u0e39\", \"\\u0e40\\u0e23\\u0e37\\u0e48\\u0e2d\\u0e07\", \"\\u0e15\\u0e2d\\u0e19\", \"\\u0e41\\u0e25\\u0e19\\u0e4c\", \"\\u0e2a\\u0e23\\u0e49\\u0e32\\u0e07\", \"wow\", \"\\u0e01\\u0e49\\u0e2d\", \"\\u0e01\\u0e32\\u0e23\\u0e4c\\u0e15\\u0e39\\u0e19\", \"\\u0e40\\u0e1a\\u0e37\\u0e48\\u0e2d\", \"\\u0e09\\u0e32\\u0e01\", \"\\u0e1c\\u0e21\", \"\\u0e1e\\u0e25\\u0e32\\u0e14\", \"\\u0e19\\u0e36\\u0e07\", \"Nolan\", \"\\u0e41\\u0e1b\\u0e25\", \"\\u0e41\\u0e25\\u0e19\\u0e14\\u0e4c\", \"\\u0e17\\u0e49\\u0e32\\u0e17\\u0e32\\u0e22\", \"ai\", \"\\u0e1b\\u0e25.\", \"\\u0e2a\\u0e34\\u0e48\\u0e07\\u0e43\\u0e2b\\u0e21\\u0e48\", \"\\u0e01\\u0e33\\u0e40\\u0e19\\u0e34\\u0e14\", \"\\u0e04\\u0e33\\u0e1e\\u0e39\\u0e14\", \"\\u0e21\\u0e31\\u0e49\\u0e07\", \"\\u0e2a\\u0e38\\u0e14\\u0e17\\u0e49\\u0e32\\u0e22\", \"\\u0e42\\u0e25\\u0e01\", \"\\u0e15\\u0e2d\\u0e19\", \"\\u0e41\\u0e25\\u0e19\\u0e4c\", \"\\u0e2a\\u0e23\\u0e49\\u0e32\\u0e07\", \"wow\", \"\\u0e01\\u0e49\\u0e2d\", \"\\u0e01\\u0e32\\u0e23\\u0e4c\\u0e15\\u0e39\\u0e19\", \"Batnan\", \"\\u0e40\\u0e1a\\u0e37\\u0e48\\u0e2d\", \"\\u0e02\\u0e19\\u0e32\\u0e14\", \"\\u0e16\\u0e32\\u0e21\", \"\\u0e27\\u0e49\\u0e32\\u0e27\", \"\\u0e04\\u0e31\\u0e27\", \"\\u0e42\\u0e14\\u0e22\\u0e40\\u0e09\\u0e1e\\u0e32\\u0e30\", \"\\u0e2b\\u0e19\\u0e31\\u0e07\\u0e2a\\u0e37\\u0e2d\", \"\\u0e21\\u0e32\\u0e08\\u0e32\\u0e01\", \"\\u0e42\\u0e08\\u0e4d\\u0e01\\u0e40\\u0e01\\u0e2d\\u0e23\\u0e4c\", \"\\u0e1c\\u0e39\\u0e49\\u0e0a\\u0e21\", \"\\u0e40\\u0e01\\u0e48\\u0e07\", \"\\u0e40\\u0e23\\u0e37\\u0e48\\u0e2d\\u0e07\", \"\\u0e19\\u0e48\\u0e32\\u0e14\\u0e39\", \"\\u0e14\\u0e32\\u0e23\\u0e32\", \"\\u0e2b\\u0e19\\u0e31\\u0e07\", \"\\u0e14\\u0e39\", \"\\u0e04\\u0e19\\u0e14\\u0e39\", \"\\u0e44\\u0e2d\\u0e23\\u0e2d\\u0e19\", \"\\u0e44\\u0e14\", \"\\u0e40\\u0e01\\u0e48\", \"\\u0e41\\u0e08\\u0e21\", \"\\u0e40\", \"\\u0e40\\u0e25\\u0e48\\u0e19\", \"\\u0e14\\u0e35\", \"\\u0e23\\u0e38\\u0e49\", \"\\u0e42\\u0e23\\u0e40\\u0e1a\\u0e34\\u0e23\\u0e4c\\u0e15\", \"\\u0e21\\u0e34\\u0e0a\\u0e0a\\u0e31\\u0e48\\u0e19\", \"\\u0e19\\u0e36\\u0e49\", \"\\u0e41\\u0e21\\u0e19\", \"\\u0e23\\u0e39\\u0e1b\", \"\\u0e40\\u0e01\\u0e4b\\u0e32\", \"\\u0e15\\u0e35\\u0e1a\\u0e17\\u0e41\\u0e15\\u0e01\", \"\\u0e23\\u0e2d\", \"\\u0e41\\u0e17\\u0e1a\\u0e08\\u0e30\", \"\\u0e41\\u0e17\\u0e1a\", \"\\u0e15\\u0e23\\u0e07\\u0e19\\u0e31\\u0e49\\u0e19\", \"\\u0e40\\u0e2b\\u0e21\\u0e37\\u0e2d\\u0e19\", \"\\u0e21\\u0e48\\u0e2d\\u0e19\", \"\\u0e14\\u0e36\\u0e07\", \"\\u0e40\\u0e2a\", \"\\u0e41\\u0e21\\u0e17\"], \"Freq\": [3.0, 4.0, 2.0, 2.0, 8.0, 1.0, 1.0, 3.0, 1.0, 1.0, 1.0, 2.0, 2.0, 5.0, 1.0, 2.0, 1.0, 2.0, 2.0, 4.0, 0.0, 0.0, 0.0, 0.0, 0.0, 0.0, 0.0, 0.0, 0.0, 0.0, 1.552181520333793, 1.552167338318313, 0.8466406924398353, 0.8466406924398353, 0.8466406924398353, 0.8466406924398353, 0.8466406924398353, 0.8466406924398353, 0.8466406924398353, 0.8466405623296016, 0.8466405623296016, 0.8466405623296016, 0.8466404972744846, 0.8466405623296016, 0.8466404972744846, 0.8466404972744846, 0.8466404322193678, 0.846640302109134, 0.846640302109134, 0.846640302109134, 0.846640302109134, 0.8466402370540171, 0.846635422975368, 0.8466348374793161, 0.8466348374793161, 0.8466341869281473, 0.846633796597446, 0.8466336014320953, 0.8466331460462772, 0.8466331460462772, 1.5521463905706776, 2.9635002369676218, 1.552179959010988, 1.552311890788022, 1.552326723354671, 1.5528915318794294, 1.5521770965858452, 0.8470038301022635, 0.8466421236524067, 0.8466412779358873, 0.8466407574949522, 0.846640302109134, 0.846640302109134, 2.1957271418557407, 2.195722296373469, 1.509565665584223, 0.8233940137999347, 0.8233940137999347, 0.8233940137999347, 0.8233940137999347, 0.8233939532314064, 0.8233939532314064, 0.8233939532314064, 0.8233938320943496, 0.8233938320943496, 0.8233846862465617, 0.8233840199927493, 0.8233818395257271, 0.8233816578201419, 0.8233815972516135, 0.8233805070181024, 0.8233811732719147, 0.8233803858810456, 0.8233803858810456, 0.823380143606932, 0.823380143606932, 0.8233792956475345, 0.8233799619013469, 0.8233773574546258, 0.8233762672211147, 0.8233752981246604, 0.8232371413113886, 0.8232261784077489, 1.5097020659101712, 2.1957150281500613, 1.5098176306623512, 1.5088617381472023, 1.5094972231471353, 0.8641288324560468, 0.8531439424405258, 0.8235352596081547, 0.8233943772111051, 0.8233942560740484, 1.4599094401315806, 1.459895073924842, 0.7963491334869529, 0.7963357562582143, 0.7963669350909554, 0.796324356985476, 0.796316757470317, 0.7963133741245272, 0.7963120207862112, 0.7963079087197895, 0.7963015584399993, 0.7963397642216885, 0.7963377342142146, 0.7963371095965303, 0.7962922412262086, 0.796286775821471, 0.7962864635126288, 0.7962794886151542, 0.796274803982522, 0.7962706919161004, 0.7962700152469424, 0.7963147274628432, 0.7962657990775734, 0.7962403979584122, 2.7829087218369186, 1.4598878908214725, 1.45986811126147, 0.7961237506058703, 2.7586827167456907, 1.4599973030191713, 2.084501827409121, 2.1233842782564074, 2.123217505334701, 1.459692489589236, 0.7963658940614815, 0.7963557960755854, 0.796346426810321, 0.5784865253893129, 0.5784865253893129, 0.5784865253893129, 0.5784864750956838, 0.5784863745084257, 0.5784863745084257, 0.5784863745084257, 0.5784863745084257, 0.5784863745084257, 0.5784863745084257, 0.5784862739211675, 0.5784862739211675, 0.5784861230402802, 0.5784860727466512, 1.5426379766540883, 0.5787621847702894, 0.5784860727466512, 0.5784860727466512, 1.5431047015319321, 0.5784858212785058, 0.5786260399163753, 0.578951489990139, 0.5789028560508206, 0.09660615278567143, 0.09658760700994892, 0.09658462082572242, 0.09658414303624617, 0.09658110655839058, 0.09657773059853872, 0.09657264465529822, 0.09670325721001378, 0.09668891095231928, 0.0015282917173136028, 0.0015282917173136028, 0.0015282915109254454, 0.0015282908917609724, 0.0015282907885668937, 0.0015282907885668937, 0.0015282906853728148, 0.0015282904789846573, 0.0015282904789846573, 0.0015282903757905784, 0.0015282903757905784, 0.0015282903757905784, 0.0015282902725964997, 0.0015282902725964997, 0.0015282897566261057, 0.001528290169402421, 0.0015282898598201846, 0.0015282898598201846, 0.0015282899630142633, 0.0015282902725964997, 0.001528290066208342, 0.0015282899630142633, 0.0015282899630142633, 0.0015282897566261057, 0.001528290066208342, 0.001528290169402421, 0.0015282898598201846, 0.0015282898598201846, 0.0015282899630142633, 0.001528290169402421, 0.0015282909949550514, 0.0015282906853728148, 0.0015286317418032407, 0.0015285483609875723, 0.0015285244199612913, 0.0015285229752441882, 0.001528514822911963, 0.0015284839678824027, 0.0015284745772212321, 0.0015284727197278137, 0.0015284580661686245, 0.0015284407295633865, 0.0015284321644548464, 0.001528431338902216, 0.0015284306165436643, 0.0015284299973791916, 0.0015284283462739308, 0.0015284279334976155, 0.0015284265919745911, 0.0015284174077015782, 0.0015284152406259235, 0.0015284136927147416, 0.001528413383132505, 0.0015284117320272443, 0.001528400277484498, 0.0015283979040206855, 0.0015283964593035824, 0.0015283911964055637, 0.0015283893389121453, 0.0015283866558660965, 0.0015283845919845207, 0.0015283840760141267], \"Total\": [3.0, 4.0, 2.0, 2.0, 8.0, 1.0, 1.0, 3.0, 1.0, 1.0, 1.0, 2.0, 2.0, 5.0, 1.0, 2.0, 1.0, 2.0, 2.0, 4.0, 0.0, 0.0, 0.0, 0.0, 0.0, 0.0, 0.0, 0.0, 0.0, 0.0, 1.9201116234898121, 1.9200977307138303, 1.2145706346729328, 1.2145706382877173, 1.2145706450138822, 1.214570655897487, 1.2145706564401422, 1.2145706605954756, 1.2145706732987618, 1.2145705288986333, 1.214570533027282, 1.2145705429554552, 1.2145704738194074, 1.2145705819673753, 1.2145705233021562, 1.2145705320564972, 1.214570508709798, 1.2145703758742754, 1.2145703863451038, 1.2145704100330825, 1.214570448939702, 1.2145704200181984, 1.2145653921204056, 1.2145648125829256, 1.214564825389406, 1.2145641688425661, 1.2145637519017831, 1.2145635932561376, 1.2145631057225779, 1.214563176749369, 2.5838701596009166, 8.140848189956635, 3.3663336691599524, 4.598886628936263, 5.744307727693, 5.7656175530960905, 5.7880161021177665, 2.382812584397464, 4.351838825617284, 1.6966423859442827, 2.5419748172816385, 1.9007305779517674, 1.9007305206638634, 2.5675329593961607, 2.5675285017038054, 1.8813703879378834, 1.1951985019260043, 1.195198520476533, 1.195198527848547, 1.1951985397761051, 1.1951984799566202, 1.1951984929694885, 1.1951984936153381, 1.1951983819039718, 1.1951984204173813, 1.1951898951065227, 1.1951893698267568, 1.1951872504695977, 1.1951871735663429, 1.1951872926969533, 1.1951858068649797, 1.1951868308254643, 1.1951857341475787, 1.195186009705983, 1.19518581203275, 1.195185888194077, 1.1951847937690796, 1.1951858201153032, 1.195183188781459, 1.1951819606032108, 1.1951815214473551, 1.1952029041259535, 1.1952032241552595, 2.545103519511133, 5.7880161021177665, 3.2088705127197907, 5.7656175530960905, 8.140848189956635, 4.598886628936263, 5.744307727693, 1.8589449657755963, 1.9007305779517674, 1.9007305206638634, 1.8365103122815016, 1.8365635033964984, 1.1727476256788945, 1.1727438837352924, 1.172794330320886, 1.1727408078241714, 1.172738699066816, 1.1727378115423694, 1.1727373963817311, 1.1727362943939026, 1.1727345357221217, 1.1727951768984393, 1.1727952605027556, 1.1727953220174476, 1.1727320031619817, 1.172730483313989, 1.1727304086750436, 1.1727284897461276, 1.1727271959058971, 1.172726105072005, 1.1727259061923232, 1.1727960851923172, 1.1727247068010274, 1.1727178044967685, 4.351838825617284, 2.52261484550099, 2.5419748172816385, 1.6547574418208526, 5.744307727693, 3.2088705127197907, 4.598886628936263, 5.7656175530960905, 8.140848189956635, 5.7880161021177665, 2.5838701596009166, 1.8589449657755963, 2.545103519511133, 0.9911099807590521, 0.9911100153126801, 0.9911100154158742, 0.991110006290114, 0.9911099104881901, 0.9911099407724543, 0.9911099488967944, 0.9911099523540934, 0.9911099534757405, 0.9911099615212108, 0.9911099286234671, 0.9911099668365198, 0.9911099187239706, 0.991109988787843, 3.3663336691599524, 1.6547574418208526, 1.6966423859442827, 2.382812584397464, 8.140848189956635, 4.351838825617284, 5.744307727693, 5.7656175530960905, 5.7880161021177665, 1.1727178044967685, 1.1727247068010274, 1.1727259061923232, 1.172726105072005, 1.1727271959058971, 1.1727284897461276, 1.1727304086750436, 2.5419748172816385, 2.52261484550099, 0.9911099187239706, 0.991109988787843, 0.9911099286234671, 0.9911099615212108, 0.9911099104881901, 0.9911099407724543, 0.9911099668365198, 0.9911099523540934, 0.9911099534757405, 0.9911099807590521, 0.991110006290114, 0.9911100154158742, 0.9911099488967944, 0.9911100153126801, 1.1727178044967685, 1.1727247068010274, 1.1727259061923232, 1.172726105072005, 1.1727271959058971, 1.1727284897461276, 1.172730483313989, 1.1727304086750436, 1.1727320031619817, 1.1727345357221217, 1.1727362943939026, 1.1727373963817311, 1.1727378115423694, 1.172738699066816, 1.1727408078241714, 1.1727438837352924, 1.1727960851923172, 1.172794330320886, 5.7880161021177665, 2.545103519511133, 3.2088705127197907, 8.140848189956635, 5.7656175530960905, 1.9200977307138303, 1.1951815214473551, 1.1951819606032108, 1.195183188781459, 1.1951847937690796, 2.5675285017038054, 1.1951857341475787, 1.1951858068649797, 1.19518581203275, 1.195185888194077, 1.1951858201153032, 1.195186009705983, 1.1951868308254643, 1.2145591808925609, 1.1951871735663429, 1.1951872504695977, 1.1951872926969533, 1.214560573684979, 1.8589449657755963, 1.2145609525409164, 1.2145614064921282, 1.1951893698267568, 1.2145618342095432, 2.5675329593961607, 1.1951898951065227], \"Category\": [\"Default\", \"Default\", \"Default\", \"Default\", \"Default\", \"Default\", \"Default\", \"Default\", \"Default\", \"Default\", \"Default\", \"Default\", \"Default\", \"Default\", \"Default\", \"Default\", \"Default\", \"Default\", \"Default\", \"Default\", \"Default\", \"Default\", \"Default\", \"Default\", \"Default\", \"Default\", \"Default\", \"Default\", \"Default\", \"Default\", \"Topic1\", \"Topic1\", \"Topic1\", \"Topic1\", \"Topic1\", \"Topic1\", \"Topic1\", \"Topic1\", \"Topic1\", \"Topic1\", \"Topic1\", \"Topic1\", \"Topic1\", \"Topic1\", \"Topic1\", \"Topic1\", \"Topic1\", \"Topic1\", \"Topic1\", \"Topic1\", \"Topic1\", \"Topic1\", \"Topic1\", \"Topic1\", \"Topic1\", \"Topic1\", \"Topic1\", \"Topic1\", \"Topic1\", \"Topic1\", \"Topic1\", \"Topic1\", \"Topic1\", \"Topic1\", \"Topic1\", \"Topic1\", \"Topic1\", \"Topic1\", \"Topic1\", \"Topic1\", \"Topic1\", \"Topic1\", \"Topic1\", \"Topic2\", \"Topic2\", \"Topic2\", \"Topic2\", \"Topic2\", \"Topic2\", \"Topic2\", \"Topic2\", \"Topic2\", \"Topic2\", \"Topic2\", \"Topic2\", \"Topic2\", \"Topic2\", \"Topic2\", \"Topic2\", \"Topic2\", \"Topic2\", \"Topic2\", \"Topic2\", \"Topic2\", \"Topic2\", \"Topic2\", \"Topic2\", \"Topic2\", \"Topic2\", \"Topic2\", \"Topic2\", \"Topic2\", \"Topic2\", \"Topic2\", \"Topic2\", \"Topic2\", \"Topic2\", \"Topic2\", \"Topic2\", \"Topic2\", \"Topic2\", \"Topic2\", \"Topic2\", \"Topic3\", \"Topic3\", \"Topic3\", \"Topic3\", \"Topic3\", \"Topic3\", \"Topic3\", \"Topic3\", \"Topic3\", \"Topic3\", \"Topic3\", \"Topic3\", \"Topic3\", \"Topic3\", \"Topic3\", \"Topic3\", \"Topic3\", \"Topic3\", \"Topic3\", \"Topic3\", \"Topic3\", \"Topic3\", \"Topic3\", \"Topic3\", \"Topic3\", \"Topic3\", \"Topic3\", \"Topic3\", \"Topic3\", \"Topic3\", \"Topic3\", \"Topic3\", \"Topic3\", \"Topic3\", \"Topic3\", \"Topic3\", \"Topic3\", \"Topic4\", \"Topic4\", \"Topic4\", \"Topic4\", \"Topic4\", \"Topic4\", \"Topic4\", \"Topic4\", \"Topic4\", \"Topic4\", \"Topic4\", \"Topic4\", \"Topic4\", \"Topic4\", \"Topic4\", \"Topic4\", \"Topic4\", \"Topic4\", \"Topic4\", \"Topic4\", \"Topic4\", \"Topic4\", \"Topic4\", \"Topic4\", \"Topic4\", \"Topic4\", \"Topic4\", \"Topic4\", \"Topic4\", \"Topic4\", \"Topic4\", \"Topic4\", \"Topic5\", \"Topic5\", \"Topic5\", \"Topic5\", \"Topic5\", \"Topic5\", \"Topic5\", \"Topic5\", \"Topic5\", \"Topic5\", \"Topic5\", \"Topic5\", \"Topic5\", \"Topic5\", \"Topic5\", \"Topic5\", \"Topic5\", \"Topic5\", \"Topic5\", \"Topic5\", \"Topic5\", \"Topic5\", \"Topic5\", \"Topic5\", \"Topic5\", \"Topic5\", \"Topic5\", \"Topic5\", \"Topic5\", \"Topic5\", \"Topic5\", \"Topic5\", \"Topic5\", \"Topic5\", \"Topic5\", \"Topic5\", \"Topic5\", \"Topic5\", \"Topic5\", \"Topic5\", \"Topic5\", \"Topic5\", \"Topic5\", \"Topic5\", \"Topic5\", \"Topic5\", \"Topic5\", \"Topic5\", \"Topic5\", \"Topic5\", \"Topic5\", \"Topic5\", \"Topic5\", \"Topic5\", \"Topic5\", \"Topic5\", \"Topic5\", \"Topic5\", \"Topic5\", \"Topic5\", \"Topic5\", \"Topic5\"], \"logprob\": [30.0, 29.0, 28.0, 27.0, 26.0, 25.0, 24.0, 23.0, 22.0, 21.0, 20.0, 19.0, 18.0, 17.0, 16.0, 15.0, 14.0, 13.0, 12.0, 11.0, 10.0, 9.0, 8.0, 7.0, 6.0, 5.0, 4.0, 3.0, 2.0, 1.0, -3.8067, -3.8067, -4.4129, -4.4129, -4.4129, -4.4129, -4.4129, -4.4129, -4.4129, -4.4129, -4.4129, -4.4129, -4.4129, -4.4129, -4.4129, -4.4129, -4.4129, -4.4129, -4.4129, -4.4129, -4.4129, -4.4129, -4.4129, -4.4129, -4.4129, -4.4129, -4.4129, -4.4129, -4.4129, -4.4129, -3.8067, -3.16, -3.8067, -3.8066, -3.8066, -3.8063, -3.8067, -4.4124, -4.4129, -4.4129, -4.4129, -4.4129, -4.4129, -3.3884, -3.3884, -3.7631, -4.3692, -4.3692, -4.3692, -4.3692, -4.3692, -4.3692, -4.3692, -4.3692, -4.3692, -4.3693, -4.3693, -4.3693, -4.3693, -4.3693, -4.3693, -4.3693, -4.3693, -4.3693, -4.3693, -4.3693, -4.3693, -4.3693, -4.3693, -4.3693, -4.3693, -4.3694, -4.3694, -3.763, -3.3884, -3.7629, -3.7636, -3.7631, -4.321, -4.3338, -4.3691, -4.3692, -4.3692, -3.645, -3.645, -4.2511, -4.2511, -4.2511, -4.2511, -4.2511, -4.2511, -4.2511, -4.2512, -4.2512, -4.2511, -4.2511, -4.2511, -4.2512, -4.2512, -4.2512, -4.2512, -4.2512, -4.2512, -4.2512, -4.2511, -4.2512, -4.2512, -2.9999, -3.645, -3.645, -4.2514, -3.0086, -3.6449, -3.2889, -3.2704, -3.2705, -3.6452, -4.2511, -4.2511, -4.2511, -3.8432, -3.8432, -3.8432, -3.8432, -3.8432, -3.8432, -3.8432, -3.8432, -3.8432, -3.8432, -3.8432, -3.8432, -3.8432, -3.8432, -2.8624, -3.8427, -3.8432, -3.8432, -2.8621, -3.8432, -3.843, -3.8424, -3.8425, -5.633, -5.6332, -5.6332, -5.6332, -5.6333, -5.6333, -5.6333, -5.632, -5.6321, -4.9768, -4.9768, -4.9768, -4.9768, -4.9768, -4.9768, -4.9768, -4.9768, -4.9768, -4.9768, -4.9768, -4.9768, -4.9768, -4.9768, -4.9768, -4.9768, -4.9768, -4.9768, -4.9768, -4.9768, -4.9768, -4.9768, -4.9768, -4.9768, -4.9768, -4.9768, -4.9768, -4.9768, -4.9768, -4.9768, -4.9768, -4.9768, -4.9765, -4.9766, -4.9766, -4.9766, -4.9766, -4.9766, -4.9766, -4.9766, -4.9766, -4.9767, -4.9767, -4.9767, -4.9767, -4.9767, -4.9767, -4.9767, -4.9767, -4.9767, -4.9767, -4.9767, -4.9767, -4.9767, -4.9767, -4.9767, -4.9767, -4.9767, -4.9767, -4.9767, -4.9767, -4.9767], \"loglift\": [30.0, 29.0, 28.0, 27.0, 26.0, 25.0, 24.0, 23.0, 22.0, 21.0, 20.0, 19.0, 18.0, 17.0, 16.0, 15.0, 14.0, 13.0, 12.0, 11.0, 10.0, 9.0, 8.0, 7.0, 6.0, 5.0, 4.0, 3.0, 2.0, 1.0, 0.9254, 0.9254, 0.7772, 0.7772, 0.7772, 0.7772, 0.7772, 0.7772, 0.7772, 0.7772, 0.7772, 0.7772, 0.7772, 0.7772, 0.7772, 0.7772, 0.7772, 0.7772, 0.7772, 0.7772, 0.7772, 0.7772, 0.7772, 0.7772, 0.7772, 0.7772, 0.7772, 0.7772, 0.7772, 0.7772, 0.6285, 0.1276, 0.3639, 0.052, -0.1703, -0.1737, -0.178, 0.1038, -0.499, 0.443, 0.0387, 0.3294, 0.3294, 1.0531, 1.0531, 0.9894, 0.8369, 0.8369, 0.8369, 0.8369, 0.8369, 0.8369, 0.8369, 0.8369, 0.8369, 0.8369, 0.8369, 0.8369, 0.8369, 0.8369, 0.8369, 0.8369, 0.8369, 0.8369, 0.8369, 0.8369, 0.8369, 0.8369, 0.8369, 0.8369, 0.8369, 0.8367, 0.8367, 0.6873, 0.2403, 0.4556, -0.131, -0.4755, -0.4623, -0.6975, 0.3954, 0.373, 0.373, 1.1316, 1.1316, 0.974, 0.974, 0.974, 0.974, 0.974, 0.974, 0.974, 0.974, 0.974, 0.974, 0.974, 0.974, 0.974, 0.974, 0.974, 0.974, 0.974, 0.974, 0.974, 0.974, 0.974, 0.9739, 0.914, 0.8142, 0.8065, 0.6295, 0.6277, 0.5736, 0.5698, 0.3622, 0.0172, -0.0165, 0.1841, 0.5134, 0.1992, 1.5502, 1.5502, 1.5502, 1.5502, 1.5502, 1.5502, 1.5502, 1.5502, 1.5502, 1.5502, 1.5502, 1.5502, 1.5502, 1.5502, 1.3083, 1.0381, 1.0126, 0.673, 0.4255, 0.0707, -0.2067, -0.2098, -0.2138, -0.4078, -0.408, -0.4081, -0.4081, -0.4081, -0.4081, -0.4082, -1.1804, -1.1729, 0.4167, 0.4167, 0.4167, 0.4167, 0.4167, 0.4167, 0.4167, 0.4167, 0.4167, 0.4167, 0.4167, 0.4167, 0.4167, 0.4167, 0.2484, 0.2484, 0.2484, 0.2484, 0.2484, 0.2484, 0.2484, 0.2484, 0.2484, 0.2484, 0.2484, 0.2484, 0.2484, 0.2484, 0.2484, 0.2484, 0.2483, 0.2483, -1.3478, -0.5263, -0.758, -1.689, -1.344, -0.2445, 0.2296, 0.2296, 0.2295, 0.2295, -0.5351, 0.2295, 0.2295, 0.2295, 0.2295, 0.2295, 0.2295, 0.2295, 0.2134, 0.2295, 0.2295, 0.2295, 0.2134, -0.2122, 0.2134, 0.2134, 0.2295, 0.2134, -0.5351, 0.2295]}, \"token.table\": {\"Topic\": [3, 2, 4, 4, 1, 1, 1, 3, 1, 2, 1, 3, 3, 4, 3, 3, 3, 1, 3, 4, 1, 1, 1, 3, 1, 4, 1, 4, 1, 1, 1, 3, 1, 4, 1, 3, 2, 2, 3, 2, 1, 1, 2, 3, 4, 1, 3, 2, 3, 1, 1, 4, 4, 2, 2, 3, 2, 2, 2, 4, 2, 3, 1, 1, 3, 3, 2, 4, 1, 2, 1, 2, 1, 4, 3, 2, 2, 1, 1, 2, 2, 2, 1, 3, 3, 3, 3, 3, 1, 4, 4, 1, 2, 3, 4, 3, 1, 1, 2, 2, 1, 2, 3, 2, 1, 3, 1, 2, 1, 2, 3, 4, 2, 2, 3, 4, 1, 2, 1, 2, 2, 3, 1, 1, 1, 4, 2, 2, 1, 2, 3, 4, 3, 3, 3, 1, 2, 3, 4, 2, 4, 1, 1, 2, 4, 2, 1, 2, 1, 2], \"Freq\": [0.8527108438199078, 0.8366777965368823, 1.0089698136602063, 1.0089697747585527, 0.8233363329303923, 0.8233362063181432, 0.8233362860642631, 0.8527140273206422, 0.8233406069874121, 0.8366810841041445, 0.8233362955931388, 0.8527122933770289, 0.852663806688384, 1.0089697605851364, 0.5445109637079562, 0.8527132341529178, 0.8527097387158766, 0.2297879218581023, 0.6893637655743069, 0.2297879218581023, 1.041613647059759, 0.8233362214401827, 0.8233362238905819, 0.8527058172488734, 0.8233362993868935, 1.008969734594006, 0.5893993974714007, 0.5893993974714007, 0.8233362927943993, 0.8233362095028276, 0.3933949279125391, 0.3933949279125391, 0.5941181702582345, 0.5941181702582345, 0.823336349795915, 0.5444951934145609, 1.0630548948908158, 0.6232722673202634, 0.3116361336601317, 0.8366899893356666, 0.8233421896142623, 0.34688391687131864, 0.34688391687131864, 0.34688391687131864, 0.17344195843565932, 0.8233427872911234, 0.8527200628876915, 0.8366889787412749, 0.8527078972601767, 0.82334099717174, 0.8233363993257099, 1.0089698012922934, 1.008969752411667, 0.8366898473368184, 0.7858226530542706, 0.3929113265271353, 0.8366810892648142, 0.8366811022508384, 0.8366811862705024, 1.0089697895019527, 0.396414062885371, 0.396414062885371, 0.823336216880633, 0.7740327015150419, 0.38701635075752094, 0.8526631463269407, 0.8366811593097528, 1.0089698237380926, 0.8233408896273944, 0.8366810757544337, 0.5261134910964619, 0.5261134910964619, 0.8233362596187606, 1.0089697253038004, 0.8527033367716915, 0.836689980059776, 0.8366874950912175, 0.8233401619212762, 0.8233401706026487, 0.8366889491800812, 0.8366811080685977, 0.8366899857179683, 0.8233439882815059, 0.8526637459050769, 0.8527066185129226, 0.8526637011817165, 0.852698379518021, 0.8527141719303021, 1.041606110568192, 1.0089697883600934, 1.0089697930215524, 0.36851196951456483, 0.24567464634304323, 0.24567464634304323, 0.24567464634304323, 0.8527048700582069, 0.8233412795177758, 0.8233362934524776, 0.8366780205669726, 0.7789592203836511, 0.8233397777407322, 0.8366918221294121, 0.85266442218082, 0.8366890325772824, 0.8233362091349711, 0.8527108980910666, 0.526113506953491, 0.526113506953491, 0.3455415404370115, 0.3455415404370115, 0.17277077021850576, 0.17277077021850576, 0.8366900402414964, 0.7789578679723611, 0.604318176626313, 0.604318176626313, 0.8233413276661914, 0.8366811085207153, 0.8233424795607328, 0.8366906985541928, 0.53793954012123, 0.53793954012123, 0.8233430441151224, 0.8233363761700419, 0.8233363092788003, 1.0089697801696436, 0.8366871273713988, 0.836689272512602, 0.4348878677321529, 0.21744393386607644, 0.4348878677321529, 1.0089698321222829, 0.852715044034343, 0.8527011002734136, 0.8527055153826865, 0.34817076222398513, 0.17408538111199257, 0.5222561433359777, 0.17408538111199257, 0.8366899324012248, 1.008969725408854, 0.8233361977068078, 0.41967211628306367, 0.41967211628306367, 0.41967211628306367, 0.8366926819204148, 0.8233363922277152, 0.8366811176301823, 0.8233363694013037, 0.836692989353624], \"Term\": [\"Batnan\", \"CGI\", \"Nolan\", \"ai\", \"blinders\", \"cg\", \"peaky\", \"wow\", \"\\u0e01\\u0e25\\u0e34\\u0e48\\u0e19\", \"\\u0e01\\u0e32\\u0e23\\u0e04\\u0e31\\u0e14\\u0e40\\u0e25\\u0e37\\u0e2d\\u0e01\", \"\\u0e01\\u0e32\\u0e23\\u0e41\\u0e2a\\u0e14\\u0e07\", \"\\u0e01\\u0e32\\u0e23\\u0e4c\\u0e15\\u0e39\\u0e19\", \"\\u0e01\\u0e33\\u0e01\\u0e31\\u0e1a\", \"\\u0e01\\u0e33\\u0e40\\u0e19\\u0e34\\u0e14\", \"\\u0e01\\u0e35\\u0e48\", \"\\u0e01\\u0e49\\u0e2d\", \"\\u0e02\\u0e19\\u0e32\\u0e14\", \"\\u0e04\\u0e19\", \"\\u0e04\\u0e19\", \"\\u0e04\\u0e19\", \"\\u0e04\\u0e19\\u0e14\\u0e39\", \"\\u0e04\\u0e27\\u0e32\\u0e21\\u0e15\\u0e31\\u0e49\\u0e07\\u0e43\\u0e08\", \"\\u0e04\\u0e27\\u0e32\\u0e21\\u0e2a\\u0e21\\u0e08\\u0e23\\u0e34\\u0e07\", \"\\u0e04\\u0e31\\u0e27\", \"\\u0e04\\u0e33\\u0e15\\u0e2d\\u0e1a\", \"\\u0e04\\u0e33\\u0e1e\\u0e39\\u0e14\", \"\\u0e04\\u0e38\\u0e13\\u0e20\\u0e32\\u0e1e\", \"\\u0e04\\u0e38\\u0e13\\u0e20\\u0e32\\u0e1e\", \"\\u0e07\\u0e32\\u0e19\", \"\\u0e08\\u0e34\\u0e15\\u0e27\\u0e34\\u0e0d\\u0e0d\\u0e32\\u0e13\", \"\\u0e09\\u0e32\\u0e01\", \"\\u0e09\\u0e32\\u0e01\", \"\\u0e0a\\u0e2d\\u0e1a\", \"\\u0e0a\\u0e2d\\u0e1a\", \"\\u0e0a\\u0e32\\u0e22\", \"\\u0e0a\\u0e37\\u0e48\\u0e2d\", \"\\u0e14\\u0e07\", \"\\u0e14\\u0e32\\u0e23\\u0e32\", \"\\u0e14\\u0e32\\u0e23\\u0e32\", \"\\u0e14\\u0e35\", \"\\u0e14\\u0e36\\u0e07\", \"\\u0e14\\u0e39\", \"\\u0e14\\u0e39\", \"\\u0e14\\u0e39\", \"\\u0e14\\u0e39\", \"\\u0e15\\u0e23\\u0e07\\u0e19\\u0e31\\u0e49\\u0e19\", \"\\u0e15\\u0e2d\\u0e19\", \"\\u0e15\\u0e35\\u0e1a\\u0e17\\u0e41\\u0e15\\u0e01\", \"\\u0e16\\u0e32\\u0e21\", \"\\u0e17\\u0e33\", \"\\u0e17\\u0e36\\u0e48\\u0e07\", \"\\u0e17\\u0e49\\u0e32\\u0e17\\u0e32\\u0e22\", \"\\u0e19\\u0e36\\u0e07\", \"\\u0e19\\u0e36\\u0e49\", \"\\u0e19\\u0e48\\u0e32\\u0e14\\u0e39\", \"\\u0e19\\u0e48\\u0e32\\u0e14\\u0e39\", \"\\u0e1a\\u0e17\", \"\\u0e1b\\u0e0f\\u0e34\\u0e40\\u0e2a\\u0e18\", \"\\u0e1b\\u0e23\\u0e30\\u0e17\\u0e31\\u0e1a\\u0e43\\u0e08\", \"\\u0e1b\\u0e25.\", \"\\u0e1c\\u0e21\", \"\\u0e1c\\u0e21\", \"\\u0e1c\\u0e25\\u0e07\\u0e32\\u0e19\", \"\\u0e1c\\u0e39\\u0e49\\u0e01\\u0e33\\u0e01\\u0e31\\u0e1a\", \"\\u0e1c\\u0e39\\u0e49\\u0e01\\u0e33\\u0e01\\u0e31\\u0e1a\", \"\\u0e1c\\u0e39\\u0e49\\u0e0a\\u0e21\", \"\\u0e1d\\u0e35\\u0e21\\u0e37\\u0e2d\", \"\\u0e1e\\u0e25\\u0e32\\u0e14\", \"\\u0e1e\\u0e25\\u0e47\\u0e2d\\u0e15\", \"\\u0e1e\\u0e39\\u0e14\\u0e16\\u0e36\\u0e07\", \"\\u0e1f\\u0e35\\u0e48\", \"\\u0e1f\\u0e35\\u0e48\", \"\\u0e20\\u0e32\\u0e1e\", \"\\u0e21\\u0e31\\u0e49\\u0e07\", \"\\u0e21\\u0e32\\u0e08\\u0e32\\u0e01\", \"\\u0e21\\u0e34\\u0e0a\\u0e0a\\u0e31\\u0e48\\u0e19\", \"\\u0e21\\u0e48\\u0e2d\\u0e19\", \"\\u0e22\\u0e37\\u0e19\", \"\\u0e23\\u0e2a\", \"\\u0e23\\u0e2d\", \"\\u0e23\\u0e31\\u0e1a\\u0e1a\\u0e17\", \"\\u0e23\\u0e38\\u0e49\", \"\\u0e23\\u0e39\\u0e1b\", \"\\u0e23\\u0e48\\u0e27\\u0e21\\u0e07\\u0e32\\u0e19\", \"\\u0e27\\u0e49\\u0e32\\u0e27\", \"\\u0e2a\\u0e19\\u0e43\\u0e08\", \"\\u0e2a\\u0e21\\u0e08\\u0e23\\u0e34\\u0e07\", \"\\u0e2a\\u0e23\\u0e49\\u0e32\\u0e07\", \"\\u0e2a\\u0e31\\u0e21\\u0e1c\\u0e31\\u0e2a\", \"\\u0e2a\\u0e34\\u0e48\\u0e07\\u0e43\\u0e2b\\u0e21\\u0e48\", \"\\u0e2a\\u0e38\\u0e14\\u0e17\\u0e49\\u0e32\\u0e22\", \"\\u0e2b\\u0e19\\u0e31\\u0e07\", \"\\u0e2b\\u0e19\\u0e31\\u0e07\", \"\\u0e2b\\u0e19\\u0e31\\u0e07\", \"\\u0e2b\\u0e19\\u0e31\\u0e07\", \"\\u0e2b\\u0e19\\u0e31\\u0e07\\u0e2a\\u0e37\\u0e2d\", \"\\u0e2b\\u0e25\\u0e38\\u0e14\", \"\\u0e2d.\", \"\\u0e2d\\u0e14\", \"\\u0e40\", \"\\u0e40\\u0e01\\u0e34\\u0e14\\u0e02\\u0e36\\u0e49\\u0e19\", \"\\u0e40\\u0e01\\u0e48\", \"\\u0e40\\u0e01\\u0e48\\u0e07\", \"\\u0e40\\u0e01\\u0e4b\\u0e32\", \"\\u0e40\\u0e08\\u0e4b\\u0e07\", \"\\u0e40\\u0e1a\\u0e37\\u0e48\\u0e2d\", \"\\u0e40\\u0e21\\u0e2d\\u0e23\\u0e4c\", \"\\u0e40\\u0e21\\u0e2d\\u0e23\\u0e4c\", \"\\u0e40\\u0e23\\u0e37\\u0e48\\u0e2d\\u0e07\", \"\\u0e40\\u0e23\\u0e37\\u0e48\\u0e2d\\u0e07\", \"\\u0e40\\u0e23\\u0e37\\u0e48\\u0e2d\\u0e07\", \"\\u0e40\\u0e23\\u0e37\\u0e48\\u0e2d\\u0e07\", \"\\u0e40\\u0e25\\u0e48\\u0e19\", \"\\u0e40\\u0e2a\", \"\\u0e40\\u0e2a\\u0e21\\u0e2d\", \"\\u0e40\\u0e2a\\u0e21\\u0e2d\", \"\\u0e40\\u0e2a\\u0e35\\u0e22\\u0e07\", \"\\u0e40\\u0e2b\\u0e21\\u0e32\\u0e30\\u0e01\\u0e31\\u0e1a\", \"\\u0e40\\u0e2b\\u0e21\\u0e37\\u0e2d\\u0e19\", \"\\u0e41\\u0e08\\u0e21\", \"\\u0e41\\u0e17\\u0e1a\", \"\\u0e41\\u0e17\\u0e1a\", \"\\u0e41\\u0e17\\u0e1a\\u0e08\\u0e30\", \"\\u0e41\\u0e19\\u0e30\\u0e19\\u0e33\", \"\\u0e41\\u0e19\\u0e48\\u0e19\\u0e2d\\u0e19\", \"\\u0e41\\u0e1b\\u0e25\", \"\\u0e41\\u0e21\\u0e17\", \"\\u0e41\\u0e21\\u0e19\", \"\\u0e41\\u0e25\\u0e19\", \"\\u0e41\\u0e25\\u0e19\", \"\\u0e41\\u0e25\\u0e19\", \"\\u0e41\\u0e25\\u0e19\\u0e14\\u0e4c\", \"\\u0e41\\u0e25\\u0e19\\u0e4c\", \"\\u0e42\\u0e08\\u0e4d\\u0e01\\u0e40\\u0e01\\u0e2d\\u0e23\\u0e4c\", \"\\u0e42\\u0e14\\u0e22\\u0e40\\u0e09\\u0e1e\\u0e32\\u0e30\", \"\\u0e42\\u0e19\", \"\\u0e42\\u0e19\", \"\\u0e42\\u0e19\", \"\\u0e42\\u0e19\", \"\\u0e42\\u0e23\\u0e40\\u0e1a\\u0e34\\u0e23\\u0e4c\\u0e15\", \"\\u0e42\\u0e25\\u0e01\", \"\\u0e43\\u0e2a\\u0e48\", \"\\u0e43\\u0e2b\\u0e49\\u0e44\\u0e14\\u0e49\", \"\\u0e43\\u0e2b\\u0e49\\u0e44\\u0e14\\u0e49\", \"\\u0e43\\u0e2b\\u0e49\\u0e44\\u0e14\\u0e49\", \"\\u0e44\\u0e14\", \"\\u0e44\\u0e14\\u0e49\\u0e14\\u0e35\", \"\\u0e44\\u0e21\\u0e48\\u0e15\\u0e49\\u0e2d\\u0e07\", \"\\u0e44\\u0e2b\\u0e21\", \"\\u0e44\\u0e2d\\u0e23\\u0e2d\\u0e19\"]}, \"R\": 30, \"lambda.step\": 0.01, \"plot.opts\": {\"xlab\": \"PC1\", \"ylab\": \"PC2\"}, \"topic.order\": [1, 4, 5, 2, 3]};\n",
              "\n",
              "function LDAvis_load_lib(url, callback){\n",
              "  var s = document.createElement('script');\n",
              "  s.src = url;\n",
              "  s.async = true;\n",
              "  s.onreadystatechange = s.onload = callback;\n",
              "  s.onerror = function(){console.warn(\"failed to load library \" + url);};\n",
              "  document.getElementsByTagName(\"head\")[0].appendChild(s);\n",
              "}\n",
              "\n",
              "if(typeof(LDAvis) !== \"undefined\"){\n",
              "   // already loaded: just create the visualization\n",
              "   !function(LDAvis){\n",
              "       new LDAvis(\"#\" + \"ldavis_el2121370399288795689949515448\", ldavis_el2121370399288795689949515448_data);\n",
              "   }(LDAvis);\n",
              "}else if(typeof define === \"function\" && define.amd){\n",
              "   // require.js is available: use it to load d3/LDAvis\n",
              "   require.config({paths: {d3: \"https://d3js.org/d3.v5\"}});\n",
              "   require([\"d3\"], function(d3){\n",
              "      window.d3 = d3;\n",
              "      LDAvis_load_lib(\"https://cdn.jsdelivr.net/gh/bmabey/pyLDAvis@3.4.0/pyLDAvis/js/ldavis.v3.0.0.js\", function(){\n",
              "        new LDAvis(\"#\" + \"ldavis_el2121370399288795689949515448\", ldavis_el2121370399288795689949515448_data);\n",
              "      });\n",
              "    });\n",
              "}else{\n",
              "    // require.js not available: dynamically load d3 & LDAvis\n",
              "    LDAvis_load_lib(\"https://d3js.org/d3.v5.js\", function(){\n",
              "         LDAvis_load_lib(\"https://cdn.jsdelivr.net/gh/bmabey/pyLDAvis@3.4.0/pyLDAvis/js/ldavis.v3.0.0.js\", function(){\n",
              "                 new LDAvis(\"#\" + \"ldavis_el2121370399288795689949515448\", ldavis_el2121370399288795689949515448_data);\n",
              "            })\n",
              "         });\n",
              "}\n",
              "</script>"
            ]
          },
          "metadata": {},
          "execution_count": 25
        }
      ]
    },
    {
      "cell_type": "code",
      "source": [
        "model.show_topic (1)"
      ],
      "metadata": {
        "colab": {
          "base_uri": "https://localhost:8080/"
        },
        "id": "a4IdsyG46KbA",
        "outputId": "a08ef875-31bf-4dde-9143-fde44ad3f788"
      },
      "execution_count": null,
      "outputs": [
        {
          "output_type": "execute_result",
          "data": {
            "text/plain": [
              "[('หนัง', 0.057149515),\n",
              " ('ชอบ', 0.05713223),\n",
              " ('ดู', 0.021441706),\n",
              " ('เรื่อง', 0.021439904),\n",
              " ('เสมอ', 0.021434695),\n",
              " ('โน', 0.021429652),\n",
              " ('โลก', 0.021424485),\n",
              " ('กำเนิด', 0.021424485),\n",
              " ('มั้ง', 0.021424485),\n",
              " ('คำพูด', 0.021424484)]"
            ]
          },
          "metadata": {},
          "execution_count": 26
        }
      ]
    },
    {
      "cell_type": "code",
      "source": [
        "df['topics'] = df['review_tokenized'].apply(lambda x: model.get_document_topics(dictionary.doc2bow(x.split(',')))[0][0])\n",
        "df['score'] = df['review_tokenized'].apply(lambda x: model.get_document_topics(dictionary.doc2bow(x.split(',')))[0][1])\n"
      ],
      "metadata": {
        "id": "eT9dZyRQ6q_X"
      },
      "execution_count": null,
      "outputs": []
    },
    {
      "cell_type": "code",
      "source": [
        "df.tail()"
      ],
      "metadata": {
        "colab": {
          "base_uri": "https://localhost:8080/",
          "height": 206
        },
        "id": "aKRIYoHY7Oqb",
        "outputId": "f4f2a6eb-5ec8-4df6-fc18-f5d31d80fce6"
      },
      "execution_count": null,
      "outputs": [
        {
          "output_type": "execute_result",
          "data": {
            "text/plain": [
              "    review_id                                            comment  \\\n",
              "7         349     โนแลน คือคนที่ทำให้เชื่อทุกครั้ง ในสิ่งที่เล่า   \n",
              "8         907  ชอบเพราะแค่ดู เราก็แทบจะสัมผัสได้ทั้ง รูป รส ก...   \n",
              "9         899  นำเสรอได้น่าดูมากเลยคะ ดารานำรุ้ว่าเล่นดีตีบทแ...   \n",
              "10        474  Nolan หนังคุณภาพ ที่คนชอบดูหนังไม่ควรพลาด อีกเ...   \n",
              "11        616  คำพูดที่ว่าโลกยังไม่พร้อม ก็คงแบบเดียวกับ ai ล...   \n",
              "\n",
              "                                     review_tokenized  topics     score  \n",
              "7                                      โน,แลน,คน,เล่า       0  0.014755  \n",
              "8   ชอบ,ดู,แทบจะ,สัมผัส,รูป,รส,กลิ่น,เสียง,เหมือน,...       0  0.993044  \n",
              "9   เส,รอ,น่าดู,ดารา,รุ้,เล่น,ดี,ตีบทแตก,เรื่อง,ดา...       3  0.993722  \n",
              "10   Nolan,หนัง,คุณภาพ,คน,ชอบ,ดู,หนัง,พลาด,เรื่อง,นึง       1  0.981757  \n",
              "11  คำพูด,โลก,ai,มั้ง,สุดท้าย,กำเนิด,แปล,ให้ได้,ปล...       1  0.989171  "
            ],
            "text/html": [
              "\n",
              "\n",
              "  <div id=\"df-3c6dd3e4-d249-4e75-bc2e-fd260276d35a\">\n",
              "    <div class=\"colab-df-container\">\n",
              "      <div>\n",
              "<style scoped>\n",
              "    .dataframe tbody tr th:only-of-type {\n",
              "        vertical-align: middle;\n",
              "    }\n",
              "\n",
              "    .dataframe tbody tr th {\n",
              "        vertical-align: top;\n",
              "    }\n",
              "\n",
              "    .dataframe thead th {\n",
              "        text-align: right;\n",
              "    }\n",
              "</style>\n",
              "<table border=\"1\" class=\"dataframe\">\n",
              "  <thead>\n",
              "    <tr style=\"text-align: right;\">\n",
              "      <th></th>\n",
              "      <th>review_id</th>\n",
              "      <th>comment</th>\n",
              "      <th>review_tokenized</th>\n",
              "      <th>topics</th>\n",
              "      <th>score</th>\n",
              "    </tr>\n",
              "  </thead>\n",
              "  <tbody>\n",
              "    <tr>\n",
              "      <th>7</th>\n",
              "      <td>349</td>\n",
              "      <td>โนแลน คือคนที่ทำให้เชื่อทุกครั้ง ในสิ่งที่เล่า</td>\n",
              "      <td>โน,แลน,คน,เล่า</td>\n",
              "      <td>0</td>\n",
              "      <td>0.014755</td>\n",
              "    </tr>\n",
              "    <tr>\n",
              "      <th>8</th>\n",
              "      <td>907</td>\n",
              "      <td>ชอบเพราะแค่ดู เราก็แทบจะสัมผัสได้ทั้ง รูป รส ก...</td>\n",
              "      <td>ชอบ,ดู,แทบจะ,สัมผัส,รูป,รส,กลิ่น,เสียง,เหมือน,...</td>\n",
              "      <td>0</td>\n",
              "      <td>0.993044</td>\n",
              "    </tr>\n",
              "    <tr>\n",
              "      <th>9</th>\n",
              "      <td>899</td>\n",
              "      <td>นำเสรอได้น่าดูมากเลยคะ ดารานำรุ้ว่าเล่นดีตีบทแ...</td>\n",
              "      <td>เส,รอ,น่าดู,ดารา,รุ้,เล่น,ดี,ตีบทแตก,เรื่อง,ดา...</td>\n",
              "      <td>3</td>\n",
              "      <td>0.993722</td>\n",
              "    </tr>\n",
              "    <tr>\n",
              "      <th>10</th>\n",
              "      <td>474</td>\n",
              "      <td>Nolan หนังคุณภาพ ที่คนชอบดูหนังไม่ควรพลาด อีกเ...</td>\n",
              "      <td>Nolan,หนัง,คุณภาพ,คน,ชอบ,ดู,หนัง,พลาด,เรื่อง,นึง</td>\n",
              "      <td>1</td>\n",
              "      <td>0.981757</td>\n",
              "    </tr>\n",
              "    <tr>\n",
              "      <th>11</th>\n",
              "      <td>616</td>\n",
              "      <td>คำพูดที่ว่าโลกยังไม่พร้อม ก็คงแบบเดียวกับ ai ล...</td>\n",
              "      <td>คำพูด,โลก,ai,มั้ง,สุดท้าย,กำเนิด,แปล,ให้ได้,ปล...</td>\n",
              "      <td>1</td>\n",
              "      <td>0.989171</td>\n",
              "    </tr>\n",
              "  </tbody>\n",
              "</table>\n",
              "</div>\n",
              "      <button class=\"colab-df-convert\" onclick=\"convertToInteractive('df-3c6dd3e4-d249-4e75-bc2e-fd260276d35a')\"\n",
              "              title=\"Convert this dataframe to an interactive table.\"\n",
              "              style=\"display:none;\">\n",
              "\n",
              "  <svg xmlns=\"http://www.w3.org/2000/svg\" height=\"24px\"viewBox=\"0 0 24 24\"\n",
              "       width=\"24px\">\n",
              "    <path d=\"M0 0h24v24H0V0z\" fill=\"none\"/>\n",
              "    <path d=\"M18.56 5.44l.94 2.06.94-2.06 2.06-.94-2.06-.94-.94-2.06-.94 2.06-2.06.94zm-11 1L8.5 8.5l.94-2.06 2.06-.94-2.06-.94L8.5 2.5l-.94 2.06-2.06.94zm10 10l.94 2.06.94-2.06 2.06-.94-2.06-.94-.94-2.06-.94 2.06-2.06.94z\"/><path d=\"M17.41 7.96l-1.37-1.37c-.4-.4-.92-.59-1.43-.59-.52 0-1.04.2-1.43.59L10.3 9.45l-7.72 7.72c-.78.78-.78 2.05 0 2.83L4 21.41c.39.39.9.59 1.41.59.51 0 1.02-.2 1.41-.59l7.78-7.78 2.81-2.81c.8-.78.8-2.07 0-2.86zM5.41 20L4 18.59l7.72-7.72 1.47 1.35L5.41 20z\"/>\n",
              "  </svg>\n",
              "      </button>\n",
              "\n",
              "\n",
              "\n",
              "    <div id=\"df-43bf409a-1401-4e0b-915d-9f3ca97b7242\">\n",
              "      <button class=\"colab-df-quickchart\" onclick=\"quickchart('df-43bf409a-1401-4e0b-915d-9f3ca97b7242')\"\n",
              "              title=\"Suggest charts.\"\n",
              "              style=\"display:none;\">\n",
              "\n",
              "<svg xmlns=\"http://www.w3.org/2000/svg\" height=\"24px\"viewBox=\"0 0 24 24\"\n",
              "     width=\"24px\">\n",
              "    <g>\n",
              "        <path d=\"M19 3H5c-1.1 0-2 .9-2 2v14c0 1.1.9 2 2 2h14c1.1 0 2-.9 2-2V5c0-1.1-.9-2-2-2zM9 17H7v-7h2v7zm4 0h-2V7h2v10zm4 0h-2v-4h2v4z\"/>\n",
              "    </g>\n",
              "</svg>\n",
              "      </button>\n",
              "    </div>\n",
              "\n",
              "<style>\n",
              "  .colab-df-quickchart {\n",
              "    background-color: #E8F0FE;\n",
              "    border: none;\n",
              "    border-radius: 50%;\n",
              "    cursor: pointer;\n",
              "    display: none;\n",
              "    fill: #1967D2;\n",
              "    height: 32px;\n",
              "    padding: 0 0 0 0;\n",
              "    width: 32px;\n",
              "  }\n",
              "\n",
              "  .colab-df-quickchart:hover {\n",
              "    background-color: #E2EBFA;\n",
              "    box-shadow: 0px 1px 2px rgba(60, 64, 67, 0.3), 0px 1px 3px 1px rgba(60, 64, 67, 0.15);\n",
              "    fill: #174EA6;\n",
              "  }\n",
              "\n",
              "  [theme=dark] .colab-df-quickchart {\n",
              "    background-color: #3B4455;\n",
              "    fill: #D2E3FC;\n",
              "  }\n",
              "\n",
              "  [theme=dark] .colab-df-quickchart:hover {\n",
              "    background-color: #434B5C;\n",
              "    box-shadow: 0px 1px 3px 1px rgba(0, 0, 0, 0.15);\n",
              "    filter: drop-shadow(0px 1px 2px rgba(0, 0, 0, 0.3));\n",
              "    fill: #FFFFFF;\n",
              "  }\n",
              "</style>\n",
              "\n",
              "    <script>\n",
              "      async function quickchart(key) {\n",
              "        const containerElement = document.querySelector('#' + key);\n",
              "        const charts = await google.colab.kernel.invokeFunction(\n",
              "            'suggestCharts', [key], {});\n",
              "      }\n",
              "    </script>\n",
              "\n",
              "      <script>\n",
              "\n",
              "function displayQuickchartButton(domScope) {\n",
              "  let quickchartButtonEl =\n",
              "    domScope.querySelector('#df-43bf409a-1401-4e0b-915d-9f3ca97b7242 button.colab-df-quickchart');\n",
              "  quickchartButtonEl.style.display =\n",
              "    google.colab.kernel.accessAllowed ? 'block' : 'none';\n",
              "}\n",
              "\n",
              "        displayQuickchartButton(document);\n",
              "      </script>\n",
              "      <style>\n",
              "    .colab-df-container {\n",
              "      display:flex;\n",
              "      flex-wrap:wrap;\n",
              "      gap: 12px;\n",
              "    }\n",
              "\n",
              "    .colab-df-convert {\n",
              "      background-color: #E8F0FE;\n",
              "      border: none;\n",
              "      border-radius: 50%;\n",
              "      cursor: pointer;\n",
              "      display: none;\n",
              "      fill: #1967D2;\n",
              "      height: 32px;\n",
              "      padding: 0 0 0 0;\n",
              "      width: 32px;\n",
              "    }\n",
              "\n",
              "    .colab-df-convert:hover {\n",
              "      background-color: #E2EBFA;\n",
              "      box-shadow: 0px 1px 2px rgba(60, 64, 67, 0.3), 0px 1px 3px 1px rgba(60, 64, 67, 0.15);\n",
              "      fill: #174EA6;\n",
              "    }\n",
              "\n",
              "    [theme=dark] .colab-df-convert {\n",
              "      background-color: #3B4455;\n",
              "      fill: #D2E3FC;\n",
              "    }\n",
              "\n",
              "    [theme=dark] .colab-df-convert:hover {\n",
              "      background-color: #434B5C;\n",
              "      box-shadow: 0px 1px 3px 1px rgba(0, 0, 0, 0.15);\n",
              "      filter: drop-shadow(0px 1px 2px rgba(0, 0, 0, 0.3));\n",
              "      fill: #FFFFFF;\n",
              "    }\n",
              "  </style>\n",
              "\n",
              "      <script>\n",
              "        const buttonEl =\n",
              "          document.querySelector('#df-3c6dd3e4-d249-4e75-bc2e-fd260276d35a button.colab-df-convert');\n",
              "        buttonEl.style.display =\n",
              "          google.colab.kernel.accessAllowed ? 'block' : 'none';\n",
              "\n",
              "        async function convertToInteractive(key) {\n",
              "          const element = document.querySelector('#df-3c6dd3e4-d249-4e75-bc2e-fd260276d35a');\n",
              "          const dataTable =\n",
              "            await google.colab.kernel.invokeFunction('convertToInteractive',\n",
              "                                                     [key], {});\n",
              "          if (!dataTable) return;\n",
              "\n",
              "          const docLinkHtml = 'Like what you see? Visit the ' +\n",
              "            '<a target=\"_blank\" href=https://colab.research.google.com/notebooks/data_table.ipynb>data table notebook</a>'\n",
              "            + ' to learn more about interactive tables.';\n",
              "          element.innerHTML = '';\n",
              "          dataTable['output_type'] = 'display_data';\n",
              "          await google.colab.output.renderOutput(dataTable, element);\n",
              "          const docLink = document.createElement('div');\n",
              "          docLink.innerHTML = docLinkHtml;\n",
              "          element.appendChild(docLink);\n",
              "        }\n",
              "      </script>\n",
              "    </div>\n",
              "  </div>\n"
            ]
          },
          "metadata": {},
          "execution_count": 30
        }
      ]
    },
    {
      "cell_type": "code",
      "source": [
        "print (df)"
      ],
      "metadata": {
        "colab": {
          "base_uri": "https://localhost:8080/"
        },
        "id": "onGoXzWf7gWf",
        "outputId": "d2d0ba71-def0-475c-d607-4e80ea1e8bfd"
      },
      "execution_count": null,
      "outputs": [
        {
          "output_type": "stream",
          "name": "stdout",
          "text": [
            "    review_id                                            comment  \\\n",
            "0         545  ผู้กำกับแบบโนแลนหายากจริงๆนะคับ หนังของแกมีควา...   \n",
            "1         811  เป็นผู้กำกับไม่กี่คน ที่ผู้ชมแทบไม่สนใจเลยว่าใ...   \n",
            "2         879  สิ่งหนึ่งที่ประทับใจเรื่องนี้คือการคัดเลือกนัก...   \n",
            "3         631  ชอบหนังโนแลนเพราะผู้กำกับใส่จิตวิญญาณและความตั...   \n",
            "4         133  หนังโนแลน์ทำให้ผมว้าวได้เสมอ โดยเฉพาะBatnan โจ...   \n",
            "5         793  ใครที่แบบคิดว่า เมอร์ฟี่จะแสดงได้ดีไหม peaky b...   \n",
            "6         521  หนังของเสด็จพ่อโนแลนตัองดูในโรงให้ได้ครับ เบื้...   \n",
            "7         349     โนแลน คือคนที่ทำให้เชื่อทุกครั้ง ในสิ่งที่เล่า   \n",
            "8         907  ชอบเพราะแค่ดู เราก็แทบจะสัมผัสได้ทั้ง รูป รส ก...   \n",
            "9         899  นำเสรอได้น่าดูมากเลยคะ ดารานำรุ้ว่าเล่นดีตีบทแ...   \n",
            "10        474  Nolan หนังคุณภาพ ที่คนชอบดูหนังไม่ควรพลาด อีกเ...   \n",
            "11        616  คำพูดที่ว่าโลกยังไม่พร้อม ก็คงแบบเดียวกับ ai ล...   \n",
            "\n",
            "                                     review_tokenized  topics     score  \n",
            "0   ผู้กำกับ,โน,แลน,หา,คับ,หนัง,ตัวเอง,ลายเซ็น,ชัด...       0  0.988643  \n",
            "1   ผู้กำกับ,กี่,คน,ผู้ชม,แทบ,สนใจ,ดารา,ชื่อ,โน,แล...       4  0.991629  \n",
            "2   ประทับใจ,เรื่อง,การคัดเลือก,เ,เส,ดง,รับบท,ปฏิเ...       3  0.990966  \n",
            "3   ชอบ,หนัง,โน,แลน,ผู้กำกับ,ใส่,จิตวิญญาณ,ความตั้...       0  0.991597  \n",
            "4   หนัง,โน,แลน์,ผม,ว้าว,เสมอ,โดยเฉพาะ,Batnan,โจํก...       4  0.994310  \n",
            "5   เมอร์,ฟี่,ได้ดี,ไหม,peaky,blinders,คำตอบ,อ.,แน...       0  0.988643  \n",
            "6   หนัง,เสด็จ,พ่อ,โน,แลน,ตัอง,ดู,โรง,ให้ได้,เบื้อ...       3  0.992243  \n",
            "7                                      โน,แลน,คน,เล่า       0  0.014755  \n",
            "8   ชอบ,ดู,แทบจะ,สัมผัส,รูป,รส,กลิ่น,เสียง,เหมือน,...       0  0.993044  \n",
            "9   เส,รอ,น่าดู,ดารา,รุ้,เล่น,ดี,ตีบทแตก,เรื่อง,ดา...       3  0.993722  \n",
            "10   Nolan,หนัง,คุณภาพ,คน,ชอบ,ดู,หนัง,พลาด,เรื่อง,นึง       1  0.981757  \n",
            "11  คำพูด,โลก,ai,มั้ง,สุดท้าย,กำเนิด,แปล,ให้ได้,ปล...       1  0.989171  \n"
          ]
        }
      ]
    }
  ]
}