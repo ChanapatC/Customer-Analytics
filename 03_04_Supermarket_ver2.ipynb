{
  "cells": [
    {
      "cell_type": "markdown",
      "metadata": {
        "id": "view-in-github",
        "colab_type": "text"
      },
      "source": [
        "<a href=\"https://colab.research.google.com/github/ChanapatC/Customer-Analytics/blob/main/03_04_Supermarket_ver2.ipynb\" target=\"_parent\"><img src=\"https://colab.research.google.com/assets/colab-badge.svg\" alt=\"Open In Colab\"/></a>"
      ]
    },
    {
      "cell_type": "code",
      "source": [
        "%pip install pycaret"
      ],
      "metadata": {
        "colab": {
          "base_uri": "https://localhost:8080/"
        },
        "id": "U_fv9Z4tzGiv",
        "outputId": "5844f18f-6fe6-4061-8801-2e5ccee1a7a0"
      },
      "execution_count": 6,
      "outputs": [
        {
          "output_type": "stream",
          "name": "stdout",
          "text": [
            "Requirement already satisfied: pycaret in /usr/local/lib/python3.10/dist-packages (3.0.4)\n",
            "Requirement already satisfied: ipython>=5.5.0 in /usr/local/lib/python3.10/dist-packages (from pycaret) (7.34.0)\n",
            "Requirement already satisfied: ipywidgets>=7.6.5 in /usr/local/lib/python3.10/dist-packages (from pycaret) (7.7.1)\n",
            "Requirement already satisfied: tqdm>=4.62.0 in /usr/local/lib/python3.10/dist-packages (from pycaret) (4.65.0)\n",
            "Requirement already satisfied: numpy<1.24,>=1.21 in /usr/local/lib/python3.10/dist-packages (from pycaret) (1.22.4)\n",
            "Requirement already satisfied: pandas<2.0.0,>=1.3.0 in /usr/local/lib/python3.10/dist-packages (from pycaret) (1.5.3)\n",
            "Requirement already satisfied: jinja2>=1.2 in /usr/local/lib/python3.10/dist-packages (from pycaret) (3.1.2)\n",
            "Requirement already satisfied: scipy<2.0.0 in /usr/local/lib/python3.10/dist-packages (from pycaret) (1.10.1)\n",
            "Requirement already satisfied: joblib>=1.2.0 in /usr/local/lib/python3.10/dist-packages (from pycaret) (1.3.1)\n",
            "Requirement already satisfied: scikit-learn<1.3.0,>=1.0 in /usr/local/lib/python3.10/dist-packages (from pycaret) (1.2.2)\n",
            "Requirement already satisfied: pyod>=1.0.8 in /usr/local/lib/python3.10/dist-packages (from pycaret) (1.1.0)\n",
            "Requirement already satisfied: imbalanced-learn>=0.8.1 in /usr/local/lib/python3.10/dist-packages (from pycaret) (0.10.1)\n",
            "Requirement already satisfied: category-encoders>=2.4.0 in /usr/local/lib/python3.10/dist-packages (from pycaret) (2.6.1)\n",
            "Requirement already satisfied: lightgbm>=3.0.0 in /usr/local/lib/python3.10/dist-packages (from pycaret) (3.3.5)\n",
            "Requirement already satisfied: numba>=0.55.0 in /usr/local/lib/python3.10/dist-packages (from pycaret) (0.56.4)\n",
            "Requirement already satisfied: requests>=2.27.1 in /usr/local/lib/python3.10/dist-packages (from pycaret) (2.27.1)\n",
            "Requirement already satisfied: psutil>=5.9.0 in /usr/local/lib/python3.10/dist-packages (from pycaret) (5.9.5)\n",
            "Requirement already satisfied: markupsafe>=2.0.1 in /usr/local/lib/python3.10/dist-packages (from pycaret) (2.1.3)\n",
            "Requirement already satisfied: importlib-metadata>=4.12.0 in /usr/local/lib/python3.10/dist-packages (from pycaret) (6.8.0)\n",
            "Requirement already satisfied: nbformat>=4.2.0 in /usr/local/lib/python3.10/dist-packages (from pycaret) (5.9.1)\n",
            "Requirement already satisfied: cloudpickle in /usr/local/lib/python3.10/dist-packages (from pycaret) (2.2.1)\n",
            "Requirement already satisfied: deprecation>=2.1.0 in /usr/local/lib/python3.10/dist-packages (from pycaret) (2.1.0)\n",
            "Requirement already satisfied: xxhash in /usr/local/lib/python3.10/dist-packages (from pycaret) (3.3.0)\n",
            "Requirement already satisfied: matplotlib>=3.3.0 in /usr/local/lib/python3.10/dist-packages (from pycaret) (3.7.1)\n",
            "Requirement already satisfied: scikit-plot>=0.3.7 in /usr/local/lib/python3.10/dist-packages (from pycaret) (0.3.7)\n",
            "Requirement already satisfied: yellowbrick>=1.4 in /usr/local/lib/python3.10/dist-packages (from pycaret) (1.5)\n",
            "Requirement already satisfied: plotly>=5.0.0 in /usr/local/lib/python3.10/dist-packages (from pycaret) (5.13.1)\n",
            "Requirement already satisfied: kaleido>=0.2.1 in /usr/local/lib/python3.10/dist-packages (from pycaret) (0.2.1)\n",
            "Requirement already satisfied: schemdraw==0.15 in /usr/local/lib/python3.10/dist-packages (from pycaret) (0.15)\n",
            "Requirement already satisfied: plotly-resampler>=0.8.3.1 in /usr/local/lib/python3.10/dist-packages (from pycaret) (0.9.1)\n",
            "Requirement already satisfied: statsmodels>=0.12.1 in /usr/local/lib/python3.10/dist-packages (from pycaret) (0.13.5)\n",
            "Requirement already satisfied: sktime!=0.17.1,!=0.17.2,!=0.18.0,>=0.16.1 in /usr/local/lib/python3.10/dist-packages (from pycaret) (0.21.0)\n",
            "Requirement already satisfied: tbats>=1.1.3 in /usr/local/lib/python3.10/dist-packages (from pycaret) (1.1.3)\n",
            "Requirement already satisfied: pmdarima!=1.8.1,<3.0.0,>=1.8.0 in /usr/local/lib/python3.10/dist-packages (from pycaret) (2.0.3)\n",
            "Requirement already satisfied: wurlitzer in /usr/local/lib/python3.10/dist-packages (from pycaret) (3.0.3)\n",
            "Requirement already satisfied: patsy>=0.5.1 in /usr/local/lib/python3.10/dist-packages (from category-encoders>=2.4.0->pycaret) (0.5.3)\n",
            "Requirement already satisfied: packaging in /usr/local/lib/python3.10/dist-packages (from deprecation>=2.1.0->pycaret) (23.1)\n",
            "Requirement already satisfied: threadpoolctl>=2.0.0 in /usr/local/lib/python3.10/dist-packages (from imbalanced-learn>=0.8.1->pycaret) (3.2.0)\n",
            "Requirement already satisfied: zipp>=0.5 in /usr/local/lib/python3.10/dist-packages (from importlib-metadata>=4.12.0->pycaret) (3.16.2)\n",
            "Requirement already satisfied: setuptools>=18.5 in /usr/local/lib/python3.10/dist-packages (from ipython>=5.5.0->pycaret) (67.7.2)\n",
            "Requirement already satisfied: jedi>=0.16 in /usr/local/lib/python3.10/dist-packages (from ipython>=5.5.0->pycaret) (0.19.0)\n",
            "Requirement already satisfied: decorator in /usr/local/lib/python3.10/dist-packages (from ipython>=5.5.0->pycaret) (4.4.2)\n",
            "Requirement already satisfied: pickleshare in /usr/local/lib/python3.10/dist-packages (from ipython>=5.5.0->pycaret) (0.7.5)\n",
            "Requirement already satisfied: traitlets>=4.2 in /usr/local/lib/python3.10/dist-packages (from ipython>=5.5.0->pycaret) (5.7.1)\n",
            "Requirement already satisfied: prompt-toolkit!=3.0.0,!=3.0.1,<3.1.0,>=2.0.0 in /usr/local/lib/python3.10/dist-packages (from ipython>=5.5.0->pycaret) (3.0.39)\n",
            "Requirement already satisfied: pygments in /usr/local/lib/python3.10/dist-packages (from ipython>=5.5.0->pycaret) (2.14.0)\n",
            "Requirement already satisfied: backcall in /usr/local/lib/python3.10/dist-packages (from ipython>=5.5.0->pycaret) (0.2.0)\n",
            "Requirement already satisfied: matplotlib-inline in /usr/local/lib/python3.10/dist-packages (from ipython>=5.5.0->pycaret) (0.1.6)\n",
            "Requirement already satisfied: pexpect>4.3 in /usr/local/lib/python3.10/dist-packages (from ipython>=5.5.0->pycaret) (4.8.0)\n",
            "Requirement already satisfied: ipykernel>=4.5.1 in /usr/local/lib/python3.10/dist-packages (from ipywidgets>=7.6.5->pycaret) (5.5.6)\n",
            "Requirement already satisfied: ipython-genutils~=0.2.0 in /usr/local/lib/python3.10/dist-packages (from ipywidgets>=7.6.5->pycaret) (0.2.0)\n",
            "Requirement already satisfied: widgetsnbextension~=3.6.0 in /usr/local/lib/python3.10/dist-packages (from ipywidgets>=7.6.5->pycaret) (3.6.4)\n",
            "Requirement already satisfied: jupyterlab-widgets>=1.0.0 in /usr/local/lib/python3.10/dist-packages (from ipywidgets>=7.6.5->pycaret) (3.0.8)\n",
            "Requirement already satisfied: wheel in /usr/local/lib/python3.10/dist-packages (from lightgbm>=3.0.0->pycaret) (0.41.0)\n",
            "Requirement already satisfied: contourpy>=1.0.1 in /usr/local/lib/python3.10/dist-packages (from matplotlib>=3.3.0->pycaret) (1.1.0)\n",
            "Requirement already satisfied: cycler>=0.10 in /usr/local/lib/python3.10/dist-packages (from matplotlib>=3.3.0->pycaret) (0.11.0)\n",
            "Requirement already satisfied: fonttools>=4.22.0 in /usr/local/lib/python3.10/dist-packages (from matplotlib>=3.3.0->pycaret) (4.41.1)\n",
            "Requirement already satisfied: kiwisolver>=1.0.1 in /usr/local/lib/python3.10/dist-packages (from matplotlib>=3.3.0->pycaret) (1.4.4)\n",
            "Requirement already satisfied: pillow>=6.2.0 in /usr/local/lib/python3.10/dist-packages (from matplotlib>=3.3.0->pycaret) (9.4.0)\n",
            "Requirement already satisfied: pyparsing>=2.3.1 in /usr/local/lib/python3.10/dist-packages (from matplotlib>=3.3.0->pycaret) (3.1.0)\n",
            "Requirement already satisfied: python-dateutil>=2.7 in /usr/local/lib/python3.10/dist-packages (from matplotlib>=3.3.0->pycaret) (2.8.2)\n",
            "Requirement already satisfied: fastjsonschema in /usr/local/lib/python3.10/dist-packages (from nbformat>=4.2.0->pycaret) (2.18.0)\n",
            "Requirement already satisfied: jsonschema>=2.6 in /usr/local/lib/python3.10/dist-packages (from nbformat>=4.2.0->pycaret) (4.3.3)\n",
            "Requirement already satisfied: jupyter-core in /usr/local/lib/python3.10/dist-packages (from nbformat>=4.2.0->pycaret) (5.3.1)\n",
            "Requirement already satisfied: llvmlite<0.40,>=0.39.0dev0 in /usr/local/lib/python3.10/dist-packages (from numba>=0.55.0->pycaret) (0.39.1)\n",
            "Requirement already satisfied: pytz>=2020.1 in /usr/local/lib/python3.10/dist-packages (from pandas<2.0.0,>=1.3.0->pycaret) (2022.7.1)\n",
            "Requirement already satisfied: tenacity>=6.2.0 in /usr/local/lib/python3.10/dist-packages (from plotly>=5.0.0->pycaret) (8.2.2)\n",
            "Requirement already satisfied: dash<3.0.0,>=2.11.0 in /usr/local/lib/python3.10/dist-packages (from plotly-resampler>=0.8.3.1->pycaret) (2.11.1)\n",
            "Requirement already satisfied: orjson<4.0.0,>=3.8.0 in /usr/local/lib/python3.10/dist-packages (from plotly-resampler>=0.8.3.1->pycaret) (3.9.2)\n",
            "Requirement already satisfied: trace-updater>=0.0.8 in /usr/local/lib/python3.10/dist-packages (from plotly-resampler>=0.8.3.1->pycaret) (0.0.9.1)\n",
            "Requirement already satisfied: tsdownsample==0.1.2 in /usr/local/lib/python3.10/dist-packages (from plotly-resampler>=0.8.3.1->pycaret) (0.1.2)\n",
            "Requirement already satisfied: Cython!=0.29.18,!=0.29.31,>=0.29 in /usr/local/lib/python3.10/dist-packages (from pmdarima!=1.8.1,<3.0.0,>=1.8.0->pycaret) (0.29.36)\n",
            "Requirement already satisfied: urllib3 in /usr/local/lib/python3.10/dist-packages (from pmdarima!=1.8.1,<3.0.0,>=1.8.0->pycaret) (1.26.16)\n",
            "Requirement already satisfied: six in /usr/local/lib/python3.10/dist-packages (from pyod>=1.0.8->pycaret) (1.16.0)\n",
            "Requirement already satisfied: certifi>=2017.4.17 in /usr/local/lib/python3.10/dist-packages (from requests>=2.27.1->pycaret) (2023.7.22)\n",
            "Requirement already satisfied: charset-normalizer~=2.0.0 in /usr/local/lib/python3.10/dist-packages (from requests>=2.27.1->pycaret) (2.0.12)\n",
            "Requirement already satisfied: idna<4,>=2.5 in /usr/local/lib/python3.10/dist-packages (from requests>=2.27.1->pycaret) (3.4)\n",
            "Requirement already satisfied: deprecated>=1.2.13 in /usr/local/lib/python3.10/dist-packages (from sktime!=0.17.1,!=0.17.2,!=0.18.0,>=0.16.1->pycaret) (1.2.14)\n",
            "Requirement already satisfied: scikit-base<0.6.0 in /usr/local/lib/python3.10/dist-packages (from sktime!=0.17.1,!=0.17.2,!=0.18.0,>=0.16.1->pycaret) (0.5.0)\n",
            "Requirement already satisfied: Flask<2.3.0,>=1.0.4 in /usr/local/lib/python3.10/dist-packages (from dash<3.0.0,>=2.11.0->plotly-resampler>=0.8.3.1->pycaret) (2.2.5)\n",
            "Requirement already satisfied: Werkzeug<2.3.0 in /usr/local/lib/python3.10/dist-packages (from dash<3.0.0,>=2.11.0->plotly-resampler>=0.8.3.1->pycaret) (2.2.3)\n",
            "Requirement already satisfied: dash-html-components==2.0.0 in /usr/local/lib/python3.10/dist-packages (from dash<3.0.0,>=2.11.0->plotly-resampler>=0.8.3.1->pycaret) (2.0.0)\n",
            "Requirement already satisfied: dash-core-components==2.0.0 in /usr/local/lib/python3.10/dist-packages (from dash<3.0.0,>=2.11.0->plotly-resampler>=0.8.3.1->pycaret) (2.0.0)\n",
            "Requirement already satisfied: dash-table==5.0.0 in /usr/local/lib/python3.10/dist-packages (from dash<3.0.0,>=2.11.0->plotly-resampler>=0.8.3.1->pycaret) (5.0.0)\n",
            "Requirement already satisfied: typing-extensions>=4.1.1 in /usr/local/lib/python3.10/dist-packages (from dash<3.0.0,>=2.11.0->plotly-resampler>=0.8.3.1->pycaret) (4.7.1)\n",
            "Requirement already satisfied: retrying in /usr/local/lib/python3.10/dist-packages (from dash<3.0.0,>=2.11.0->plotly-resampler>=0.8.3.1->pycaret) (1.3.4)\n",
            "Requirement already satisfied: ansi2html in /usr/local/lib/python3.10/dist-packages (from dash<3.0.0,>=2.11.0->plotly-resampler>=0.8.3.1->pycaret) (1.8.0)\n",
            "Requirement already satisfied: nest-asyncio in /usr/local/lib/python3.10/dist-packages (from dash<3.0.0,>=2.11.0->plotly-resampler>=0.8.3.1->pycaret) (1.5.6)\n",
            "Requirement already satisfied: wrapt<2,>=1.10 in /usr/local/lib/python3.10/dist-packages (from deprecated>=1.2.13->sktime!=0.17.1,!=0.17.2,!=0.18.0,>=0.16.1->pycaret) (1.14.1)\n",
            "Requirement already satisfied: jupyter-client in /usr/local/lib/python3.10/dist-packages (from ipykernel>=4.5.1->ipywidgets>=7.6.5->pycaret) (6.1.12)\n",
            "Requirement already satisfied: tornado>=4.2 in /usr/local/lib/python3.10/dist-packages (from ipykernel>=4.5.1->ipywidgets>=7.6.5->pycaret) (6.3.1)\n",
            "Requirement already satisfied: parso<0.9.0,>=0.8.3 in /usr/local/lib/python3.10/dist-packages (from jedi>=0.16->ipython>=5.5.0->pycaret) (0.8.3)\n",
            "Requirement already satisfied: attrs>=17.4.0 in /usr/local/lib/python3.10/dist-packages (from jsonschema>=2.6->nbformat>=4.2.0->pycaret) (23.1.0)\n",
            "Requirement already satisfied: pyrsistent!=0.17.0,!=0.17.1,!=0.17.2,>=0.14.0 in /usr/local/lib/python3.10/dist-packages (from jsonschema>=2.6->nbformat>=4.2.0->pycaret) (0.19.3)\n",
            "Requirement already satisfied: ptyprocess>=0.5 in /usr/local/lib/python3.10/dist-packages (from pexpect>4.3->ipython>=5.5.0->pycaret) (0.7.0)\n",
            "Requirement already satisfied: wcwidth in /usr/local/lib/python3.10/dist-packages (from prompt-toolkit!=3.0.0,!=3.0.1,<3.1.0,>=2.0.0->ipython>=5.5.0->pycaret) (0.2.6)\n",
            "Requirement already satisfied: notebook>=4.4.1 in /usr/local/lib/python3.10/dist-packages (from widgetsnbextension~=3.6.0->ipywidgets>=7.6.5->pycaret) (6.4.8)\n",
            "Requirement already satisfied: platformdirs>=2.5 in /usr/local/lib/python3.10/dist-packages (from jupyter-core->nbformat>=4.2.0->pycaret) (3.9.1)\n",
            "Requirement already satisfied: itsdangerous>=2.0 in /usr/local/lib/python3.10/dist-packages (from Flask<2.3.0,>=1.0.4->dash<3.0.0,>=2.11.0->plotly-resampler>=0.8.3.1->pycaret) (2.1.2)\n",
            "Requirement already satisfied: click>=8.0 in /usr/local/lib/python3.10/dist-packages (from Flask<2.3.0,>=1.0.4->dash<3.0.0,>=2.11.0->plotly-resampler>=0.8.3.1->pycaret) (8.1.6)\n",
            "Requirement already satisfied: pyzmq>=17 in /usr/local/lib/python3.10/dist-packages (from notebook>=4.4.1->widgetsnbextension~=3.6.0->ipywidgets>=7.6.5->pycaret) (23.2.1)\n",
            "Requirement already satisfied: argon2-cffi in /usr/local/lib/python3.10/dist-packages (from notebook>=4.4.1->widgetsnbextension~=3.6.0->ipywidgets>=7.6.5->pycaret) (21.3.0)\n",
            "Requirement already satisfied: nbconvert in /usr/local/lib/python3.10/dist-packages (from notebook>=4.4.1->widgetsnbextension~=3.6.0->ipywidgets>=7.6.5->pycaret) (6.5.4)\n",
            "Requirement already satisfied: Send2Trash>=1.8.0 in /usr/local/lib/python3.10/dist-packages (from notebook>=4.4.1->widgetsnbextension~=3.6.0->ipywidgets>=7.6.5->pycaret) (1.8.2)\n",
            "Requirement already satisfied: terminado>=0.8.3 in /usr/local/lib/python3.10/dist-packages (from notebook>=4.4.1->widgetsnbextension~=3.6.0->ipywidgets>=7.6.5->pycaret) (0.17.1)\n",
            "Requirement already satisfied: prometheus-client in /usr/local/lib/python3.10/dist-packages (from notebook>=4.4.1->widgetsnbextension~=3.6.0->ipywidgets>=7.6.5->pycaret) (0.17.1)\n",
            "Requirement already satisfied: argon2-cffi-bindings in /usr/local/lib/python3.10/dist-packages (from argon2-cffi->notebook>=4.4.1->widgetsnbextension~=3.6.0->ipywidgets>=7.6.5->pycaret) (21.2.0)\n",
            "Requirement already satisfied: lxml in /usr/local/lib/python3.10/dist-packages (from nbconvert->notebook>=4.4.1->widgetsnbextension~=3.6.0->ipywidgets>=7.6.5->pycaret) (4.9.3)\n",
            "Requirement already satisfied: beautifulsoup4 in /usr/local/lib/python3.10/dist-packages (from nbconvert->notebook>=4.4.1->widgetsnbextension~=3.6.0->ipywidgets>=7.6.5->pycaret) (4.11.2)\n",
            "Requirement already satisfied: bleach in /usr/local/lib/python3.10/dist-packages (from nbconvert->notebook>=4.4.1->widgetsnbextension~=3.6.0->ipywidgets>=7.6.5->pycaret) (6.0.0)\n",
            "Requirement already satisfied: defusedxml in /usr/local/lib/python3.10/dist-packages (from nbconvert->notebook>=4.4.1->widgetsnbextension~=3.6.0->ipywidgets>=7.6.5->pycaret) (0.7.1)\n",
            "Requirement already satisfied: entrypoints>=0.2.2 in /usr/local/lib/python3.10/dist-packages (from nbconvert->notebook>=4.4.1->widgetsnbextension~=3.6.0->ipywidgets>=7.6.5->pycaret) (0.4)\n",
            "Requirement already satisfied: jupyterlab-pygments in /usr/local/lib/python3.10/dist-packages (from nbconvert->notebook>=4.4.1->widgetsnbextension~=3.6.0->ipywidgets>=7.6.5->pycaret) (0.2.2)\n",
            "Requirement already satisfied: mistune<2,>=0.8.1 in /usr/local/lib/python3.10/dist-packages (from nbconvert->notebook>=4.4.1->widgetsnbextension~=3.6.0->ipywidgets>=7.6.5->pycaret) (0.8.4)\n",
            "Requirement already satisfied: nbclient>=0.5.0 in /usr/local/lib/python3.10/dist-packages (from nbconvert->notebook>=4.4.1->widgetsnbextension~=3.6.0->ipywidgets>=7.6.5->pycaret) (0.8.0)\n",
            "Requirement already satisfied: pandocfilters>=1.4.1 in /usr/local/lib/python3.10/dist-packages (from nbconvert->notebook>=4.4.1->widgetsnbextension~=3.6.0->ipywidgets>=7.6.5->pycaret) (1.5.0)\n",
            "Requirement already satisfied: tinycss2 in /usr/local/lib/python3.10/dist-packages (from nbconvert->notebook>=4.4.1->widgetsnbextension~=3.6.0->ipywidgets>=7.6.5->pycaret) (1.2.1)\n",
            "Requirement already satisfied: cffi>=1.0.1 in /usr/local/lib/python3.10/dist-packages (from argon2-cffi-bindings->argon2-cffi->notebook>=4.4.1->widgetsnbextension~=3.6.0->ipywidgets>=7.6.5->pycaret) (1.15.1)\n",
            "Requirement already satisfied: soupsieve>1.2 in /usr/local/lib/python3.10/dist-packages (from beautifulsoup4->nbconvert->notebook>=4.4.1->widgetsnbextension~=3.6.0->ipywidgets>=7.6.5->pycaret) (2.4.1)\n",
            "Requirement already satisfied: webencodings in /usr/local/lib/python3.10/dist-packages (from bleach->nbconvert->notebook>=4.4.1->widgetsnbextension~=3.6.0->ipywidgets>=7.6.5->pycaret) (0.5.1)\n",
            "Requirement already satisfied: pycparser in /usr/local/lib/python3.10/dist-packages (from cffi>=1.0.1->argon2-cffi-bindings->argon2-cffi->notebook>=4.4.1->widgetsnbextension~=3.6.0->ipywidgets>=7.6.5->pycaret) (2.21)\n"
          ]
        }
      ]
    },
    {
      "cell_type": "code",
      "execution_count": 7,
      "metadata": {
        "id": "ryEzTVUOtftP"
      },
      "outputs": [],
      "source": [
        "import pandas as pd\n",
        "import numpy as np\n",
        "import datetime as dt\n",
        "\n",
        "import seaborn as sns\n",
        "import matplotlib.pyplot as plt\n",
        "from matplotlib import colors\n",
        "from sklearn.preprocessing import LabelEncoder\n",
        "from sklearn.preprocessing import StandardScaler\n",
        "from sklearn.decomposition import PCA\n",
        "from yellowbrick.cluster import KElbowVisualizer\n",
        "from sklearn.cluster import KMeans\n",
        "from sklearn.metrics import silhouette_score\n"
      ]
    },
    {
      "cell_type": "code",
      "source": [
        "from google.colab import drive\n",
        "drive.mount('/content/drive')"
      ],
      "metadata": {
        "colab": {
          "base_uri": "https://localhost:8080/"
        },
        "id": "T5uJaNEQuKF_",
        "outputId": "05edb954-0773-4ca1-d9a8-203ac7cf08e8"
      },
      "execution_count": 8,
      "outputs": [
        {
          "output_type": "stream",
          "name": "stdout",
          "text": [
            "Drive already mounted at /content/drive; to attempt to forcibly remount, call drive.mount(\"/content/drive\", force_remount=True).\n"
          ]
        }
      ]
    },
    {
      "cell_type": "code",
      "execution_count": 9,
      "metadata": {
        "id": "BBitxaPptftU"
      },
      "outputs": [],
      "source": [
        "path = '/content/drive/MyDrive/Colab Notebooks/MADT/MADT8101/Workshop 2/supermarket.csv'\n",
        "\n"
      ]
    },
    {
      "cell_type": "code",
      "source": [
        "df = pd.read_csv(path)"
      ],
      "metadata": {
        "id": "PGbMR095uck5"
      },
      "execution_count": 10,
      "outputs": []
    },
    {
      "cell_type": "code",
      "source": [
        "df = df.fillna(0)\n"
      ],
      "metadata": {
        "id": "kdjabkpc8_9t"
      },
      "execution_count": 11,
      "outputs": []
    },
    {
      "cell_type": "code",
      "source": [
        "df.info()\n"
      ],
      "metadata": {
        "colab": {
          "base_uri": "https://localhost:8080/"
        },
        "id": "yCXf_eYuuYjd",
        "outputId": "9a1c7751-2fa3-4960-afc6-044f32e6ec8d"
      },
      "execution_count": 12,
      "outputs": [
        {
          "output_type": "stream",
          "name": "stdout",
          "text": [
            "<class 'pandas.core.frame.DataFrame'>\n",
            "RangeIndex: 578082 entries, 0 to 578081\n",
            "Data columns (total 22 columns):\n",
            " #   Column                    Non-Null Count   Dtype  \n",
            "---  ------                    --------------   -----  \n",
            " 0   SHOP_WEEK                 578082 non-null  int64  \n",
            " 1   SHOP_DATE                 578082 non-null  int64  \n",
            " 2   SHOP_WEEKDAY              578082 non-null  int64  \n",
            " 3   SHOP_HOUR                 578082 non-null  int64  \n",
            " 4   QUANTITY                  578082 non-null  int64  \n",
            " 5   SPEND                     578082 non-null  float64\n",
            " 6   PROD_CODE                 578082 non-null  object \n",
            " 7   PROD_CODE_10              578082 non-null  object \n",
            " 8   PROD_CODE_20              578082 non-null  object \n",
            " 9   PROD_CODE_30              578082 non-null  object \n",
            " 10  PROD_CODE_40              578082 non-null  object \n",
            " 11  CUST_CODE                 578082 non-null  object \n",
            " 12  CUST_PRICE_SENSITIVITY    578082 non-null  object \n",
            " 13  CUST_LIFESTAGE            578082 non-null  object \n",
            " 14  BASKET_ID                 578082 non-null  int64  \n",
            " 15  BASKET_SIZE               578082 non-null  object \n",
            " 16  BASKET_PRICE_SENSITIVITY  578082 non-null  object \n",
            " 17  BASKET_TYPE               578082 non-null  object \n",
            " 18  BASKET_DOMINANT_MISSION   578082 non-null  object \n",
            " 19  STORE_CODE                578082 non-null  object \n",
            " 20  STORE_FORMAT              578082 non-null  object \n",
            " 21  STORE_REGION              578082 non-null  object \n",
            "dtypes: float64(1), int64(6), object(15)\n",
            "memory usage: 97.0+ MB\n"
          ]
        }
      ]
    },
    {
      "cell_type": "code",
      "source": [
        "df.describe ()"
      ],
      "metadata": {
        "colab": {
          "base_uri": "https://localhost:8080/",
          "height": 300
        },
        "id": "MZYXvdz7CVIG",
        "outputId": "695c8f98-54eb-4674-87c5-d4dc5d0ddce3"
      },
      "execution_count": 13,
      "outputs": [
        {
          "output_type": "execute_result",
          "data": {
            "text/plain": [
              "           SHOP_WEEK     SHOP_DATE   SHOP_WEEKDAY      SHOP_HOUR  \\\n",
              "count  578082.000000  5.780820e+05  578082.000000  578082.000000   \n",
              "mean   200704.300985  2.006990e+07       3.990647      15.050588   \n",
              "std        65.332750  7.117973e+03       1.996671       3.666903   \n",
              "min    200607.000000  2.006041e+07       1.000000       8.000000   \n",
              "25%    200639.000000  2.006112e+07       2.000000      12.000000   \n",
              "50%    200715.000000  2.007060e+07       4.000000      15.000000   \n",
              "75%    200743.000000  2.007122e+07       6.000000      18.000000   \n",
              "max    200819.000000  2.008071e+07       7.000000      21.000000   \n",
              "\n",
              "            QUANTITY          SPEND     BASKET_ID  \n",
              "count  578082.000000  578082.000000  5.780820e+05  \n",
              "mean        1.531784       1.933858  9.941060e+14  \n",
              "std         1.575491       2.877621  3.290063e+09  \n",
              "min         1.000000       0.010000  9.941001e+14  \n",
              "25%         1.000000       0.770000  9.941033e+14  \n",
              "50%         1.000000       1.240000  9.941061e+14  \n",
              "75%         1.000000       2.110000  9.941089e+14  \n",
              "max       129.000000     476.160000  9.941117e+14  "
            ],
            "text/html": [
              "\n",
              "\n",
              "  <div id=\"df-38b22568-5fd7-4904-a78e-ab8d3da463ad\">\n",
              "    <div class=\"colab-df-container\">\n",
              "      <div>\n",
              "<style scoped>\n",
              "    .dataframe tbody tr th:only-of-type {\n",
              "        vertical-align: middle;\n",
              "    }\n",
              "\n",
              "    .dataframe tbody tr th {\n",
              "        vertical-align: top;\n",
              "    }\n",
              "\n",
              "    .dataframe thead th {\n",
              "        text-align: right;\n",
              "    }\n",
              "</style>\n",
              "<table border=\"1\" class=\"dataframe\">\n",
              "  <thead>\n",
              "    <tr style=\"text-align: right;\">\n",
              "      <th></th>\n",
              "      <th>SHOP_WEEK</th>\n",
              "      <th>SHOP_DATE</th>\n",
              "      <th>SHOP_WEEKDAY</th>\n",
              "      <th>SHOP_HOUR</th>\n",
              "      <th>QUANTITY</th>\n",
              "      <th>SPEND</th>\n",
              "      <th>BASKET_ID</th>\n",
              "    </tr>\n",
              "  </thead>\n",
              "  <tbody>\n",
              "    <tr>\n",
              "      <th>count</th>\n",
              "      <td>578082.000000</td>\n",
              "      <td>5.780820e+05</td>\n",
              "      <td>578082.000000</td>\n",
              "      <td>578082.000000</td>\n",
              "      <td>578082.000000</td>\n",
              "      <td>578082.000000</td>\n",
              "      <td>5.780820e+05</td>\n",
              "    </tr>\n",
              "    <tr>\n",
              "      <th>mean</th>\n",
              "      <td>200704.300985</td>\n",
              "      <td>2.006990e+07</td>\n",
              "      <td>3.990647</td>\n",
              "      <td>15.050588</td>\n",
              "      <td>1.531784</td>\n",
              "      <td>1.933858</td>\n",
              "      <td>9.941060e+14</td>\n",
              "    </tr>\n",
              "    <tr>\n",
              "      <th>std</th>\n",
              "      <td>65.332750</td>\n",
              "      <td>7.117973e+03</td>\n",
              "      <td>1.996671</td>\n",
              "      <td>3.666903</td>\n",
              "      <td>1.575491</td>\n",
              "      <td>2.877621</td>\n",
              "      <td>3.290063e+09</td>\n",
              "    </tr>\n",
              "    <tr>\n",
              "      <th>min</th>\n",
              "      <td>200607.000000</td>\n",
              "      <td>2.006041e+07</td>\n",
              "      <td>1.000000</td>\n",
              "      <td>8.000000</td>\n",
              "      <td>1.000000</td>\n",
              "      <td>0.010000</td>\n",
              "      <td>9.941001e+14</td>\n",
              "    </tr>\n",
              "    <tr>\n",
              "      <th>25%</th>\n",
              "      <td>200639.000000</td>\n",
              "      <td>2.006112e+07</td>\n",
              "      <td>2.000000</td>\n",
              "      <td>12.000000</td>\n",
              "      <td>1.000000</td>\n",
              "      <td>0.770000</td>\n",
              "      <td>9.941033e+14</td>\n",
              "    </tr>\n",
              "    <tr>\n",
              "      <th>50%</th>\n",
              "      <td>200715.000000</td>\n",
              "      <td>2.007060e+07</td>\n",
              "      <td>4.000000</td>\n",
              "      <td>15.000000</td>\n",
              "      <td>1.000000</td>\n",
              "      <td>1.240000</td>\n",
              "      <td>9.941061e+14</td>\n",
              "    </tr>\n",
              "    <tr>\n",
              "      <th>75%</th>\n",
              "      <td>200743.000000</td>\n",
              "      <td>2.007122e+07</td>\n",
              "      <td>6.000000</td>\n",
              "      <td>18.000000</td>\n",
              "      <td>1.000000</td>\n",
              "      <td>2.110000</td>\n",
              "      <td>9.941089e+14</td>\n",
              "    </tr>\n",
              "    <tr>\n",
              "      <th>max</th>\n",
              "      <td>200819.000000</td>\n",
              "      <td>2.008071e+07</td>\n",
              "      <td>7.000000</td>\n",
              "      <td>21.000000</td>\n",
              "      <td>129.000000</td>\n",
              "      <td>476.160000</td>\n",
              "      <td>9.941117e+14</td>\n",
              "    </tr>\n",
              "  </tbody>\n",
              "</table>\n",
              "</div>\n",
              "      <button class=\"colab-df-convert\" onclick=\"convertToInteractive('df-38b22568-5fd7-4904-a78e-ab8d3da463ad')\"\n",
              "              title=\"Convert this dataframe to an interactive table.\"\n",
              "              style=\"display:none;\">\n",
              "\n",
              "  <svg xmlns=\"http://www.w3.org/2000/svg\" height=\"24px\"viewBox=\"0 0 24 24\"\n",
              "       width=\"24px\">\n",
              "    <path d=\"M0 0h24v24H0V0z\" fill=\"none\"/>\n",
              "    <path d=\"M18.56 5.44l.94 2.06.94-2.06 2.06-.94-2.06-.94-.94-2.06-.94 2.06-2.06.94zm-11 1L8.5 8.5l.94-2.06 2.06-.94-2.06-.94L8.5 2.5l-.94 2.06-2.06.94zm10 10l.94 2.06.94-2.06 2.06-.94-2.06-.94-.94-2.06-.94 2.06-2.06.94z\"/><path d=\"M17.41 7.96l-1.37-1.37c-.4-.4-.92-.59-1.43-.59-.52 0-1.04.2-1.43.59L10.3 9.45l-7.72 7.72c-.78.78-.78 2.05 0 2.83L4 21.41c.39.39.9.59 1.41.59.51 0 1.02-.2 1.41-.59l7.78-7.78 2.81-2.81c.8-.78.8-2.07 0-2.86zM5.41 20L4 18.59l7.72-7.72 1.47 1.35L5.41 20z\"/>\n",
              "  </svg>\n",
              "      </button>\n",
              "\n",
              "\n",
              "\n",
              "    <div id=\"df-5629b578-101e-4d54-9cb3-fab077b8d643\">\n",
              "      <button class=\"colab-df-quickchart\" onclick=\"quickchart('df-5629b578-101e-4d54-9cb3-fab077b8d643')\"\n",
              "              title=\"Suggest charts.\"\n",
              "              style=\"display:none;\">\n",
              "\n",
              "<svg xmlns=\"http://www.w3.org/2000/svg\" height=\"24px\"viewBox=\"0 0 24 24\"\n",
              "     width=\"24px\">\n",
              "    <g>\n",
              "        <path d=\"M19 3H5c-1.1 0-2 .9-2 2v14c0 1.1.9 2 2 2h14c1.1 0 2-.9 2-2V5c0-1.1-.9-2-2-2zM9 17H7v-7h2v7zm4 0h-2V7h2v10zm4 0h-2v-4h2v4z\"/>\n",
              "    </g>\n",
              "</svg>\n",
              "      </button>\n",
              "    </div>\n",
              "\n",
              "<style>\n",
              "  .colab-df-quickchart {\n",
              "    background-color: #E8F0FE;\n",
              "    border: none;\n",
              "    border-radius: 50%;\n",
              "    cursor: pointer;\n",
              "    display: none;\n",
              "    fill: #1967D2;\n",
              "    height: 32px;\n",
              "    padding: 0 0 0 0;\n",
              "    width: 32px;\n",
              "  }\n",
              "\n",
              "  .colab-df-quickchart:hover {\n",
              "    background-color: #E2EBFA;\n",
              "    box-shadow: 0px 1px 2px rgba(60, 64, 67, 0.3), 0px 1px 3px 1px rgba(60, 64, 67, 0.15);\n",
              "    fill: #174EA6;\n",
              "  }\n",
              "\n",
              "  [theme=dark] .colab-df-quickchart {\n",
              "    background-color: #3B4455;\n",
              "    fill: #D2E3FC;\n",
              "  }\n",
              "\n",
              "  [theme=dark] .colab-df-quickchart:hover {\n",
              "    background-color: #434B5C;\n",
              "    box-shadow: 0px 1px 3px 1px rgba(0, 0, 0, 0.15);\n",
              "    filter: drop-shadow(0px 1px 2px rgba(0, 0, 0, 0.3));\n",
              "    fill: #FFFFFF;\n",
              "  }\n",
              "</style>\n",
              "\n",
              "    <script>\n",
              "      async function quickchart(key) {\n",
              "        const containerElement = document.querySelector('#' + key);\n",
              "        const charts = await google.colab.kernel.invokeFunction(\n",
              "            'suggestCharts', [key], {});\n",
              "      }\n",
              "    </script>\n",
              "\n",
              "      <script>\n",
              "\n",
              "function displayQuickchartButton(domScope) {\n",
              "  let quickchartButtonEl =\n",
              "    domScope.querySelector('#df-5629b578-101e-4d54-9cb3-fab077b8d643 button.colab-df-quickchart');\n",
              "  quickchartButtonEl.style.display =\n",
              "    google.colab.kernel.accessAllowed ? 'block' : 'none';\n",
              "}\n",
              "\n",
              "        displayQuickchartButton(document);\n",
              "      </script>\n",
              "      <style>\n",
              "    .colab-df-container {\n",
              "      display:flex;\n",
              "      flex-wrap:wrap;\n",
              "      gap: 12px;\n",
              "    }\n",
              "\n",
              "    .colab-df-convert {\n",
              "      background-color: #E8F0FE;\n",
              "      border: none;\n",
              "      border-radius: 50%;\n",
              "      cursor: pointer;\n",
              "      display: none;\n",
              "      fill: #1967D2;\n",
              "      height: 32px;\n",
              "      padding: 0 0 0 0;\n",
              "      width: 32px;\n",
              "    }\n",
              "\n",
              "    .colab-df-convert:hover {\n",
              "      background-color: #E2EBFA;\n",
              "      box-shadow: 0px 1px 2px rgba(60, 64, 67, 0.3), 0px 1px 3px 1px rgba(60, 64, 67, 0.15);\n",
              "      fill: #174EA6;\n",
              "    }\n",
              "\n",
              "    [theme=dark] .colab-df-convert {\n",
              "      background-color: #3B4455;\n",
              "      fill: #D2E3FC;\n",
              "    }\n",
              "\n",
              "    [theme=dark] .colab-df-convert:hover {\n",
              "      background-color: #434B5C;\n",
              "      box-shadow: 0px 1px 3px 1px rgba(0, 0, 0, 0.15);\n",
              "      filter: drop-shadow(0px 1px 2px rgba(0, 0, 0, 0.3));\n",
              "      fill: #FFFFFF;\n",
              "    }\n",
              "  </style>\n",
              "\n",
              "      <script>\n",
              "        const buttonEl =\n",
              "          document.querySelector('#df-38b22568-5fd7-4904-a78e-ab8d3da463ad button.colab-df-convert');\n",
              "        buttonEl.style.display =\n",
              "          google.colab.kernel.accessAllowed ? 'block' : 'none';\n",
              "\n",
              "        async function convertToInteractive(key) {\n",
              "          const element = document.querySelector('#df-38b22568-5fd7-4904-a78e-ab8d3da463ad');\n",
              "          const dataTable =\n",
              "            await google.colab.kernel.invokeFunction('convertToInteractive',\n",
              "                                                     [key], {});\n",
              "          if (!dataTable) return;\n",
              "\n",
              "          const docLinkHtml = 'Like what you see? Visit the ' +\n",
              "            '<a target=\"_blank\" href=https://colab.research.google.com/notebooks/data_table.ipynb>data table notebook</a>'\n",
              "            + ' to learn more about interactive tables.';\n",
              "          element.innerHTML = '';\n",
              "          dataTable['output_type'] = 'display_data';\n",
              "          await google.colab.output.renderOutput(dataTable, element);\n",
              "          const docLink = document.createElement('div');\n",
              "          docLink.innerHTML = docLinkHtml;\n",
              "          element.appendChild(docLink);\n",
              "        }\n",
              "      </script>\n",
              "    </div>\n",
              "  </div>\n"
            ]
          },
          "metadata": {},
          "execution_count": 13
        }
      ]
    },
    {
      "cell_type": "markdown",
      "source": [
        "EDA"
      ],
      "metadata": {
        "id": "aMnjfDPYFB7G"
      }
    },
    {
      "cell_type": "code",
      "source": [
        "# Calculate the distinct count of basket_id\n",
        "distinct_count_basket_id = df['BASKET_ID'].nunique()\n",
        "\n",
        "# Display the result\n",
        "print(\"Distinct count of BASKET_ID:\", distinct_count_basket_id)\n"
      ],
      "metadata": {
        "colab": {
          "base_uri": "https://localhost:8080/"
        },
        "id": "x1X1cQTvGAMP",
        "outputId": "9cf79686-5e62-4144-df11-ea42f04af157"
      },
      "execution_count": 14,
      "outputs": [
        {
          "output_type": "stream",
          "name": "stdout",
          "text": [
            "Distinct count of BASKET_ID: 77234\n"
          ]
        }
      ]
    },
    {
      "cell_type": "code",
      "source": [
        "# Drop the rows with Customer_code = 0\n",
        "df = df[df['CUST_CODE'] != 0]\n",
        "\n",
        "# Group by 'user' and calculate the sum of 'spend' for each user\n",
        "spend_sum_by_user = df.groupby('CUST_CODE', as_index=False)['SPEND'].sum()\n",
        "print (spend_sum_by_user)"
      ],
      "metadata": {
        "id": "HPfABZ82GXqK",
        "colab": {
          "base_uri": "https://localhost:8080/"
        },
        "outputId": "cccd5f1d-7c80-43d9-9ef0-2dcd941f671c"
      },
      "execution_count": 15,
      "outputs": [
        {
          "output_type": "stream",
          "name": "stdout",
          "text": [
            "           CUST_CODE    SPEND\n",
            "0     CUST0000000181     2.44\n",
            "1     CUST0000000689   328.57\n",
            "2     CUST0000000998     5.95\n",
            "3     CUST0000001163    39.74\n",
            "4     CUST0000001194  2493.83\n",
            "...              ...      ...\n",
            "3434  CUST0000999439    43.60\n",
            "3435  CUST0000999544     6.32\n",
            "3436  CUST0000999593   453.58\n",
            "3437  CUST0000999935   444.17\n",
            "3438  CUST0000999936    17.67\n",
            "\n",
            "[3439 rows x 2 columns]\n"
          ]
        }
      ]
    },
    {
      "cell_type": "code",
      "source": [
        "# Calculate the ARPU and create a new column 'ARPU' in the DataFrame\n",
        "spend_sum_by_user['ARPU'] = spend_sum_by_user['SPEND'] / distinct_count_basket_id\n",
        "\n",
        "# Merge spend_sum_by_user DataFrame back into the original DataFrame using 'CUST_CODE' as the key\n",
        "df = df.merge(spend_sum_by_user[['CUST_CODE', 'ARPU']], on='CUST_CODE', how='left')\n",
        "\n",
        "# Display the updated DataFrame\n",
        "print(df)"
      ],
      "metadata": {
        "colab": {
          "base_uri": "https://localhost:8080/"
        },
        "id": "MVuAl9qBGg1c",
        "outputId": "d3dc530f-6a12-4351-e790-107c88b4a45c"
      },
      "execution_count": 16,
      "outputs": [
        {
          "output_type": "stream",
          "name": "stdout",
          "text": [
            "        SHOP_WEEK  SHOP_DATE  SHOP_WEEKDAY  SHOP_HOUR  QUANTITY  SPEND  \\\n",
            "0          200734   20071019             6          8         1   9.50   \n",
            "1          200805   20080328             6         21         1   1.49   \n",
            "2          200815   20080605             5         15         1   0.70   \n",
            "3          200642   20061213             4         15         1   2.04   \n",
            "4          200720   20070713             6         17         1   2.19   \n",
            "...           ...        ...           ...        ...       ...    ...   \n",
            "492489     200738   20071116             6         12         1   0.01   \n",
            "492490     200716   20070612             3         12         1  13.76   \n",
            "492491     200637   20061109             5         16         1   4.47   \n",
            "492492     200717   20070624             1         10         1   4.92   \n",
            "492493     200744   20071229             7         14         1   9.27   \n",
            "\n",
            "         PROD_CODE PROD_CODE_10 PROD_CODE_20 PROD_CODE_30  ... CUST_LIFESTAGE  \\\n",
            "0       PRD0901335      CL00058     DEP00016       G00006  ...             OT   \n",
            "1       PRD0901120      CL00162     DEP00055       G00016  ...              0   \n",
            "2       PRD0904509      CL00093     DEP00028       G00008  ...             OF   \n",
            "3       PRD0904730      CL00214     DEP00071       G00022  ...             OF   \n",
            "4       PRD0900777      CL00098     DEP00031       G00008  ...             OA   \n",
            "...            ...          ...          ...          ...  ...            ...   \n",
            "492489  PRD0903678      CL00222     DEP00076       G00023  ...              0   \n",
            "492490  PRD0902312      CL00230     DEP00081       G00027  ...             OA   \n",
            "492491  PRD0900396      CL00229     DEP00081       G00027  ...              0   \n",
            "492492  PRD0903065      CL00229     DEP00081       G00027  ...             YF   \n",
            "492493  PRD0901923      CL00229     DEP00081       G00027  ...              0   \n",
            "\n",
            "              BASKET_ID BASKET_SIZE BASKET_PRICE_SENSITIVITY  BASKET_TYPE  \\\n",
            "0       994108000679877           M                       MM   Small Shop   \n",
            "1       994110300629787           S                       MM   Small Shop   \n",
            "2       994111300258138           L                       LA       Top Up   \n",
            "3       994103600221562           L                       LA    Full Shop   \n",
            "4       994106600615672           L                       MM    Full Shop   \n",
            "...                 ...         ...                      ...          ...   \n",
            "492489  994108400460274           S                       MM   Small Shop   \n",
            "492490  994106200802520           L                       UM       Top Up   \n",
            "492491  994103100229855           L                       MM    Full Shop   \n",
            "492492  994106300437841           L                       MM    Full Shop   \n",
            "492493  994109000359411           L                       MM       Top Up   \n",
            "\n",
            "       BASKET_DOMINANT_MISSION  STORE_CODE STORE_FORMAT STORE_REGION      ARPU  \n",
            "0                        Fresh  STORE00001           LS          E02  0.000262  \n",
            "1                        Fresh  STORE00001           LS          E02  0.000159  \n",
            "2                      Grocery  STORE00001           LS          E02  0.033421  \n",
            "3                        Fresh  STORE00001           LS          E02  0.063109  \n",
            "4                        Mixed  STORE00001           LS          E02  0.025945  \n",
            "...                        ...         ...          ...          ...       ...  \n",
            "492489                 Grocery  STORE00001           LS          E02  0.012972  \n",
            "492490                   Fresh  STORE00001           LS          E02  0.045800  \n",
            "492491                   Mixed  STORE00001           LS          E02  0.005798  \n",
            "492492                   Mixed  STORE00001           LS          E02  0.045203  \n",
            "492493                   Mixed  STORE00001           LS          E02  0.005677  \n",
            "\n",
            "[492494 rows x 23 columns]\n"
          ]
        }
      ]
    },
    {
      "cell_type": "code",
      "source": [
        "# Compute average spending per customer\n",
        "average_spending = df.groupby('CUST_CODE')['SPEND'].mean().reset_index()\n",
        "average_spending.rename(columns={'SPEND': 'average_spending'}, inplace=True)\n",
        "\n",
        "# Merge the 'average_spending' column with the original DataFrame 'df'\n",
        "df = df.merge(average_spending, on='CUST_CODE', how='left')\n",
        "\n"
      ],
      "metadata": {
        "id": "ynqmCdARbzjf"
      },
      "execution_count": 17,
      "outputs": []
    },
    {
      "cell_type": "code",
      "source": [
        "# Compute number of purchases per customer\n",
        "purchase_count = df.groupby('CUST_CODE')['BASKET_ID'].nunique().reset_index()\n",
        "purchase_count.rename(columns={'BASKET_ID': 'purchase_count'}, inplace=True)\n",
        "\n",
        "# Merge the 'purchase_count' column with the original DataFrame 'df'\n",
        "df = df.merge(purchase_count, on='CUST_CODE', how='left')\n",
        "\n"
      ],
      "metadata": {
        "id": "_u2aGat_bb_f"
      },
      "execution_count": 18,
      "outputs": []
    },
    {
      "cell_type": "code",
      "source": [
        "# Compute visit frequency per customer\n",
        "visit_frequency = df.groupby('CUST_CODE')['BASKET_ID'].count().reset_index()\n",
        "visit_frequency.rename(columns={'BASKET_ID': 'visit_frequency'}, inplace=True)\n",
        "\n",
        "\n",
        "# Merge the 'visit_frequency' column with the original DataFrame 'df'\n",
        "df = df.merge(visit_frequency, on='CUST_CODE', how='left')\n"
      ],
      "metadata": {
        "id": "HdOH-_3Na4oD"
      },
      "execution_count": 19,
      "outputs": []
    },
    {
      "cell_type": "code",
      "source": [
        "# Display the updated DataFrame\n",
        "print(df)"
      ],
      "metadata": {
        "colab": {
          "base_uri": "https://localhost:8080/"
        },
        "id": "9qj8N8QZOrUV",
        "outputId": "5d479e97-a9ad-4bbc-98f8-f8d3483241ce"
      },
      "execution_count": 20,
      "outputs": [
        {
          "output_type": "stream",
          "name": "stdout",
          "text": [
            "        SHOP_WEEK  SHOP_DATE  SHOP_WEEKDAY  SHOP_HOUR  QUANTITY  SPEND  \\\n",
            "0          200734   20071019             6          8         1   9.50   \n",
            "1          200805   20080328             6         21         1   1.49   \n",
            "2          200815   20080605             5         15         1   0.70   \n",
            "3          200642   20061213             4         15         1   2.04   \n",
            "4          200720   20070713             6         17         1   2.19   \n",
            "...           ...        ...           ...        ...       ...    ...   \n",
            "492489     200738   20071116             6         12         1   0.01   \n",
            "492490     200716   20070612             3         12         1  13.76   \n",
            "492491     200637   20061109             5         16         1   4.47   \n",
            "492492     200717   20070624             1         10         1   4.92   \n",
            "492493     200744   20071229             7         14         1   9.27   \n",
            "\n",
            "         PROD_CODE PROD_CODE_10 PROD_CODE_20 PROD_CODE_30  ...  \\\n",
            "0       PRD0901335      CL00058     DEP00016       G00006  ...   \n",
            "1       PRD0901120      CL00162     DEP00055       G00016  ...   \n",
            "2       PRD0904509      CL00093     DEP00028       G00008  ...   \n",
            "3       PRD0904730      CL00214     DEP00071       G00022  ...   \n",
            "4       PRD0900777      CL00098     DEP00031       G00008  ...   \n",
            "...            ...          ...          ...          ...  ...   \n",
            "492489  PRD0903678      CL00222     DEP00076       G00023  ...   \n",
            "492490  PRD0902312      CL00230     DEP00081       G00027  ...   \n",
            "492491  PRD0900396      CL00229     DEP00081       G00027  ...   \n",
            "492492  PRD0903065      CL00229     DEP00081       G00027  ...   \n",
            "492493  PRD0901923      CL00229     DEP00081       G00027  ...   \n",
            "\n",
            "       BASKET_PRICE_SENSITIVITY BASKET_TYPE BASKET_DOMINANT_MISSION  \\\n",
            "0                            MM  Small Shop                   Fresh   \n",
            "1                            MM  Small Shop                   Fresh   \n",
            "2                            LA      Top Up                 Grocery   \n",
            "3                            LA   Full Shop                   Fresh   \n",
            "4                            MM   Full Shop                   Mixed   \n",
            "...                         ...         ...                     ...   \n",
            "492489                       MM  Small Shop                 Grocery   \n",
            "492490                       UM      Top Up                   Fresh   \n",
            "492491                       MM   Full Shop                   Mixed   \n",
            "492492                       MM   Full Shop                   Mixed   \n",
            "492493                       MM      Top Up                   Mixed   \n",
            "\n",
            "        STORE_CODE  STORE_FORMAT STORE_REGION      ARPU average_spending  \\\n",
            "0       STORE00001            LS          E02  0.000262         3.371667   \n",
            "1       STORE00001            LS          E02  0.000159         3.075000   \n",
            "2       STORE00001            LS          E02  0.033421         1.426888   \n",
            "3       STORE00001            LS          E02  0.063109         1.714450   \n",
            "4       STORE00001            LS          E02  0.025945         1.600511   \n",
            "...            ...           ...          ...       ...              ...   \n",
            "492489  STORE00001            LS          E02  0.012972         2.065670   \n",
            "492490  STORE00001            LS          E02  0.045800         2.610576   \n",
            "492491  STORE00001            LS          E02  0.005798         1.784024   \n",
            "492492  STORE00001            LS          E02  0.045203         1.963571   \n",
            "492493  STORE00001            LS          E02  0.005677         2.463427   \n",
            "\n",
            "       purchase_count visit_frequency  \n",
            "0                   1               6  \n",
            "1                   2               4  \n",
            "2                 263            1809  \n",
            "3                 284            2843  \n",
            "4                  93            1252  \n",
            "...               ...             ...  \n",
            "492489             69             485  \n",
            "492490            216            1355  \n",
            "492491             19             251  \n",
            "492492             64            1778  \n",
            "492493             39             178  \n",
            "\n",
            "[492494 rows x 26 columns]\n"
          ]
        }
      ]
    },
    {
      "cell_type": "markdown",
      "source": [
        "Delete unnecessary features"
      ],
      "metadata": {
        "id": "wD_CvTCkw5H3"
      }
    },
    {
      "cell_type": "code",
      "source": [
        "\n",
        "# Define the columns to be deleted\n",
        "columns_to_delete = ['SHOP_WEEK', 'SHOP_WEEKDAY', 'SHOP_HOUR','PROD_CODE_10','PROD_CODE_20','PROD_CODE_30',\n",
        "                     'PROD_CODE_40','CUST_PRICE_SENSITIVITY','CUST_LIFESTAGE','BASKET_SIZE','BASKET_PRICE_SENSITIVITY',\n",
        "                     'BASKET_TYPE','STORE_CODE','STORE_FORMAT','STORE_REGION']\n",
        "\n",
        "\n",
        "\n",
        "# Drop the specified columns\n",
        "df = df.drop(columns=columns_to_delete)\n",
        "\n"
      ],
      "metadata": {
        "id": "_ILTSzzYwxXF"
      },
      "execution_count": 21,
      "outputs": []
    },
    {
      "cell_type": "code",
      "source": [
        "columns_to_delete2 = ['BASKET_ID']\n",
        "\n",
        "# Drop the specified columns2\n",
        "df_new = df.drop(columns=columns_to_delete2)"
      ],
      "metadata": {
        "id": "SCUkDL8hj5Oq"
      },
      "execution_count": 22,
      "outputs": []
    },
    {
      "cell_type": "code",
      "source": [
        "\n",
        "# Verify the resulting DataFrame\n",
        "print(df)"
      ],
      "metadata": {
        "colab": {
          "base_uri": "https://localhost:8080/"
        },
        "id": "UNfyzExixseP",
        "outputId": "cc9f1381-b094-4d81-e1e8-49393e5b4902"
      },
      "execution_count": 23,
      "outputs": [
        {
          "output_type": "stream",
          "name": "stdout",
          "text": [
            "        SHOP_DATE  QUANTITY  SPEND   PROD_CODE       CUST_CODE  \\\n",
            "0        20071019         1   9.50  PRD0901335  CUST0000804514   \n",
            "1        20080328         1   1.49  PRD0901120  CUST0000735558   \n",
            "2        20080605         1   0.70  PRD0904509  CUST0000138092   \n",
            "3        20061213         1   2.04  PRD0904730  CUST0000099658   \n",
            "4        20070713         1   2.19  PRD0900777  CUST0000673735   \n",
            "...           ...       ...    ...         ...             ...   \n",
            "492489   20071116         1   0.01  PRD0903678  CUST0000451458   \n",
            "492490   20070612         1  13.76  PRD0902312  CUST0000957158   \n",
            "492491   20061109         1   4.47  PRD0900396  CUST0000111024   \n",
            "492492   20070624         1   4.92  PRD0903065  CUST0000412413   \n",
            "492493   20071229         1   9.27  PRD0901923  CUST0000509062   \n",
            "\n",
            "              BASKET_ID BASKET_DOMINANT_MISSION      ARPU  average_spending  \\\n",
            "0       994108000679877                   Fresh  0.000262          3.371667   \n",
            "1       994110300629787                   Fresh  0.000159          3.075000   \n",
            "2       994111300258138                 Grocery  0.033421          1.426888   \n",
            "3       994103600221562                   Fresh  0.063109          1.714450   \n",
            "4       994106600615672                   Mixed  0.025945          1.600511   \n",
            "...                 ...                     ...       ...               ...   \n",
            "492489  994108400460274                 Grocery  0.012972          2.065670   \n",
            "492490  994106200802520                   Fresh  0.045800          2.610576   \n",
            "492491  994103100229855                   Mixed  0.005798          1.784024   \n",
            "492492  994106300437841                   Mixed  0.045203          1.963571   \n",
            "492493  994109000359411                   Mixed  0.005677          2.463427   \n",
            "\n",
            "        purchase_count  visit_frequency  \n",
            "0                    1                6  \n",
            "1                    2                4  \n",
            "2                  263             1809  \n",
            "3                  284             2843  \n",
            "4                   93             1252  \n",
            "...                ...              ...  \n",
            "492489              69              485  \n",
            "492490             216             1355  \n",
            "492491              19              251  \n",
            "492492              64             1778  \n",
            "492493              39              178  \n",
            "\n",
            "[492494 rows x 11 columns]\n"
          ]
        }
      ]
    },
    {
      "cell_type": "code",
      "source": [
        "\n",
        "# Drop rows where 'CUST_CODE' is null\n",
        "df = df.dropna(subset=['CUST_CODE'])\n",
        "df = df.dropna(subset=['ARPU'])"
      ],
      "metadata": {
        "id": "27-FstsFhSyK"
      },
      "execution_count": 24,
      "outputs": []
    },
    {
      "cell_type": "code",
      "source": [
        "\n",
        "# Check for null values in each column\n",
        "null_counts = df.isnull().sum()\n",
        "\n",
        "# Display the null counts for each column\n",
        "print(null_counts)"
      ],
      "metadata": {
        "colab": {
          "base_uri": "https://localhost:8080/"
        },
        "id": "GrttrCN9xZdC",
        "outputId": "84df458d-d9e0-4dce-a370-bc4a9480cb96"
      },
      "execution_count": 25,
      "outputs": [
        {
          "output_type": "stream",
          "name": "stdout",
          "text": [
            "SHOP_DATE                  0\n",
            "QUANTITY                   0\n",
            "SPEND                      0\n",
            "PROD_CODE                  0\n",
            "CUST_CODE                  0\n",
            "BASKET_ID                  0\n",
            "BASKET_DOMINANT_MISSION    0\n",
            "ARPU                       0\n",
            "average_spending           0\n",
            "purchase_count             0\n",
            "visit_frequency            0\n",
            "dtype: int64\n"
          ]
        }
      ]
    },
    {
      "cell_type": "markdown",
      "source": [
        "Model"
      ],
      "metadata": {
        "id": "DxerNve58t9-"
      }
    },
    {
      "cell_type": "code",
      "source": [],
      "metadata": {
        "id": "h_PDm9k18elK"
      },
      "execution_count": 25,
      "outputs": []
    },
    {
      "cell_type": "markdown",
      "source": [],
      "metadata": {
        "id": "wBcmbGTC8xC9"
      }
    },
    {
      "cell_type": "code",
      "source": [
        "# Select the columns for clustering\n",
        "cluster_cols = ['ARPU', 'average_spending', 'purchase_count', 'visit_frequency']\n",
        "\n",
        "# Create a subset of the dataset with the selected columns\n",
        "df_cluster = df_new[cluster_cols]\n",
        "\n",
        "# Perform K-means clustering with different numbers of clusters\n",
        "wcss = []\n",
        "max_clusters = 10  # Maximum number of clusters to try\n",
        "\n",
        "for n_clusters in range(1, max_clusters + 1):\n",
        "    kmeans = KMeans(n_clusters=n_clusters)\n",
        "    kmeans.fit(df_cluster)\n",
        "    wcss.append(kmeans.inertia_)\n",
        "\n",
        "# Plot the within-cluster sum of squares (WCSS) against the number of clusters\n",
        "plt.plot(range(1, max_clusters + 1), wcss)\n",
        "plt.xlabel('Number of Clusters')\n",
        "plt.ylabel('WCSS')\n",
        "plt.title('Elbow Method')\n",
        "plt.show()"
      ],
      "metadata": {
        "id": "UdkK-6z43lg6",
        "colab": {
          "base_uri": "https://localhost:8080/",
          "height": 890
        },
        "outputId": "0695e8fe-53f2-4bab-bb43-e4801684731b"
      },
      "execution_count": 26,
      "outputs": [
        {
          "output_type": "stream",
          "name": "stderr",
          "text": [
            "/usr/local/lib/python3.10/dist-packages/sklearn/cluster/_kmeans.py:870: FutureWarning: The default value of `n_init` will change from 10 to 'auto' in 1.4. Set the value of `n_init` explicitly to suppress the warning\n",
            "  warnings.warn(\n",
            "/usr/local/lib/python3.10/dist-packages/sklearn/cluster/_kmeans.py:870: FutureWarning: The default value of `n_init` will change from 10 to 'auto' in 1.4. Set the value of `n_init` explicitly to suppress the warning\n",
            "  warnings.warn(\n",
            "/usr/local/lib/python3.10/dist-packages/sklearn/cluster/_kmeans.py:870: FutureWarning: The default value of `n_init` will change from 10 to 'auto' in 1.4. Set the value of `n_init` explicitly to suppress the warning\n",
            "  warnings.warn(\n",
            "/usr/local/lib/python3.10/dist-packages/sklearn/cluster/_kmeans.py:870: FutureWarning: The default value of `n_init` will change from 10 to 'auto' in 1.4. Set the value of `n_init` explicitly to suppress the warning\n",
            "  warnings.warn(\n",
            "/usr/local/lib/python3.10/dist-packages/sklearn/cluster/_kmeans.py:870: FutureWarning: The default value of `n_init` will change from 10 to 'auto' in 1.4. Set the value of `n_init` explicitly to suppress the warning\n",
            "  warnings.warn(\n",
            "/usr/local/lib/python3.10/dist-packages/sklearn/cluster/_kmeans.py:870: FutureWarning: The default value of `n_init` will change from 10 to 'auto' in 1.4. Set the value of `n_init` explicitly to suppress the warning\n",
            "  warnings.warn(\n",
            "/usr/local/lib/python3.10/dist-packages/sklearn/cluster/_kmeans.py:870: FutureWarning: The default value of `n_init` will change from 10 to 'auto' in 1.4. Set the value of `n_init` explicitly to suppress the warning\n",
            "  warnings.warn(\n",
            "/usr/local/lib/python3.10/dist-packages/sklearn/cluster/_kmeans.py:870: FutureWarning: The default value of `n_init` will change from 10 to 'auto' in 1.4. Set the value of `n_init` explicitly to suppress the warning\n",
            "  warnings.warn(\n",
            "/usr/local/lib/python3.10/dist-packages/sklearn/cluster/_kmeans.py:870: FutureWarning: The default value of `n_init` will change from 10 to 'auto' in 1.4. Set the value of `n_init` explicitly to suppress the warning\n",
            "  warnings.warn(\n",
            "/usr/local/lib/python3.10/dist-packages/sklearn/cluster/_kmeans.py:870: FutureWarning: The default value of `n_init` will change from 10 to 'auto' in 1.4. Set the value of `n_init` explicitly to suppress the warning\n",
            "  warnings.warn(\n"
          ]
        },
        {
          "output_type": "display_data",
          "data": {
            "text/plain": [
              "<Figure size 800x550 with 1 Axes>"
            ],
            "image/png": "[encoded data removed]"
          },
          "metadata": {}
        }
      ]
    },
    {
      "cell_type": "code",
      "source": [
        "# Select the columns for clustering\n",
        "cluster_cols = ['ARPU', 'average_spending', 'purchase_count', 'visit_frequency']\n",
        "\n",
        "# Create a subset of the dataset with the selected columns\n",
        "df_cluster = df_new[cluster_cols]\n",
        "\n",
        "# Perform K-means clustering with the optimal number of clusters\n",
        "k = 4  # Number of clusters\n",
        "kmeans = KMeans(n_clusters=k)\n",
        "kmeans.fit(df_cluster)\n",
        "\n",
        "# Add the cluster labels to the dataset\n",
        "df_new['cluster'] = kmeans.labels_\n",
        "\n",
        "# Plot the clusters\n",
        "plt.scatter(df_new['ARPU'], df_new['purchase_count'], c=df_new['cluster'], cmap='viridis')\n",
        "plt.xlabel('ARPU')\n",
        "plt.ylabel('Purchase Count')\n",
        "plt.title('K-means Clustering')\n",
        "plt.show()"
      ],
      "metadata": {
        "colab": {
          "base_uri": "https://localhost:8080/",
          "height": 578
        },
        "id": "xB4Ae8lk2haX",
        "outputId": "994b9244-7bad-45be-ab59-e1e60891eab8"
      },
      "execution_count": 27,
      "outputs": [
        {
          "output_type": "stream",
          "name": "stderr",
          "text": [
            "/usr/local/lib/python3.10/dist-packages/sklearn/cluster/_kmeans.py:870: FutureWarning: The default value of `n_init` will change from 10 to 'auto' in 1.4. Set the value of `n_init` explicitly to suppress the warning\n",
            "  warnings.warn(\n"
          ]
        },
        {
          "output_type": "display_data",
          "data": {
            "text/plain": [
              "<Figure size 800x550 with 1 Axes>"
            ],
            "image/png": "[encoded data removed]"
          },
          "metadata": {}
        }
      ]
    },
    {
      "cell_type": "code",
      "source": [
        "print (df_new)"
      ],
      "metadata": {
        "colab": {
          "base_uri": "https://localhost:8080/"
        },
        "id": "G1QmytHVs0gf",
        "outputId": "e9cbf863-93ba-4017-ede2-3480f7851b83"
      },
      "execution_count": 28,
      "outputs": [
        {
          "output_type": "stream",
          "name": "stdout",
          "text": [
            "        SHOP_DATE  QUANTITY  SPEND   PROD_CODE       CUST_CODE  \\\n",
            "0        20071019         1   9.50  PRD0901335  CUST0000804514   \n",
            "1        20080328         1   1.49  PRD0901120  CUST0000735558   \n",
            "2        20080605         1   0.70  PRD0904509  CUST0000138092   \n",
            "3        20061213         1   2.04  PRD0904730  CUST0000099658   \n",
            "4        20070713         1   2.19  PRD0900777  CUST0000673735   \n",
            "...           ...       ...    ...         ...             ...   \n",
            "492489   20071116         1   0.01  PRD0903678  CUST0000451458   \n",
            "492490   20070612         1  13.76  PRD0902312  CUST0000957158   \n",
            "492491   20061109         1   4.47  PRD0900396  CUST0000111024   \n",
            "492492   20070624         1   4.92  PRD0903065  CUST0000412413   \n",
            "492493   20071229         1   9.27  PRD0901923  CUST0000509062   \n",
            "\n",
            "       BASKET_DOMINANT_MISSION      ARPU  average_spending  purchase_count  \\\n",
            "0                        Fresh  0.000262          3.371667               1   \n",
            "1                        Fresh  0.000159          3.075000               2   \n",
            "2                      Grocery  0.033421          1.426888             263   \n",
            "3                        Fresh  0.063109          1.714450             284   \n",
            "4                        Mixed  0.025945          1.600511              93   \n",
            "...                        ...       ...               ...             ...   \n",
            "492489                 Grocery  0.012972          2.065670              69   \n",
            "492490                   Fresh  0.045800          2.610576             216   \n",
            "492491                   Mixed  0.005798          1.784024              19   \n",
            "492492                   Mixed  0.045203          1.963571              64   \n",
            "492493                   Mixed  0.005677          2.463427              39   \n",
            "\n",
            "        visit_frequency  cluster  \n",
            "0                     6        0  \n",
            "1                     4        0  \n",
            "2                  1809        1  \n",
            "3                  2843        2  \n",
            "4                  1252        3  \n",
            "...                 ...      ...  \n",
            "492489              485        0  \n",
            "492490             1355        3  \n",
            "492491              251        0  \n",
            "492492             1778        1  \n",
            "492493              178        0  \n",
            "\n",
            "[492494 rows x 11 columns]\n"
          ]
        }
      ]
    },
    {
      "cell_type": "code",
      "source": [
        "\n",
        "# Define the columns for which you want to calculate the statistics\n",
        "columns_of_interest = ['ARPU', 'purchase_count','visit_frequency']\n",
        "\n",
        "# Calculate the mean, minimum, and maximum values for the specified columns in each cluster\n",
        "cluster_stats = df_new.groupby('cluster')[columns_of_interest].agg(['mean', 'min', 'max'])\n",
        "cluster_stats_mean = df_new.groupby('cluster')[columns_of_interest].agg(['mean'])\n",
        "\n",
        "# Display the cluster statistics\n",
        "cluster_stats = cluster_stats.round(0)\n",
        "cluster_stats_mean = cluster_stats_mean.round(0)\n",
        "print(cluster_stats)\n",
        "\n",
        "# Calculate the mean values for each variable within each cluster\n",
        "cluster_profiles = df_new.groupby('cluster').mean()\n",
        "\n",
        "print('_______________________________________________________________________')\n",
        "\n",
        "# Filter the cluster profiles to include only integer columns\n",
        "cluster_profiles = cluster_profiles.round(1)\n",
        "\n",
        "# Display the integer cluster profiles\n",
        "print(cluster_profiles)\n"
      ],
      "metadata": {
        "colab": {
          "base_uri": "https://localhost:8080/"
        },
        "id": "dZQfpf7BlRP2",
        "outputId": "3b233b70-4ce8-4b44-e630-22c1447afa8f"
      },
      "execution_count": 29,
      "outputs": [
        {
          "output_type": "stream",
          "name": "stdout",
          "text": [
            "        ARPU           purchase_count           visit_frequency            \n",
            "        mean  min  max           mean  min  max            mean   min   max\n",
            "cluster                                                                    \n",
            "0        0.0  0.0  0.0           37.0    1  228           252.0     1   633\n",
            "1        0.0  0.0  0.0          185.0   64  392          1792.0  1414  2254\n",
            "2        0.0  0.0  0.0          314.0  131  624          2788.0  2352  3453\n",
            "3        0.0  0.0  0.0          113.0   30  417          1012.0   622  1398\n",
            "_______________________________________________________________________\n",
            "          SHOP_DATE  QUANTITY  SPEND  ARPU  average_spending  purchase_count  \\\n",
            "cluster                                                                        \n",
            "0        20069781.7       1.5    2.0   0.0               2.0            37.0   \n",
            "1        20069777.8       1.6    1.9   0.0               1.9           184.5   \n",
            "2        20069992.8       1.5    1.8   0.1               1.8           313.8   \n",
            "3        20070050.5       1.5    1.9   0.0               1.9           113.4   \n",
            "\n",
            "         visit_frequency  \n",
            "cluster                   \n",
            "0                  252.5  \n",
            "1                 1792.4  \n",
            "2                 2788.2  \n",
            "3                 1011.6  \n"
          ]
        },
        {
          "output_type": "stream",
          "name": "stderr",
          "text": [
            "<ipython-input-29-d517d5925fb4>:14: FutureWarning: The default value of numeric_only in DataFrameGroupBy.mean is deprecated. In a future version, numeric_only will default to False. Either specify numeric_only or select only columns which should be valid for the function.\n",
            "  cluster_profiles = df_new.groupby('cluster').mean()\n"
          ]
        }
      ]
    },
    {
      "cell_type": "code",
      "source": [
        "\n",
        "\n",
        "# Create box plots for each column in each cluster\n",
        "for column in columns_of_interest:\n",
        "    plt.figure(figsize=(4, 3))\n",
        "    sns.boxplot(x='cluster', y=column, data=df_new)\n",
        "    plt.title(f'Box Plot of {column} by cluster')\n",
        "    plt.xlabel('cluster')\n",
        "    plt.ylabel(column)\n",
        "    plt.show()\n",
        "    print(cluster_stats_mean)"
      ],
      "metadata": {
        "colab": {
          "base_uri": "https://localhost:8080/",
          "height": 1000
        },
        "id": "m8AS6naElgW_",
        "outputId": "3cdfe724-cb85-4023-d747-8876044904f5"
      },
      "execution_count": 30,
      "outputs": [
        {
          "output_type": "display_data",
          "data": {
            "text/plain": [
              "<Figure size 400x300 with 1 Axes>"
            ],
            "image/png": "[encoded data removed]"
          },
          "metadata": {}
        },
        {
          "output_type": "stream",
          "name": "stdout",
          "text": [
            "        ARPU purchase_count visit_frequency\n",
            "        mean           mean            mean\n",
            "cluster                                    \n",
            "0        0.0           37.0           252.0\n",
            "1        0.0          185.0          1792.0\n",
            "2        0.0          314.0          2788.0\n",
            "3        0.0          113.0          1012.0\n"
          ]
        },
        {
          "output_type": "display_data",
          "data": {
            "text/plain": [
              "<Figure size 400x300 with 1 Axes>"
            ],
            "image/png": "[encoded data removed]"
          },
          "metadata": {}
        },
        {
          "output_type": "stream",
          "name": "stdout",
          "text": [
            "        ARPU purchase_count visit_frequency\n",
            "        mean           mean            mean\n",
            "cluster                                    \n",
            "0        0.0           37.0           252.0\n",
            "1        0.0          185.0          1792.0\n",
            "2        0.0          314.0          2788.0\n",
            "3        0.0          113.0          1012.0\n"
          ]
        },
        {
          "output_type": "display_data",
          "data": {
            "text/plain": [
              "<Figure size 400x300 with 1 Axes>"
            ],
            "image/png": "[encoded data removed]"
          },
          "metadata": {}
        },
        {
          "output_type": "stream",
          "name": "stdout",
          "text": [
            "        ARPU purchase_count visit_frequency\n",
            "        mean           mean            mean\n",
            "cluster                                    \n",
            "0        0.0           37.0           252.0\n",
            "1        0.0          185.0          1792.0\n",
            "2        0.0          314.0          2788.0\n",
            "3        0.0          113.0          1012.0\n"
          ]
        }
      ]
    },
    {
      "cell_type": "code",
      "source": [
        "sku_count = df_new.groupby('cluster')['CUST_CODE'].nunique()\n",
        "print(sku_count)"
      ],
      "metadata": {
        "colab": {
          "base_uri": "https://localhost:8080/"
        },
        "id": "oevhFh2voFIt",
        "outputId": "f627817a-d91a-4390-9d4d-ec70697d1d5a"
      },
      "execution_count": 31,
      "outputs": [
        {
          "output_type": "stream",
          "name": "stdout",
          "text": [
            "cluster\n",
            "0    3213\n",
            "1      57\n",
            "2      21\n",
            "3     148\n",
            "Name: CUST_CODE, dtype: int64\n"
          ]
        }
      ]
    },
    {
      "cell_type": "markdown",
      "metadata": {
        "id": "OyRLmd4xtftW"
      },
      "source": [
        "# Analytics"
      ]
    },
    {
      "cell_type": "code",
      "execution_count": 39,
      "metadata": {
        "id": "LxQrn0RTtftY",
        "colab": {
          "base_uri": "https://localhost:8080/"
        },
        "outputId": "d7f5ec53-56b7-4e82-de12-ca0de4cb2af3"
      },
      "outputs": [
        {
          "output_type": "execute_result",
          "data": {
            "text/plain": [
              "0   2007-10-19\n",
              "1   2008-03-28\n",
              "2   2008-06-05\n",
              "3   2006-12-13\n",
              "4   2007-07-13\n",
              "Name: SHOP_DATE, dtype: datetime64[ns]"
            ]
          },
          "metadata": {},
          "execution_count": 39
        }
      ],
      "source": [
        "df['SHOP_DATE'] = pd.to_datetime(df['SHOP_DATE'], format='%Y%m%d')\n",
        "df['SHOP_DATE'].head()"
      ]
    },
    {
      "cell_type": "code",
      "execution_count": 40,
      "metadata": {
        "id": "w33VB8vAtftY",
        "colab": {
          "base_uri": "https://localhost:8080/"
        },
        "outputId": "a5d2e12e-914f-46bc-d378-4b8c55f2cd69"
      },
      "outputs": [
        {
          "output_type": "stream",
          "name": "stdout",
          "text": [
            "<class 'pandas.core.frame.DataFrame'>\n",
            "Int64Index: 0 entries\n",
            "Data columns (total 11 columns):\n",
            " #   Column                   Non-Null Count  Dtype         \n",
            "---  ------                   --------------  -----         \n",
            " 0   SHOP_DATE                0 non-null      datetime64[ns]\n",
            " 1   QUANTITY                 0 non-null      int64         \n",
            " 2   SPEND                    0 non-null      float64       \n",
            " 3   PROD_CODE                0 non-null      object        \n",
            " 4   CUST_CODE                0 non-null      object        \n",
            " 5   BASKET_ID                0 non-null      int64         \n",
            " 6   BASKET_DOMINANT_MISSION  0 non-null      object        \n",
            " 7   ARPU                     0 non-null      float64       \n",
            " 8   average_spending         0 non-null      float64       \n",
            " 9   purchase_count           0 non-null      int64         \n",
            " 10  visit_frequency          0 non-null      int64         \n",
            "dtypes: datetime64[ns](1), float64(3), int64(4), object(3)\n",
            "memory usage: 0.0+ bytes\n"
          ]
        }
      ],
      "source": [
        "# create new df which nan valuues in CUST_CODE\n",
        "df_non_member = df[df['CUST_CODE'].isna()]\n",
        "df_non_member.info()\n"
      ]
    },
    {
      "cell_type": "markdown",
      "metadata": {
        "id": "pOarIMAMtftZ"
      },
      "source": [
        "### non-member sum spending"
      ]
    },
    {
      "cell_type": "code",
      "execution_count": 41,
      "metadata": {
        "id": "2HyDdekRtftZ",
        "colab": {
          "base_uri": "https://localhost:8080/"
        },
        "outputId": "5de70d76-9a26-4fe5-cd52-6795d7dcfd77"
      },
      "outputs": [
        {
          "output_type": "execute_result",
          "data": {
            "text/plain": [
              "Series([], Name: SPEND, dtype: float64)"
            ]
          },
          "metadata": {},
          "execution_count": 41
        }
      ],
      "source": [
        "# non member's average spending group by df_non_member['BASKET_ID']\n",
        "df_non_member.groupby('BASKET_ID')['SPEND'].mean()\n"
      ]
    },
    {
      "cell_type": "code",
      "execution_count": 42,
      "metadata": {
        "id": "P7C8c2fPtfta",
        "colab": {
          "base_uri": "https://localhost:8080/"
        },
        "outputId": "d2cbcbf5-c5f0-41c2-8ca3-071f777585a1"
      },
      "outputs": [
        {
          "output_type": "execute_result",
          "data": {
            "text/plain": [
              "nan"
            ]
          },
          "metadata": {},
          "execution_count": 42
        }
      ],
      "source": [
        "# non member's average speding per basket\n",
        "df_non_member.groupby('BASKET_ID')['SPEND'].mean().mean()\n"
      ]
    },
    {
      "cell_type": "markdown",
      "metadata": {
        "id": "qjOiOINStftb"
      },
      "source": [
        "# member"
      ]
    },
    {
      "cell_type": "code",
      "execution_count": null,
      "metadata": {
        "id": "5UBjs2lqtftb"
      },
      "outputs": [],
      "source": [
        "df_member = df[df['CUST_CODE'].notna()]\n",
        "df_member.head()\n"
      ]
    },
    {
      "cell_type": "code",
      "execution_count": null,
      "metadata": {
        "id": "nTCtwHyVtftc"
      },
      "outputs": [],
      "source": [
        "df_member['SPEND'].sum()"
      ]
    },
    {
      "cell_type": "code",
      "execution_count": null,
      "metadata": {
        "id": "oMpxW42Vtftc"
      },
      "outputs": [],
      "source": [
        "df_member.groupby('BASKET_ID')['SPEND'].mean().mean()\n"
      ]
    },
    {
      "cell_type": "code",
      "execution_count": null,
      "metadata": {
        "id": "L0Rfiumgtftd"
      },
      "outputs": [],
      "source": [
        "df_member[\"BASKET_ID\"].nunique()"
      ]
    },
    {
      "cell_type": "code",
      "execution_count": null,
      "metadata": {
        "id": "qqABM-jTtfte"
      },
      "outputs": [],
      "source": [
        "df_non_member[\"BASKET_ID\"].nunique()"
      ]
    },
    {
      "cell_type": "code",
      "execution_count": null,
      "metadata": {
        "id": "07nmRJ5ztfte"
      },
      "outputs": [],
      "source": [
        "sum_basket_id = df_member[\"BASKET_ID\"].nunique() + df_non_member[\"BASKET_ID\"].nunique()\n",
        "print(f\"unique basket id:\",sum_basket_id)\n",
        "\n",
        "sum_NMB_BASKET_ID = df_non_member[\"BASKET_ID\"].nunique()\n",
        "print(f\"sum non member basket id:\",sum_NMB_BASKET_ID)\n",
        "print(f\"non member basket id percentage:\",sum_NMB_BASKET_ID/sum_basket_id*100,\"%\")\n",
        "\n",
        "sum_MB_BASKET_ID = df_member[\"BASKET_ID\"].nunique()\n",
        "print(f\"sum member basket id:\",sum_MB_BASKET_ID)\n",
        "print(f\"member basket id percentage:\",sum_MB_BASKET_ID/sum_basket_id*100,\"%\")\n",
        "\n"
      ]
    },
    {
      "cell_type": "markdown",
      "metadata": {
        "id": "B0So2kYztftf"
      },
      "source": [
        "# first item purchase"
      ]
    },
    {
      "cell_type": "code",
      "execution_count": null,
      "metadata": {
        "id": "FyMFOE5rtftg"
      },
      "outputs": [],
      "source": [
        "# df_member sort by SHOP_DATE\n",
        "df_member.sort_values(by=['SHOP_DATE'], inplace=True)\n",
        "df_member.head()"
      ]
    },
    {
      "cell_type": "code",
      "execution_count": null,
      "metadata": {
        "id": "pJSXnd_1tfth"
      },
      "outputs": [],
      "source": [
        "df_item = df_member[['SHOP_DATE', 'QUANTITY', 'CUST_CODE', 'PROD_CODE', 'PROD_CODE_10']]\n",
        "df_item.info()"
      ]
    },
    {
      "cell_type": "code",
      "execution_count": null,
      "metadata": {
        "id": "upD8RMpktfth"
      },
      "outputs": [],
      "source": [
        "# df_item filter only first shop_date for each customer\n",
        "df_item_first = df_item.groupby('CUST_CODE')['SHOP_DATE'].min().reset_index()\n",
        "df_item_first.info()\n"
      ]
    },
    {
      "cell_type": "code",
      "execution_count": null,
      "metadata": {
        "id": "R4v2VsR0tfti"
      },
      "outputs": [],
      "source": [
        "df_item_first"
      ]
    },
    {
      "cell_type": "code",
      "execution_count": null,
      "metadata": {
        "id": "zXS7O3aitfti"
      },
      "outputs": [],
      "source": [
        "# filter other columns in df_item_first\n",
        "df_item_first_fill = df_item.merge(df_item_first, on=['CUST_CODE', 'SHOP_DATE'], how='inner')\n",
        "df_item_first_fill.info()\n",
        "\n"
      ]
    },
    {
      "cell_type": "code",
      "execution_count": null,
      "metadata": {
        "id": "vq1whEGMtfti"
      },
      "outputs": [],
      "source": [
        "df_item_first_fill.head(10)"
      ]
    },
    {
      "cell_type": "code",
      "execution_count": null,
      "metadata": {
        "id": "KoVdtXh5tftj"
      },
      "outputs": [],
      "source": [
        "tep5_item = df_item_first_fill['PROD_CODE'].value_counts().head()\n",
        "tep5_item\n"
      ]
    },
    {
      "cell_type": "markdown",
      "metadata": {
        "id": "pTZBVisptftj"
      },
      "source": [
        "# first item"
      ]
    },
    {
      "cell_type": "code",
      "execution_count": null,
      "metadata": {
        "id": "SFhbhC-rtftk"
      },
      "outputs": [],
      "source": [
        "# count transaction\n",
        "df_first_count = df_item_first_fill.groupby(['PROD_CODE', 'PROD_CODE_10']).size().reset_index(name='counts').sort_values(by=['counts'], ascending=False)\n",
        "\n",
        "# count quantity\n",
        "df_first_sum = df_item_first_fill.groupby(['PROD_CODE', 'PROD_CODE_10'])['QUANTITY'].sum().reset_index(name='sum').sort_values(by=['sum'], ascending=False)\n",
        "\n"
      ]
    },
    {
      "cell_type": "code",
      "execution_count": null,
      "metadata": {
        "id": "7tgacEMAtftk"
      },
      "outputs": [],
      "source": [
        "# merge df_non_member_sum and df_non_member_count by PROD_CODE_10\n",
        "df_first_merge = pd.merge(df_first_sum, df_first_count, on=['PROD_CODE_10', 'PROD_CODE'], how='inner')\n",
        "df_first_merge.nlargest(10, 'counts')"
      ]
    },
    {
      "cell_type": "code",
      "execution_count": null,
      "metadata": {
        "id": "dcTDNm9Otftl"
      },
      "outputs": [],
      "source": [
        "# df['SHOP_DATE'] = pd.to_datetime(df['SHOP_DATE'], format='%Y%m%d')\n",
        "# df['SHOP_DATE'].head()"
      ]
    },
    {
      "cell_type": "code",
      "execution_count": null,
      "metadata": {
        "id": "T_1dl9Oltftl"
      },
      "outputs": [],
      "source": [
        "# df_item_first_fill['PROD_CODE_10'].value_counts().head()"
      ]
    },
    {
      "cell_type": "markdown",
      "metadata": {
        "id": "BLmTNcj5tftm"
      },
      "source": [
        "# member"
      ]
    },
    {
      "cell_type": "code",
      "execution_count": null,
      "metadata": {
        "id": "58KJbFtytftm"
      },
      "outputs": [],
      "source": [
        "df_member_count = df_member.groupby(['PROD_CODE', 'PROD_CODE_10']).size().reset_index(name='counts').sort_values(by=['counts'], ascending=False)\n",
        "\n",
        "df_member_sum = df_member.groupby(['PROD_CODE', 'PROD_CODE_10'])['QUANTITY'].sum().reset_index(name='sum').sort_values(by=['sum'], ascending=False)\n",
        "\n"
      ]
    },
    {
      "cell_type": "code",
      "execution_count": null,
      "metadata": {
        "id": "Ik6VnZRatftm"
      },
      "outputs": [],
      "source": [
        "# merge df_non_member_sum and df_non_member_count by PROD_CODE_10\n",
        "df_member_merge = pd.merge(df_member_sum, df_member_count, on=['PROD_CODE_10', 'PROD_CODE'], how='inner')\n",
        "df_member_merge.nlargest(10, 'counts')"
      ]
    },
    {
      "cell_type": "markdown",
      "metadata": {
        "id": "kf0xS6aLtftn"
      },
      "source": [
        "# non-member"
      ]
    },
    {
      "cell_type": "code",
      "execution_count": null,
      "metadata": {
        "id": "_H3MRh-7tfto"
      },
      "outputs": [],
      "source": [
        "df_non_member_count = df_non_member.groupby(['PROD_CODE', 'PROD_CODE_10']).size().reset_index(name='counts').sort_values(by=['counts'], ascending=False)\n",
        "\n",
        "df_non_member_sum = df_non_member.groupby(['PROD_CODE', 'PROD_CODE_10'])['QUANTITY'].sum().reset_index(name='sum').sort_values(by=['sum'], ascending=False)\n"
      ]
    },
    {
      "cell_type": "code",
      "execution_count": null,
      "metadata": {
        "id": "80m3sqQjtftp"
      },
      "outputs": [],
      "source": [
        "# merge df_non_member_sum and df_non_member_count by PROD_CODE_10\n",
        "df_non_member_merge = pd.merge(df_non_member_sum, df_non_member_count, on=['PROD_CODE_10', 'PROD_CODE'], how='inner')\n",
        "df_non_member_merge.nlargest(10, 'counts')"
      ]
    },
    {
      "cell_type": "markdown",
      "metadata": {
        "id": "roE3D0rttftq"
      },
      "source": [
        "# come back"
      ]
    },
    {
      "cell_type": "code",
      "execution_count": null,
      "metadata": {
        "id": "X77VfK8ctftr"
      },
      "outputs": [],
      "source": [
        "#\n",
        "df_member.info()"
      ]
    },
    {
      "cell_type": "code",
      "execution_count": null,
      "metadata": {
        "id": "NTa5OwoMtfts"
      },
      "outputs": [],
      "source": [
        "# df_member['SHOP_WEEK'] convert to string\n",
        "df_member['SHOP_WEEK'] = df_member['SHOP_WEEK'].astype(str)\n"
      ]
    },
    {
      "cell_type": "code",
      "execution_count": null,
      "metadata": {
        "id": "HMFAtVSntfts"
      },
      "outputs": [],
      "source": [
        "df_2008 = df_member[df_member['SHOP_WEEK'].str.contains('2008')]\n",
        "df_2008"
      ]
    },
    {
      "cell_type": "code",
      "execution_count": null,
      "metadata": {
        "id": "_S2yw4oStftt"
      },
      "outputs": [],
      "source": [
        "df_2007 = df_member[df_member['SHOP_WEEK'].str.contains('2007')]\n",
        "df_2007"
      ]
    },
    {
      "cell_type": "code",
      "execution_count": null,
      "metadata": {
        "id": "oA1pC7Vytftt"
      },
      "outputs": [],
      "source": [
        "df_2007_comeback = df_2007.pivot_table(index='CUST_CODE', columns='SHOP_WEEK', values='SPEND', aggfunc='count')\n",
        "df_2007_comeback"
      ]
    },
    {
      "cell_type": "code",
      "execution_count": null,
      "metadata": {
        "id": "td7rvMM4tftu"
      },
      "outputs": [],
      "source": [
        "# fill nan value to 0\n",
        "df_2007_comeback.fillna(0, inplace=True)\n",
        "# fill other value to 1\n",
        "df_2007_comeback[df_2007_comeback > 0] = 1\n",
        "df_2007_comeback"
      ]
    },
    {
      "cell_type": "code",
      "execution_count": null,
      "metadata": {
        "id": "fMWbhbdRtftv"
      },
      "outputs": [],
      "source": [
        "# df_2007_comeback to excel\n",
        "df_2007_comeback.to_csv('df_2007_comeback.csv')"
      ]
    },
    {
      "cell_type": "code",
      "execution_count": null,
      "metadata": {
        "id": "uxtM2ykitftw"
      },
      "outputs": [],
      "source": [
        "df_2008_comeback = df_2008.pivot_table(index='CUST_CODE', columns='SHOP_WEEK', values='SPEND', aggfunc='count')\n",
        "# fill nan value to 0\n",
        "df_2008_comeback.fillna(0, inplace=True)\n",
        "# fill other value to 1\n",
        "df_2008_comeback[df_2008_comeback > 0] = 1\n"
      ]
    },
    {
      "cell_type": "code",
      "execution_count": null,
      "metadata": {
        "id": "pm_ALvcWtftx"
      },
      "outputs": [],
      "source": [
        "df_2008_comeback.to_csv('df_2008_comeback.csv')"
      ]
    },
    {
      "cell_type": "code",
      "execution_count": null,
      "metadata": {
        "id": "ISPuwK09tfty"
      },
      "outputs": [],
      "source": []
    }
  ],
  "metadata": {
    "kernelspec": {
      "display_name": "base",
      "language": "python",
      "name": "python3"
    },
    "language_info": {
      "codemirror_mode": {
        "name": "ipython",
        "version": 3
      },
      "file_extension": ".py",
      "mimetype": "text/x-python",
      "name": "python",
      "nbconvert_exporter": "python",
      "pygments_lexer": "ipython3",
      "version": "3.10.10"
    },
    "orig_nbformat": 4,
    "colab": {
      "provenance": [],
      "collapsed_sections": [
        "qjOiOINStftb",
        "B0So2kYztftf",
        "pTZBVisptftj",
        "BLmTNcj5tftm",
        "kf0xS6aLtftn"
      ],
      "include_colab_link": true
    }
  },
  "nbformat": 4,
  "nbformat_minor": 0
}